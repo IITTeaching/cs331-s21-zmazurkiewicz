{
    "nbformat_minor": 0,
    "nbformat": 4,
    "metadata": {
        "language_info": {
            "version": "3.5.2",
            "pygments_lexer": "ipython3",
            "nbconvert_exporter": "python",
            "name": "python",
            "mimetype": "text/x-python",
            "file_extension": ".py",
            "codemirror_mode": {
                "version": 3,
                "name": "ipython"
            }
        },
        "kernelspec": {
            "name": "python3",
            "language": "python",
            "display_name": "Python 3"
        },
        "org": null
    },
    "cells": [
        {
            "source": [
                "#### Linked Structures:PROPERTIES:\n\n"
            ],
            "metadata": {
            },
            "cell_type": "markdown"
        },
        {
            "source": [
                "##### Agenda\n\n"
            ],
            "metadata": {
            },
            "cell_type": "markdown"
        },
        {
            "source": [
                "1.  Motives\n2.  Objectives\n3.  Mechanisms\n4.  Linked Data Structures\n\n"
            ],
            "metadata": {
            },
            "cell_type": "markdown"
        },
        {
            "source": [
                "##### 1.  Motives\n\n"
            ],
            "metadata": {
            },
            "cell_type": "markdown"
        },
        {
            "source": [
                "-   deleting the first element of an arraylist is in linear time\n\n"
            ],
            "metadata": {
            },
            "cell_type": "markdown"
        },
        {
            "source": [
                "%matplotlib inline\nimport matplotlib.pyplot as plt\nimport numpy as np\nfrom timeit import timeit\n\ndef time_array_front_insert_delete(n): # repeatedly append to the end and delete first\n    return timeit('lst.insert(0, None) ; del lst[0]',\n                    'lst = list(range({}))'.format(n),\n                    number=1000)\n\nns = np.linspace(100, 10000, 50)\nplt.plot(ns, [time_array_front_insert_delete(int(n)) for n in ns], 'ro')\nplt"
            ],
            "outputs": [
                {
                    "text": "# Out[94]:\n<module 'matplotlib.pyplot' from '/Users/lord_pretzel/.pyenv/versions/3.9.0/lib/python3.9/site-packages/matplotlib/pyplot.py'>",
                    "output_type": "stream",
                    "name": "stdout"
                },
                {
                    "output_type": "display_data",
                    "metadata": {
                    },
                    "data": {
                        "text/plain": "<matplotlib.figure.Figure>",
                        "image/png": "[encoded data removed]"
                    }
                }
            ],
            "metadata": {
            },
            "execution_count": 1,
            "cell_type": "code"
        },
        {
            "source": [
                "-   however, as discussed deleting from the end is $O(1)$ in both our implementation of `MyActualArrayList` and the Python list implementation\n\n"
            ],
            "metadata": {
            },
            "cell_type": "markdown"
        },
        {
            "source": [
                "%matplotlib inline\nimport matplotlib.pyplot as plt\nimport numpy as np\nfrom timeit import timeit\n\ndef time_array_end_delete(n):\n    return timeit('lst.append(None) ; del lst[{} - 1]'.format(n),\n                    'lst = list(range({}))'.format(n),\n                    number=100000) # repeat this often enough to not measure the setup time of creating the list which is linear time\n\nns = np.linspace(100, 10000, 50)\nplt.plot(ns, [time_array_end_delete(int(n)) for n in ns], 'ro')\nplt"
            ],
            "outputs": [
                {
                    "text": "# Out[95]:\n<module 'matplotlib.pyplot' from '/Users/lord_pretzel/.pyenv/versions/3.9.0/lib/python3.9/site-packages/matplotlib/pyplot.py'>",
                    "output_type": "stream",
                    "name": "stdout"
                },
                {
                    "output_type": "display_data",
                    "metadata": {
                    },
                    "data": {
                        "text/plain": "<matplotlib.figure.Figure>",
                        "image/png": "[encoded data removed]"
                    }
                }
            ],
            "metadata": {
            },
            "execution_count": 1,
            "cell_type": "code"
        },
        {
            "source": [
                "from timeit import timeit\n\n# create the list upfront to not measure time of append\nmax = 10000\nmylst = MyActualArrayList()\nfor i in range(0,max):\n    mylst.append(1)\n\n# report repeated insertion / deletion at the end\ndef time_our_array_list_end_delete(n):\n    return timeit('lst.append(None); del lst[{} - 1]'.format(n),\n                  'from __main__ import MyActualArrayList; '\n                  'lst = mylst; '\n                  'lst.len = {}'.format(n),\n                  globals=globals(),\n                  number=10000)\n\nns = np.linspace(100, max, 50)\nplt.plot(ns, [time_our_array_list_end_delete(int(n)) for n in ns], 'ro')\nplt"
            ],
            "outputs": [
                {
                    "text": "# Out[96]:\n<module 'matplotlib.pyplot' from '/Users/lord_pretzel/.pyenv/versions/3.9.0/lib/python3.9/site-packages/matplotlib/pyplot.py'>",
                    "output_type": "stream",
                    "name": "stdout"
                },
                {
                    "output_type": "display_data",
                    "metadata": {
                    },
                    "data": {
                        "text/plain": "<matplotlib.figure.Figure>",
                        "image/png": "[encoded data removed]"
                    }
                }
            ],
            "metadata": {
            },
            "execution_count": 1,
            "cell_type": "code"
        },
        {
            "source": [
                "-   note that this is constant time!\n\n"
            ],
            "metadata": {
            },
            "cell_type": "markdown"
        },
        {
            "source": [
                "###### Runtime of concatenating lists\n\n"
            ],
            "metadata": {
            },
            "cell_type": "markdown"
        },
        {
            "source": [
                "# consider:\n\ndef concatenate(arr1, arr2):\n    \"\"\"Concatenates the contents of arr1 and arr2 as efficiently (time-wise)\n    as possible, so that the resulting structure can be used to index all\n    combined elements (arr1's followed by arr2's).\"\"\"\n\n    # option 1: O(?)\n    for x in arr2:\n        arr1.append(x)\n        return arr1\n\ndef concatenate2(arr1, arr2):\n    # option 2: O(?)\n    arr1.extend(arr2)\n    return arr1\n\ndef concatenate3(arr1, arr2):\n    # option 3: O(?)\n    return arr1 + arr2"
            ],
            "outputs": [
                {
                    "text": ":results:\n # Out[33]:\n :end:",
                    "output_type": "stream",
                    "name": "stdout"
                }
            ],
            "metadata": {
            },
            "execution_count": 1,
            "cell_type": "code"
        },
        {
            "source": [
                "-   this is linear time in the length of the input lists\n\n"
            ],
            "metadata": {
            },
            "cell_type": "markdown"
        },
        {
            "source": [
                "%matplotlib inline\nimport matplotlib.pyplot as plt\nimport numpy as np\nfrom timeit import timeit\n\ndef time_array_front_insert_delete(n):\n    return timeit('for x in lst2: lst1.append(x)',\n                    'lst1 = list(range({})); lst2 = list(range({}))'.format(n,n),\n                    number=1000)\n\nns = np.linspace(100, 10000, 50)\nplt.plot(ns, [time_array_front_insert_delete(int(n)) for n in ns], 'ro')\nplt"
            ],
            "outputs": [
                {
                    "text": ":results:\n # Out[98]:\n : <module 'matplotlib.pyplot' from '/Users/lord_pretzel/.pyenv/versions/3.9.0/lib/python3.9/site-packages/matplotlib/pyplot.py'>\n \n :end:",
                    "output_type": "stream",
                    "name": "stdout"
                },
                {
                    "output_type": "display_data",
                    "metadata": {
                    },
                    "data": {
                        "text/plain": "<matplotlib.figure.Figure>",
                        "image/png": "[encoded data removed]"
                    }
                }
            ],
            "metadata": {
            },
            "execution_count": 1,
            "cell_type": "code"
        },
        {
            "source": [
                "##### 1.  Objectives\n\n"
            ],
            "metadata": {
            },
            "cell_type": "markdown"
        },
        {
            "source": [
                "We would like a new data storage mechanism for constructing data structures that:\n\n-   does not require monolithic, contiguous memory allocation\n-   allows individual elements to be flexibly and efficiently reorganized\n    -   e.g., maybe even concatenation could be efficient\n-   and preserves the ability to locate (e.g., via position) and iterate over elements\n\n"
            ],
            "metadata": {
            },
            "cell_type": "markdown"
        },
        {
            "source": [
                "##### 1.  Mechanisms\n\n"
            ],
            "metadata": {
            },
            "cell_type": "markdown"
        },
        {
            "source": [
                "###### 3.1. Two-Element Lists\n\n"
            ],
            "metadata": {
            },
            "cell_type": "markdown"
        },
        {
            "source": [
                "# data items\ni1 = 'lions'\ni2 = 'tigers'\ni3 = 'bears'\ni4 = 'oh, my'"
            ],
            "outputs": [],
            "metadata": {
            },
            "execution_count": 1,
            "cell_type": "code"
        },
        {
            "source": [
                "# creating individual \"links\"\n#l1 = [,]\n#l2 = [,]\n#l3 = [,]\n#l4 = [,]"
            ],
            "outputs": [],
            "metadata": {
            },
            "execution_count": 1,
            "cell_type": "code"
        },
        {
            "source": [
                "# link-ing them together"
            ],
            "outputs": [],
            "metadata": {
            },
            "execution_count": 1,
            "cell_type": "code"
        },
        {
            "source": [
                "# iteration"
            ],
            "outputs": [],
            "metadata": {
            },
            "execution_count": 1,
            "cell_type": "code"
        },
        {
            "source": [
                "# prepending\n\ni0 = 'walruses'"
            ],
            "outputs": [],
            "metadata": {
            },
            "execution_count": 1,
            "cell_type": "code"
        },
        {
            "source": [
                "# insertion\n\ni2_5 = 'elephants'"
            ],
            "outputs": [],
            "metadata": {
            },
            "execution_count": 1,
            "cell_type": "code"
        },
        {
            "source": [
                "# deletion"
            ],
            "outputs": [],
            "metadata": {
            },
            "execution_count": 1,
            "cell_type": "code"
        },
        {
            "source": [
                "###### 3.2. \"Link\" objects\n\n"
            ],
            "metadata": {
            },
            "cell_type": "markdown"
        },
        {
            "source": [
                "class Link:\n    def __init__(self, val, next=None):\n        self.val = val\n        self.next = next"
            ],
            "outputs": [],
            "metadata": {
            },
            "execution_count": 1,
            "cell_type": "code"
        },
        {
            "source": [
                "# manually constructing a list"
            ],
            "outputs": [],
            "metadata": {
            },
            "execution_count": 1,
            "cell_type": "code"
        },
        {
            "source": [
                "# prepending\n\ndef prepend(l, val):\n    pass"
            ],
            "outputs": [],
            "metadata": {
            },
            "execution_count": 1,
            "cell_type": "code"
        },
        {
            "source": [
                "l = None\nfor x in range(10):\n    l = prepend(l, x)"
            ],
            "outputs": [],
            "metadata": {
            },
            "execution_count": 1,
            "cell_type": "code"
        },
        {
            "source": [
                "# iterator\n\ndef link_iterator(l):\n    yield"
            ],
            "outputs": [],
            "metadata": {
            },
            "execution_count": 1,
            "cell_type": "code"
        },
        {
            "source": [
                "for x in link_iterator(l):\n    print(x)"
            ],
            "outputs": [],
            "metadata": {
            },
            "execution_count": 1,
            "cell_type": "code"
        },
        {
            "source": [
                "# iteration based on a recursive pattern\n\ndef link_iterator_rec(l):\n    yield"
            ],
            "outputs": [],
            "metadata": {
            },
            "execution_count": 1,
            "cell_type": "code"
        },
        {
            "source": [
                "for x in link_iterator_rec(l):\n    print(x)"
            ],
            "outputs": [],
            "metadata": {
            },
            "execution_count": 1,
            "cell_type": "code"
        },
        {
            "source": [
                "##### 1.  Linked Data Structures\n\n"
            ],
            "metadata": {
            },
            "cell_type": "markdown"
        },
        {
            "source": [
                "###### 4.1 Linked List\n\n"
            ],
            "metadata": {
            },
            "cell_type": "markdown"
        },
        {
            "source": [
                "class LinkedList:\n    class Link:\n        def __init__(self, val, next=None):\n            self.val = val\n            self.next = next\n\n    def __init__(self):\n        self.head = None\n\n    def prepend(self, val):\n        pass\n\n    def __iter__(self):\n        pass\n\n    def __repr__(self):\n        return '[' + ', '.join(str(x) for x in self) + ']'"
            ],
            "outputs": [],
            "metadata": {
            },
            "execution_count": 1,
            "cell_type": "code"
        },
        {
            "source": [
                "l = LinkedList()\nfor x in range(10):\n    l.prepend(x)\nl"
            ],
            "outputs": [],
            "metadata": {
            },
            "execution_count": 1,
            "cell_type": "code"
        },
        {
            "source": [
                "###### 4.2 Binary Tree\n\n"
            ],
            "metadata": {
            },
            "cell_type": "markdown"
        },
        {
            "source": [
                "class BinaryLink:\n    def __init__(self, val, left=None, right=None):\n        self.val = val\n        self.left = left\n        self.right = right"
            ],
            "outputs": [],
            "metadata": {
            },
            "execution_count": 1,
            "cell_type": "code"
        },
        {
            "source": [
                "# manual construction of a \"tree\" representing the expression ((5+3)*(8-4))\nt = BinaryLink('*')\nt.left = BinaryLink('+')\nt.left.left  = BinaryLink('5')\nt.left.right = BinaryLink('3')\nt.right = BinaryLink('-')\nt.right.left  = BinaryLink('8')\nt.right.right = BinaryLink('4')"
            ],
            "outputs": [],
            "metadata": {
            },
            "execution_count": 1,
            "cell_type": "code"
        },
        {
            "source": [
                "def print_expr_tree(t):\n    if t:\n        if not t.val.isdigit():\n            print('(', end='')\n        print_expr_tree(t.left)\n        print(t.val, end='')\n        print_expr_tree(t.right)\n        if not t.val.isdigit():\n            print(')', end='')"
            ],
            "outputs": [],
            "metadata": {
            },
            "execution_count": 1,
            "cell_type": "code"
        },
        {
            "source": [
                "print_expr_tree(t)"
            ],
            "outputs": [],
            "metadata": {
            },
            "execution_count": 1,
            "cell_type": "code"
        },
        {
            "source": [
                "###### 4.3 N-ary Tree\n\n"
            ],
            "metadata": {
            },
            "cell_type": "markdown"
        },
        {
            "source": [
                "class NaryLink:\n    def __init__(self, val, n=2):\n        self.val = val\n        self.children = [None] * n\n\n    def __getitem__(self, idx):\n        return self.children[idx]\n\n    def __setitem__(self, idx, val):\n        self.children[idx] = val\n\n    def __iter__(self):\n        for c in self.children:\n            yield c"
            ],
            "outputs": [
                {
                    "text": "# Out[183]:",
                    "output_type": "stream",
                    "name": "stdout"
                }
            ],
            "metadata": {
            },
            "execution_count": 1,
            "cell_type": "code"
        },
        {
            "source": [
                "root = NaryLink('Kingdoms', n=5)\n\nroot[0] = NaryLink('Animalia', n=35)\nroot[1] = NaryLink('Plantae', n=12)\nroot[2] = NaryLink('Fungi', n=7)\nroot[3] = NaryLink('Protista', n=5)\nroot[4] = NaryLink('Monera', n=5)\n\nroot[2][0] = NaryLink('Chytridiomycota')\nroot[2][1] = NaryLink('Blastocladiomycota')\nroot[2][2] = NaryLink('Glomeromycota')\nroot[2][3] = NaryLink('Ascomycota')\nroot[2][4] = NaryLink('Basidiomycota')\nroot[2][5] = NaryLink('Microsporidia')\nroot[2][6] = NaryLink('Neocallimastigomycota')\n\ndef tree_iter(root):\n    if root:\n        yield root.val\n        for c in root:\n            yield from tree_iter(c)"
            ],
            "outputs": [
                {
                    "text": "# Out[186]:",
                    "output_type": "stream",
                    "name": "stdout"
                }
            ],
            "metadata": {
            },
            "execution_count": 1,
            "cell_type": "code"
        },
        {
            "source": [
                "for x in tree_iter(root):\n    print(x)"
            ],
            "outputs": [
                {
                    "text": "# Out[187]:",
                    "output_type": "stream",
                    "name": "stdout"
                }
            ],
            "metadata": {
            },
            "execution_count": 1,
            "cell_type": "code"
        }
    ]
}
