{
    "nbformat_minor": 0,
    "nbformat": 4,
    "metadata": {
        "language_info": {
            "version": "3.5.2",
            "pygments_lexer": "ipython3",
            "nbconvert_exporter": "python",
            "name": "python",
            "mimetype": "text/x-python",
            "file_extension": ".py",
            "codemirror_mode": {
                "version": 3,
                "name": "ipython"
            }
        },
        "kernelspec": {
            "name": "python3",
            "language": "python",
            "display_name": "Python 3"
        },
        "org": null
    },
    "cells": [
        {
            "source": [
                "#### The Array-Backed List:PROPERTIES:\n\n"
            ],
            "metadata": {
            },
            "cell_type": "markdown"
        },
        {
            "source": [
                "##### Agenda\n\n"
            ],
            "metadata": {
            },
            "cell_type": "markdown"
        },
        {
            "source": [
                "1.  The List **Abstract Data Type** (ADT)\n2.  A List **Data Structure**\n3.  Our List API\n4.  Getting started: how to store our data?\n5.  Built-in `list` as array\n6.  The `ArrayList` data structure\n\n"
            ],
            "metadata": {
            },
            "cell_type": "markdown"
        },
        {
            "source": [
                "##### 1.  The List **Abstract Data Type** (ADT)\n\n"
            ],
            "metadata": {
            },
            "cell_type": "markdown"
        },
        {
            "source": [
                "An **abstract data type (ADT)** defines a *conceptual model* for how data\nmay be stored and accessed.\n\nA **list ADT** is a data container where:\n\n-   values are ordered in a *sequence*\n-   each value has at most one preceding and one succeeding value\n-   a given value may appear more than once in a list\n\n`l = [1,1,3,4,1,3]`\n\nOther common ADTs (some of which we'll explore later) include:\n\n-   Stacks\n-   Queues\n-   Priority Queues\n-   Maps\n-   Graphs\n\n"
            ],
            "metadata": {
            },
            "cell_type": "markdown"
        },
        {
            "source": [
                "##### 1.  A List **Data Structure**\n\n"
            ],
            "metadata": {
            },
            "cell_type": "markdown"
        },
        {
            "source": [
                "A **list data structure** is a *concrete implementation* of the list ADT\nin some programming language, which, in addition to adhering to the\nbasic premises of the ADT, will also typically support operations that:\n\n-   access values in the list by their position (index)\n-   append and insert new values into the list\n-   remove values from the list\n\nThe implementation of any data structure will generally rely on simpler,\nconstituent data types (e.g., \"primitive\" types offered by the\nlanguage), the choice of which may affect the runtime complexities of\nsaid operations.\n\n"
            ],
            "metadata": {
            },
            "cell_type": "markdown"
        },
        {
            "source": [
                "##### 1.  The List API\n\n"
            ],
            "metadata": {
            },
            "cell_type": "markdown"
        },
        {
            "source": [
                "The operations we'll be building into our list data structures will be based on\nthe [common](https://docs.python.org/3.6/library/stdtypes.html#common-sequence-operations) and [mutable](https://docs.python.org/3.6/library/stdtypes.html#mutable-sequence-types) sequence operations defined by the Python library.\n\n"
            ],
            "metadata": {
            },
            "cell_type": "markdown"
        },
        {
            "source": [
                "class List:\n    ### subscript-based access ###\n\n    def __getitem__(self, idx):\n        \"\"\"Implements `x = self[idx]`\"\"\"\n        pass\n\n    def __setitem__(self, idx, value):\n        \"\"\"Implements `self[idx] = value`\"\"\"\n        pass\n\n    def __delitem__(self, idx):\n        \"\"\"Implements `del self[idx]`\"\"\"\n        pass\n\n    ### stringification ###\n\n    def __repr__(self):\n        \"\"\"Supports inspection\"\"\"\n        return '[]'\n\n    def __str__(self):\n        \"\"\"Implements `str(self)`\"\"\"\n        return '[]'\n\n    ### single-element manipulation ###\n\n    def append(self, value):\n        pass\n\n    def insert(self, idx, value):\n        pass\n\n    def pop(self, idx=-1):\n        pass\n\n    def remove(self, value):\n        pass\n\n    ### predicates (T/F queries) ###\n\n    def __eq__(self, other):\n        \"\"\"Implements `self == other`\"\"\"\n        return True\n\n    def __contains__(self, value):\n        \"\"\"Implements `value in self`\"\"\"\n        return True\n\n    ### queries ###\n\n    def __len__(self):\n        \"\"\"Implements `len(self)`\"\"\"\n        return len(self.data)\n\n    def min(self):\n        pass\n\n    def max(self):\n        pass\n\n    def index(self, value, i, j):\n        pass\n\n    def count(self, value):\n        pass\n\n    ### bulk operations ###\n\n    def __add__(self, other):\n        \"\"\"Implements `self + other_array_list`\"\"\"\n        return self\n\n    def clear(self):\n        pass\n\n    def copy(self):\n        pass\n\n    def extend(self, other):\n        pass\n\n    ### iteration ###\n\n    def __iter__(self):\n        \"\"\"Supports iteration (via `iter(self)`)\"\"\"\n        pass"
            ],
            "outputs": [
                {
                    "text": "# Out[213]:",
                    "output_type": "stream",
                    "name": "stdout"
                }
            ],
            "metadata": {
            },
            "execution_count": 1,
            "cell_type": "code"
        },
        {
            "source": [
                "##### 1.  Getting started: how to store our data?\n\n"
            ],
            "metadata": {
            },
            "cell_type": "markdown"
        },
        {
            "source": [
                "class List:\n    def ini():\n        pass\n\n    def append(self, value):\n        pass\n\n    def __getitem__(self, idx):\n        \"\"\"Implements `x = self[idx]`\"\"\"\n        pass\n\n    def __setitem__(self, idx, value):\n        \"\"\"Implements `self[idx] = x`\"\"\"\n        pass\n\n    def __repr__(self):\n        \"\"\"Supports inspection\"\"\"\n        pass"
            ],
            "outputs": [
                {
                    "text": "# Out[212]:",
                    "output_type": "stream",
                    "name": "stdout"
                }
            ],
            "metadata": {
            },
            "execution_count": 1,
            "cell_type": "code"
        },
        {
            "source": [
                "##### 1.  Built-in `list` as array\n\n"
            ],
            "metadata": {
            },
            "cell_type": "markdown"
        },
        {
            "source": [
                "To use the built-in list as though it were a primitive array, we will\nconstrain ourselves to just the following APIs on a given list `lst`:\n\n1.  `lst[i]` for getting and setting values at an *existing, positive*\n    index `i`\n2.  `len(lst)` to obtain the number of slots\n3.  `lst.append(None)` to grow the list by *one slot at a time* (**later maybe not one slot at a time**)\n4.  `del lst[len(lst)-1]` to delete the last slot in a list\n\n"
            ],
            "metadata": {
            },
            "cell_type": "markdown"
        },
        {
            "source": [
                "##### 1.  The `ArrayList` data structure\n\n"
            ],
            "metadata": {
            },
            "cell_type": "markdown"
        },
        {
            "source": [
                "class MyArrayList:\n    def __init__(self):\n        self.data = []\n\n    def append(self, value):\n        self.data.append(value)\n\n    def __getitem__(self, idx):\n        \"\"\"Implements `x = self[idx]`\"\"\"\n        assert(isinstance(idx, int))\n        return self.data[idx]\n\n    def __setitem__(self, idx, value):\n        \"\"\"Implements `self[idx] = x`\"\"\"\n        assert(isinstance(idx, int))\n        self.data[idx] = value\n\n    def __delitem__(self, idx):\n        \"\"\"Implements `del self[idx]`\"\"\"\n        assert(isinstance(idx, int))\n        for i in range(idx+1, len(self.data)):\n            self.data[i-1] = self.data[i]\n        del self.data[len(self.data)-1]\n\n    def __len__(self):\n        \"\"\"Implements `len(self)`\"\"\"\n        len(self.data)\n\n    def __repr__(self):\n        \"\"\"Supports inspection\"\"\"\n        return \"[\" + \",\".join([str(x) for x in self.data]) + \"]\""
            ],
            "outputs": [
                {
                    "text": "# Out[204]:",
                    "output_type": "stream",
                    "name": "stdout"
                }
            ],
            "metadata": {
            },
            "execution_count": 1,
            "cell_type": "code"
        },
        {
            "source": [
                "x = MyArrayList()\nx.append(1)\nx.append(2)\nx.append(3)\nx"
            ],
            "outputs": [
                {
                    "text": "# Out[205]:\n[1,2,3]",
                    "output_type": "stream",
                    "name": "stdout"
                }
            ],
            "metadata": {
            },
            "execution_count": 1,
            "cell_type": "code"
        },
        {
            "source": [
                "y = MyArrayList()\ny.append(1)\ny.append(3)\ny.append(4)\ndel y[0]\ny"
            ],
            "outputs": [
                {
                    "text": "# Out[206]:\n[3,4]",
                    "output_type": "stream",
                    "name": "stdout"
                }
            ],
            "metadata": {
            },
            "execution_count": 1,
            "cell_type": "code"
        },
        {
            "source": [
                "##### 1.  The `ArrayList` data structure (now for real, not quite)\n\n"
            ],
            "metadata": {
            },
            "cell_type": "markdown"
        },
        {
            "source": [
                "-   **Array API**:\n    -   create array of size `n`\n    -   access element at position `i`\n    -   set the element at position `i`\n    -   get length of array `len(array)`\n\n"
            ],
            "metadata": {
            },
            "cell_type": "markdown"
        },
        {
            "source": [
                "class MyArray:\n\n    def __init__(self,n):\n        self.data = [None] * n\n        self.len = n\n\n    def __getitem__(self, idx):\n        \"\"\"Implements `x = self[idx]`\"\"\"\n        assert(isinstance(idx, int) and self.len > idx)\n        return self.data[idx]\n\n    def __setitem__(self, idx, value):\n        \"\"\"Implements `self[idx] = x`\"\"\"\n        assert(isinstance(idx, int) and self.len > idx)\n        self.data[idx] = value\n\n    def __len__(self):\n        \"\"\"Implements `len(self)`\"\"\"\n        return self.len\n\n    def __repr__(self):\n        \"\"\"Supports inspection\"\"\"\n        return \"[\" + \",\".join([str(x) for x in self.data]) + \"]\""
            ],
            "outputs": [
                {
                    "text": "# Out[1]:",
                    "output_type": "stream",
                    "name": "stdout"
                }
            ],
            "metadata": {
            },
            "execution_count": 1,
            "cell_type": "code"
        },
        {
            "source": [
                "x = MyArray(3)\nx[0] = 'a'\nx[1] = 'b'\nx[2] = 'c'\nx"
            ],
            "outputs": [
                {
                    "text": "# Out[35]:\n[a,b,c]",
                    "output_type": "stream",
                    "name": "stdout"
                }
            ],
            "metadata": {
            },
            "execution_count": 1,
            "cell_type": "code"
        },
        {
            "source": [
                "x[2]"
            ],
            "outputs": [
                {
                    "text": "# Out[28]:\n'c'",
                    "output_type": "stream",
                    "name": "stdout"
                }
            ],
            "metadata": {
            },
            "execution_count": 1,
            "cell_type": "code"
        },
        {
            "source": [
                "len(x)"
            ],
            "outputs": [
                {
                    "text": "# Out[36]:\n3",
                    "output_type": "stream",
                    "name": "stdout"
                }
            ],
            "metadata": {
            },
            "execution_count": 1,
            "cell_type": "code"
        },
        {
            "source": [
                "class MyActualArrayList:\n    def __init__(self,n=10):\n        self.data = MyArray(n)\n        self.len = 0\n\n    def append(self, value): # append, yah in O(n)\n        if len(self.data) <= self.len:\n            newa = MyArray(2 * len(self.data)) # n\n            for i in range(0, self.len): # n\n                newa[i] = self.data[i]   # n\n            self.data = newa             # 1\n        self.data[self.len] = value       # 1\n        self.len += 1                # 1\n\n    def __getitem__(self, idx): # O(1)\n        \"\"\"Implements `x = self[idx]`\"\"\"\n        assert(isinstance(idx, int) and idx < self.len)\n        return self.data[idx]\n\n    def __setitem__(self, idx, value): # O(1)\n        \"\"\"Implements `self[idx] = x`\"\"\"\n        assert(isinstance(idx, int) and idx < self.len)\n        self.data[idx] = value\n\n    def __delitem__(self, idx):\n        \"\"\"Implements `del self[idx]`\"\"\"\n        assert(isinstance(idx, int) and idx < self.len)\n        #print(f\"index: {idx}, array: {self.data}, {len(self.data)}\")\n        for i in range(idx+1, self.len):\n            self.data[i-1] = self.data[i]\n        #newa = MyArray(self.len - 1)\n        #for i in range(0, len(self.data) - 1):\n           # date[i] = self.data[i]\n        #self.data = newa\n        self.len += -1\n\n    def __len__(self):\n        \"\"\"Implements `len(self)`\"\"\"\n        return self.len\n\n    def __repr__(self):\n        \"\"\"Supports inspection\"\"\"\n        return self.data.data[0:self.len].__repr__()"
            ],
            "outputs": [
                {
                    "text": "# Out[41]:",
                    "output_type": "stream",
                    "name": "stdout"
                }
            ],
            "metadata": {
            },
            "execution_count": 1,
            "cell_type": "code"
        },
        {
            "source": [
                "x = MyActualArrayList(5)\nx.append(1)\nx.append(2)\nx.append(3)\nx"
            ],
            "outputs": [
                {
                    "text": "# Out[16]:\n[1, 2, 3]",
                    "output_type": "stream",
                    "name": "stdout"
                }
            ],
            "metadata": {
            },
            "execution_count": 1,
            "cell_type": "code"
        },
        {
            "source": [
                "x.data"
            ],
            "outputs": [
                {
                    "text": "# Out[17]:\n[1,2,3,None,None]",
                    "output_type": "stream",
                    "name": "stdout"
                }
            ],
            "metadata": {
            },
            "execution_count": 1,
            "cell_type": "code"
        },
        {
            "source": [
                "y = MyActualArrayList()\ny.append(1)\ny.append(3)\ny.append(4)\ndel y[1]\ny"
            ],
            "outputs": [
                {
                    "text": "# Out[18]:\n[1, 4]",
                    "output_type": "stream",
                    "name": "stdout"
                }
            ],
            "metadata": {
            },
            "execution_count": 1,
            "cell_type": "code"
        },
        {
            "source": [
                "l = []\nn = 100000\nfor i in range(0,n):\n    l.append(1)\nlen(l)"
            ],
            "outputs": [
                {
                    "text": "# Out[24]:\n100000",
                    "output_type": "stream",
                    "name": "stdout"
                }
            ],
            "metadata": {
            },
            "execution_count": 1,
            "cell_type": "code"
        },
        {
            "source": [
                "n = 100000\nl = MyActualArrayList()\nfor i in range(0,n):\n    l.append(1)\nlen(l)"
            ],
            "outputs": [
                {
                    "text": "# Out[25]:\n100000",
                    "output_type": "stream",
                    "name": "stdout"
                }
            ],
            "metadata": {
            },
            "execution_count": 1,
            "cell_type": "code"
        },
        {
            "source": [
                "##### Discussion (Runtime Complexity)\n\n"
            ],
            "metadata": {
            },
            "cell_type": "markdown"
        },
        {
            "source": [
                "-   **insertion**: amortized $O(1)$\n-   **deletion**: $O(n)$\n-   **access and element at position i**: $O(1)$\n-   **length**: $O(1)$\n\n"
            ],
            "metadata": {
            },
            "cell_type": "markdown"
        }
    ]
}
