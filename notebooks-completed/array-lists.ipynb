{
    "nbformat_minor": 0,
    "nbformat": 4,
    "metadata": {
        "language_info": {
            "version": "3.5.2",
            "pygments_lexer": "ipython3",
            "nbconvert_exporter": "python",
            "name": "python",
            "mimetype": "text/x-python",
            "file_extension": ".py",
            "codemirror_mode": {
                "version": 3,
                "name": "ipython"
            }
        },
        "kernelspec": {
            "name": "python3",
            "language": "python",
            "display_name": "Python 3"
        },
        "org": null
    },
    "cells": [
        {
            "source": [
                "\\#+TITLE CS331 - Notebooks & Code Demos\n\n"
            ],
            "metadata": {
            },
            "cell_type": "markdown"
        },
        {
            "source": [
                "## Completed Notebooks                                            :@completed-notebooks:\n\n"
            ],
            "metadata": {
            },
            "cell_type": "markdown"
        },
        {
            "source": [
                "### Python Language Introduction:PROPERTIES:\n\n"
            ],
            "metadata": {
            },
            "cell_type": "markdown"
        },
        {
            "source": [
                "#### Agenda\n\n"
            ],
            "metadata": {
            },
            "cell_type": "markdown"
        },
        {
            "source": [
                "1.  Language overview\n2.  White space sensitivity\n3.  Basic Types and Operations\n4.  Statements & Control Structures\n5.  Functions\n6.  OOP (Classes, Methods, etc.)\n7.  Namespaces and scope\n8.  Immutable Sequence Types (Strings, Ranges, Tuples)\n9.  Mutable data structures: Lists, Sets, Dictionaries\n10. Modules (libraries)\n\n"
            ],
            "metadata": {
            },
            "cell_type": "markdown"
        },
        {
            "source": [
                "#### 1.  Language overview\n\n"
            ],
            "metadata": {
            },
            "cell_type": "markdown"
        },
        {
            "source": [
                "Note: this is *not* a language course! Though I'll cover the important\nbits of the language (and standard library) that are relevant to class\nmaterial, I expect you to master the language on your own time.\n\nPython &#x2026;\n\n-   is *interpreted*\n-   is *dynamically-typed* (vs. statically typed)\n-   is *automatically memory-managed*\n-   supports *procedural*, *object-oriented*, *imperative* and\n    *functional* programming paradigms\n-   is designed (mostly) by one man: Guido van Rossum (aka “benevolent\n    dictator”), and therefore has a fairly *opinionated* design\n-   has a single reference implementation (CPython)\n-   version 3 (the most recent version) is *not backwards-compatible* with\n    version 2, though the latter is still widely used\n-   has an interesting programming philosophy: \"There should be one &#x2014;\n    and preferably only one &#x2014; obvious way to do it.\" (a.k.a. the\n    \"Pythonic\" way) &#x2014; see\n    [The Zen of Python](https://www.python.org/dev/peps/pep-0020/)\n\n"
            ],
            "metadata": {
            },
            "cell_type": "markdown"
        },
        {
            "source": [
                "#### 1.  White Space Sensitivity\n\n"
            ],
            "metadata": {
            },
            "cell_type": "markdown"
        },
        {
            "source": [
                "Python has no beginning/end block markers! Blocks must be correctly\nindented (4 spaces is the convention) to delineate them.\n\n"
            ],
            "metadata": {
            },
            "cell_type": "markdown"
        },
        {
            "source": [
                "if True:\n    print('In if-clause')\nelse:\n    print('In else-clause')"
            ],
            "outputs": [
                {
                    "text": ":results:\n In if-clause\n :end:",
                    "output_type": "stream",
                    "name": "stdout"
                }
            ],
            "metadata": {
            },
            "execution_count": 1,
            "cell_type": "code"
        },
        {
            "source": [
                "for x in range(5):\n    if x < 3:\n        print('In if loop body')\n    print('In for loop body')\nprint(\"After loop\")"
            ],
            "outputs": [
                {
                    "text": ":results:\n In if loop body\n In for loop body\n In if loop body\n In for loop body\n In if loop body\n In for loop body\n In for loop body\n In for loop body\n After loop\n :end:",
                    "output_type": "stream",
                    "name": "stdout"
                }
            ],
            "metadata": {
            },
            "execution_count": 1,
            "cell_type": "code"
        },
        {
            "source": [
                "def foo():\n    print('In function definition')\nfoo()"
            ],
            "outputs": [
                {
                    "text": ":results:\n In function definition\n :end:",
                    "output_type": "stream",
                    "name": "stdout"
                }
            ],
            "metadata": {
            },
            "execution_count": 1,
            "cell_type": "code"
        },
        {
            "source": [
                "#### 1.  Basic Types and Operations\n\n"
            ],
            "metadata": {
            },
            "cell_type": "markdown"
        },
        {
            "source": [
                "In Python, variables do not have types. *Values* have types (though they\n are not explicitly declared). A variable can be assigned different types\n of values over its lifetime.\n\n"
            ],
            "metadata": {
            },
            "cell_type": "markdown"
        },
        {
            "source": [
                "a = 2 # starts out an integer\nprint(type(a)) # the `type` function tells us the type of a value\n\na = 1.5\nprint(type(a))\n\na = 'hello'\nprint(type(a))"
            ],
            "outputs": [
                {
                    "text": ":results:\n <class 'int'>\n <class 'float'>\n <class 'str'>\n :end:",
                    "output_type": "stream",
                    "name": "stdout"
                }
            ],
            "metadata": {
            },
            "execution_count": 1,
            "cell_type": "code"
        },
        {
            "source": [
                "Note that all the types reported are *classes*. I.e., even types we are\n accustomed to thinking of as \"primitives\" (e.g., integers in Java) are\n actually instances of classes. **All values in Python are objects!**\n\nThere is no dichotomy between \"primitive\" and \"reference\" types in\nPython. **All variables in Python store references to objects.**\n\n"
            ],
            "metadata": {
            },
            "cell_type": "markdown"
        },
        {
            "source": [
                "##### Numbers\n\n"
            ],
            "metadata": {
            },
            "cell_type": "markdown"
        },
        {
            "source": [
                "# int: integers, unlimited precision\nprint(1)\nprint(500)\nprint(-123456789)\nprint(6598293784982739874982734)"
            ],
            "outputs": [
                {
                    "text": ":results:\n 1\n 500\n -123456789\n 6598293784982739874982734\n :end:",
                    "output_type": "stream",
                    "name": "stdout"
                }
            ],
            "metadata": {
            },
            "execution_count": 1,
            "cell_type": "code"
        },
        {
            "source": [
                "# basic operations\nprint(1 + 2)\nprint(1 - 2)\nprint(2 * 3)\nprint(2 * 3 + 2 * 4)\nprint(2 / 5)\nprint(2 ** 3) # exponentiation\nprint(abs(-25))"
            ],
            "outputs": [
                {
                    "text": ":results:\n 3\n -1\n 6\n 14\n 0.4\n 8\n 25\n :end:",
                    "output_type": "stream",
                    "name": "stdout"
                }
            ],
            "metadata": {
            },
            "execution_count": 1,
            "cell_type": "code"
        },
        {
            "source": [
                "# modulus (remainder) and integer division\nprint(10 % 3)\nprint(10 // 3)\nprint(11 // 3)"
            ],
            "outputs": [
                {
                    "text": ":results:\n 1\n 3\n 3\n :end:",
                    "output_type": "stream",
                    "name": "stdout"
                }
            ],
            "metadata": {
            },
            "execution_count": 1,
            "cell_type": "code"
        },
        {
            "source": [
                "# floating point is based on the IEEE double-precision standard (limit to precision!)\nprint(2.5)\nprint(-3.14159265358924352345)\nprint(1.000000000000000000000001)"
            ],
            "outputs": [
                {
                    "text": ":results:\n 2.5\n -3.1415926535892433\n 1.0\n :end:",
                    "output_type": "stream",
                    "name": "stdout"
                }
            ],
            "metadata": {
            },
            "execution_count": 1,
            "cell_type": "code"
        },
        {
            "source": [
                "# mixed arithmetic \"widens\" ints to floats\nprint(3 * 2.5)\nprint(1 / 0.3)"
            ],
            "outputs": [
                {
                    "text": ":results:\n 7.5\n 3.3333333333333335\n :end:",
                    "output_type": "stream",
                    "name": "stdout"
                }
            ],
            "metadata": {
            },
            "execution_count": 1,
            "cell_type": "code"
        },
        {
            "source": [
                "##### Booleans\n\n"
            ],
            "metadata": {
            },
            "cell_type": "markdown"
        },
        {
            "source": [
                "print(True)\nprint(False)"
            ],
            "outputs": [
                {
                    "text": ":results:\n True\n False\n :end:",
                    "output_type": "stream",
                    "name": "stdout"
                }
            ],
            "metadata": {
            },
            "execution_count": 1,
            "cell_type": "code"
        },
        {
            "source": [
                "print(not True)\nprint(not False)\nprint(not not (True))"
            ],
            "outputs": [
                {
                    "text": ":results:\n False\n True\n True\n :end:",
                    "output_type": "stream",
                    "name": "stdout"
                }
            ],
            "metadata": {
            },
            "execution_count": 1,
            "cell_type": "code"
        },
        {
            "source": [
                "print(True and True)\nprint(False and True)\nprint(True and False)\nprint(False and False)"
            ],
            "outputs": [
                {
                    "text": ":results:\n True\n False\n False\n False\n :end:",
                    "output_type": "stream",
                    "name": "stdout"
                }
            ],
            "metadata": {
            },
            "execution_count": 1,
            "cell_type": "code"
        },
        {
            "source": [
                "print(True or True)\nprint(False or True)\nprint(True or False)\nprint(False or False)"
            ],
            "outputs": [
                {
                    "text": ":results:\n True\n True\n True\n False\n :end:",
                    "output_type": "stream",
                    "name": "stdout"
                }
            ],
            "metadata": {
            },
            "execution_count": 1,
            "cell_type": "code"
        },
        {
            "source": [
                "# relational operators\nprint(1 == 1)\nprint(1 != 2)\nprint(1 < 2)\nprint(1 <= 1)\nprint(1 > 0)\nprint(1 >= 1)\nprint(1.0 == 1)\nprint(1.0000000000000000001 == 1)\nprint(type(1) == type(1.0))\nprint(type(1))\nprint(type(1.0))"
            ],
            "outputs": [
                {
                    "text": ":results:\n True\n True\n True\n True\n True\n True\n True\n True\n False\n <class 'int'>\n <class 'float'>\n :end:",
                    "output_type": "stream",
                    "name": "stdout"
                }
            ],
            "metadata": {
            },
            "execution_count": 1,
            "cell_type": "code"
        },
        {
            "source": [
                "# object identity (reference) testing\nx = 1000\ny = 1000\nprint(x == x)\nprint(x is x)\nprint(x is not x)"
            ],
            "outputs": [
                {
                    "text": ":results:\n True\n True\n False\n :end:",
                    "output_type": "stream",
                    "name": "stdout"
                }
            ],
            "metadata": {
            },
            "execution_count": 1,
            "cell_type": "code"
        },
        {
            "source": [
                "print(x == y)\nprint(x is y)\nprint(x is not y)\ny = 1001\nprint(x == y)"
            ],
            "outputs": [
                {
                    "text": ":results:\n True\n False\n True\n False\n :end:",
                    "output_type": "stream",
                    "name": "stdout"
                }
            ],
            "metadata": {
            },
            "execution_count": 1,
            "cell_type": "code"
        },
        {
            "source": [
                "# but Python caches small integers! so ...\nx = 5\ny = 5\nprint(x == y)\nprint(x is y)"
            ],
            "outputs": [
                {
                    "text": ":results:\n True\n True\n :end:",
                    "output_type": "stream",
                    "name": "stdout"
                }
            ],
            "metadata": {
            },
            "execution_count": 1,
            "cell_type": "code"
        },
        {
            "source": [
                "##### Strings\n\n"
            ],
            "metadata": {
            },
            "cell_type": "markdown"
        },
        {
            "source": [
                "# whatever strings you want\nprint('hello world!')\nprint(\"hello world!\")"
            ],
            "outputs": [
                {
                    "text": ":results:\n hello world!\n hello world!\n :end:",
                    "output_type": "stream",
                    "name": "stdout"
                }
            ],
            "metadata": {
            },
            "execution_count": 1,
            "cell_type": "code"
        },
        {
            "source": [
                "# convenient for strings with quotes:\nprint('she said, \"how are you?\"')\nprint(\"that's right!\")"
            ],
            "outputs": [
                {
                    "text": ":results:\n she said, \"how are you?\"\n that's right!\n :end:",
                    "output_type": "stream",
                    "name": "stdout"
                }
            ],
            "metadata": {
            },
            "execution_count": 1,
            "cell_type": "code"
        },
        {
            "source": [
                "print('hello' + ' ' + 'world')\nprint('hello world')\nprint('thinking... ' * 4)\nprint('*' * 80)"
            ],
            "outputs": [
                {
                    "text": ":results:\n hello world\n hello world\n thinking... thinking... thinking... thinking...\n ********************************************************************************\n :end:",
                    "output_type": "stream",
                    "name": "stdout"
                }
            ],
            "metadata": {
            },
            "execution_count": 1,
            "cell_type": "code"
        },
        {
            "source": [
                "Strings are an example of a *sequence* type;\n [https://docs.ipython.org/3.5/library/stdtypes.html#typesseq](https://docs.ipython.org/3.5/library/stdtypes.html#typesseq)\n\nOther sequence types are: *ranges*, *tuples* (both also immutable), and\n*lists* (mutable).\n\nAll immutable sequences support the\n[common sequence operations](https://docs.python.org/3/library/stdtypes.html#common-sequence-operations), and mutable sequences additionally support the\n[mutable sequence operations](https://docs.python.org/3/library/stdtypes.html#mutable-sequence-types)\n\n"
            ],
            "metadata": {
            },
            "cell_type": "markdown"
        },
        {
            "source": [
                "# indexing\ngreeting = 'hello there'\nprint(greeting[0])\nprint(greeting[6])\nprint(len(greeting))\nprint(greeting[len(greeting)-1])"
            ],
            "outputs": [
                {
                    "text": ":results:\n h\n t\n 11\n e\n :end:",
                    "output_type": "stream",
                    "name": "stdout"
                }
            ],
            "metadata": {
            },
            "execution_count": 1,
            "cell_type": "code"
        },
        {
            "source": [
                "# negative indexes\nprint(greeting[-1])\nprint(greeting[-2])\nprint(greeting[-len(greeting)])"
            ],
            "outputs": [
                {
                    "text": ":results:\n e\n r\n h\n :end:",
                    "output_type": "stream",
                    "name": "stdout"
                }
            ],
            "metadata": {
            },
            "execution_count": 1,
            "cell_type": "code"
        },
        {
            "source": [
                "# \"slices\"\nprint(greeting[0:11])\nprint(greeting[0:5])\nprint(greeting[6:11])"
            ],
            "outputs": [
                {
                    "text": ":results:\n hello there\n hello\n there\n :end:",
                    "output_type": "stream",
                    "name": "stdout"
                }
            ],
            "metadata": {
            },
            "execution_count": 1,
            "cell_type": "code"
        },
        {
            "source": [
                "# default slice ranges\nprint(greeting[:11])\nprint(greeting[6:])\nprint(greeting[:])"
            ],
            "outputs": [
                {
                    "text": ":results:\n hello there\n there\n hello there\n :end:",
                    "output_type": "stream",
                    "name": "stdout"
                }
            ],
            "metadata": {
            },
            "execution_count": 1,
            "cell_type": "code"
        },
        {
            "source": [
                "# slice \"steps\"\nprint(greeting[::2])\nprint(greeting[::3])\nprint(greeting[6:11:2])"
            ],
            "outputs": [
                {
                    "text": ":results:\n hlotee\n hltr\n tee\n :end:",
                    "output_type": "stream",
                    "name": "stdout"
                }
            ],
            "metadata": {
            },
            "execution_count": 1,
            "cell_type": "code"
        },
        {
            "source": [
                "# negative steps\nprint(greeting[::-1])"
            ],
            "outputs": [
                {
                    "text": ":results:\n ereht olleh\n :end:",
                    "output_type": "stream",
                    "name": "stdout"
                }
            ],
            "metadata": {
            },
            "execution_count": 1,
            "cell_type": "code"
        },
        {
            "source": [
                "# other sequence ops\nprint(greeting)\nprint(greeting.count('e'))\nprint(greeting.index('e'))\nprint(greeting.index('e', 2))\nprint('e' in greeting)\nprint('z' not in greeting)\nprint(min(greeting))\nprint(max(greeting))\nprint(min('bdca'))"
            ],
            "outputs": [
                {
                    "text": ":results:\n hello there\n 3\n 1\n 8\n True\n True\n\n t\n a\n :end:",
                    "output_type": "stream",
                    "name": "stdout"
                }
            ],
            "metadata": {
            },
            "execution_count": 1,
            "cell_type": "code"
        },
        {
            "source": [
                "Strings also support a large number of\n [type-specific methods](https://docs.python.org/3/library/stdtypes.html#string-methods).\n\n"
            ],
            "metadata": {
            },
            "cell_type": "markdown"
        },
        {
            "source": [
                "name = 'Peter'\naddress = '10 W 31st, Chicago'\nprint('Person: ' + name + ' lives at: ' + address)\nprint(f\"Person: {name} lives at: {address}\")\nprint(f\"Initial: {name[0]}\")"
            ],
            "outputs": [
                {
                    "text": ": Person: Peter lives at: 10 W 31st, Chicago\n : Person: Peter lives at: 10 W 31st, Chicago\n : Initial: P",
                    "output_type": "stream",
                    "name": "stdout"
                }
            ],
            "metadata": {
            },
            "execution_count": 1,
            "cell_type": "code"
        },
        {
            "source": [
                "##### Type \"Conversions\"\n\n"
            ],
            "metadata": {
            },
            "cell_type": "markdown"
        },
        {
            "source": [
                "Constructors for most built-in types exist that create values of those\n types from other types:\n\n    public class x {\n    \n        public static void main(String[] args) {\n            int a = 3; // type variablename assignment\n            a = (int) 3.0;\n            System.out.println(\"\" + a);\n        }\n    }\n\n"
            ],
            "metadata": {
            },
            "cell_type": "markdown"
        },
        {
            "source": [
                "a = 3;\nprint(type(a))\na = 'str'\nprint(type(a))"
            ],
            "outputs": [
                {
                    "text": ": <class 'int'>\n : <class 'str'>",
                    "output_type": "stream",
                    "name": "stdout"
                }
            ],
            "metadata": {
            },
            "execution_count": 1,
            "cell_type": "code"
        },
        {
            "source": [
                "# making ints\nprint(int('123'))\nprint(int(12.5))\nprint(int(True))\nprint(int(False))\n\n# floats\nprint(float('123.123'))\n\n# strings\nprint(str(123))"
            ],
            "outputs": [
                {
                    "text": ": 123\n : 12\n : 1\n : 0\n : 123.123\n : 123",
                    "output_type": "stream",
                    "name": "stdout"
                }
            ],
            "metadata": {
            },
            "execution_count": 1,
            "cell_type": "code"
        },
        {
            "source": [
                "##### Operators/Functions as syntactic sugar for special methods\n\n"
            ],
            "metadata": {
            },
            "cell_type": "markdown"
        },
        {
            "source": [
                "print(5 + 6)\nprint((5).__add__(6))"
            ],
            "outputs": [
                {
                    "text": ": 11\n : 11",
                    "output_type": "stream",
                    "name": "stdout"
                }
            ],
            "metadata": {
            },
            "execution_count": 1,
            "cell_type": "code"
        },
        {
            "source": [
                "class MyInt(int):\n    def __add__(self, other):\n        return self * other"
            ],
            "outputs": [],
            "metadata": {
            },
            "execution_count": 1,
            "cell_type": "code"
        },
        {
            "source": [
                "a = MyInt(5)\nb = MyInt(6)\nprint(a + b)"
            ],
            "outputs": [
                {
                    "text": ": 30",
                    "output_type": "stream",
                    "name": "stdout"
                }
            ],
            "metadata": {
            },
            "execution_count": 1,
            "cell_type": "code"
        },
        {
            "source": [
                "print(abs(-2.8))\nprint((-2.8).__abs__())"
            ],
            "outputs": [
                {
                    "text": ": 2.8\n : 2.8",
                    "output_type": "stream",
                    "name": "stdout"
                }
            ],
            "metadata": {
            },
            "execution_count": 1,
            "cell_type": "code"
        },
        {
            "source": [
                "print('hello' + ' ' + 'world')\nprint('hello'.__add__(' ').__add__('world'))"
            ],
            "outputs": [
                {
                    "text": ": hello world\n : hello world",
                    "output_type": "stream",
                    "name": "stdout"
                }
            ],
            "metadata": {
            },
            "execution_count": 1,
            "cell_type": "code"
        },
        {
            "source": [
                "##### `None`\n\n"
            ],
            "metadata": {
            },
            "cell_type": "markdown"
        },
        {
            "source": [
                "**`None`** is like \"null\" in other languages\n\n"
            ],
            "metadata": {
            },
            "cell_type": "markdown"
        },
        {
            "source": [
                "# often use as a default, initial, or \"sentinel\" value\n\nx = None\nprint(x)"
            ],
            "outputs": [
                {
                    "text": ": None",
                    "output_type": "stream",
                    "name": "stdout"
                }
            ],
            "metadata": {
            },
            "execution_count": 1,
            "cell_type": "code"
        },
        {
            "source": [
                "note: notebooks do not display the result of expressions that evaluate\n to None\n\n"
            ],
            "metadata": {
            },
            "cell_type": "markdown"
        },
        {
            "source": [
                "print(None)"
            ],
            "outputs": [
                {
                    "text": ":results:\n :end:",
                    "output_type": "stream",
                    "name": "stdout"
                }
            ],
            "metadata": {
            },
            "execution_count": 1,
            "cell_type": "code"
        },
        {
            "source": [
                "a = None\nb = 100\nc = None\nprint(a)\nprint(b)\nprint(c)"
            ],
            "outputs": [
                {
                    "text": ": None\n : 100\n : None",
                    "output_type": "stream",
                    "name": "stdout"
                }
            ],
            "metadata": {
            },
            "execution_count": 1,
            "cell_type": "code"
        },
        {
            "source": [
                "note that in Jupyter some functions return `None`, so when we call them, there is no \"Out\" cell\n\n"
            ],
            "metadata": {
            },
            "cell_type": "markdown"
        },
        {
            "source": [
                "print('Hello')"
            ],
            "outputs": [
                {
                    "text": ":results:\n Hello\n :end:",
                    "output_type": "stream",
                    "name": "stdout"
                }
            ],
            "metadata": {
            },
            "execution_count": 1,
            "cell_type": "code"
        },
        {
            "source": [
                "##### \"Truthiness\"\n\n"
            ],
            "metadata": {
            },
            "cell_type": "markdown"
        },
        {
            "source": [
                "All objects in Ipython can be evaluated in a Boolean context (e.g., as\n the condition for an `if` statement). Values for most types act as\n `True`, but some act (conveniently, usually) as `False`.\n\n"
            ],
            "metadata": {
            },
            "cell_type": "markdown"
        },
        {
            "source": [
                "if True: # try numbers, strings, other values here\n    print('tests as True')\nelse:\n    print('tests as False')"
            ],
            "outputs": [
                {
                    "text": ": tests as True",
                    "output_type": "stream",
                    "name": "stdout"
                }
            ],
            "metadata": {
            },
            "execution_count": 1,
            "cell_type": "code"
        },
        {
            "source": [
                "What tests as `False`?\n\n"
            ],
            "metadata": {
            },
            "cell_type": "markdown"
        },
        {
            "source": [
                "class MyBool(int):\n    def __bool__(self):\n        return self != 0"
            ],
            "outputs": [],
            "metadata": {
            },
            "execution_count": 1,
            "cell_type": "code"
        },
        {
            "source": [
                "x = MyBool(1)\nif x:\n    print(\"1 is true\")\n\nx = MyBool(0)\nif not x:\n    print(\"0 is false\")\n\nx = MyBool(2)\nif x:\n    print(\"2 is true\")"
            ],
            "outputs": [
                {
                    "text": ": 1 is true\n : 0 is false\n : 2 is true",
                    "output_type": "stream",
                    "name": "stdout"
                }
            ],
            "metadata": {
            },
            "execution_count": 1,
            "cell_type": "code"
        },
        {
            "source": [
                "#### 1.  Statements & Control Structures\n\n"
            ],
            "metadata": {
            },
            "cell_type": "markdown"
        },
        {
            "source": [
                "##### Assignment\n\n"
            ],
            "metadata": {
            },
            "cell_type": "markdown"
        },
        {
            "source": [
                "# simple, single target assignment\n\na = 0\nb = 'hello'\nprint(f\"{a} {b}\")"
            ],
            "outputs": [
                {
                    "text": ": 0 hello",
                    "output_type": "stream",
                    "name": "stdout"
                }
            ],
            "metadata": {
            },
            "execution_count": 1,
            "cell_type": "code"
        },
        {
            "source": [
                "# can also assign to target \"lists\"\n\na, b, c = 0, 'hello', True\nprint(f\"{a} {b} {c}\")"
            ],
            "outputs": [
                {
                    "text": ": 0 hello True",
                    "output_type": "stream",
                    "name": "stdout"
                }
            ],
            "metadata": {
            },
            "execution_count": 1,
            "cell_type": "code"
        },
        {
            "source": [
                "# note: expression on right is fully evaluated, then are assigned to\n#       elements in the \"target\" list, from left to right\n\nx, y, z = 1, 2, 3\nx, y, z = x+y, y+z, x+y+z\nprint(f\"{x} {y} {z}\")"
            ],
            "outputs": [
                {
                    "text": ": 3 5 6",
                    "output_type": "stream",
                    "name": "stdout"
                }
            ],
            "metadata": {
            },
            "execution_count": 1,
            "cell_type": "code"
        },
        {
            "source": [
                "# easy python \"swap\"\n\na, b = 'apples', 'bananas'\na, b = b, a\nprint(f\"{a} {b}\")"
            ],
            "outputs": [
                {
                    "text": ": bananas apples",
                    "output_type": "stream",
                    "name": "stdout"
                }
            ],
            "metadata": {
            },
            "execution_count": 1,
            "cell_type": "code"
        },
        {
            "source": [
                "# note: order matters!\n\na, b, a = 1, 2, 3\n#a = 1\n#b = 2\n#a = 3\nprint(f\"{a} {b}\")"
            ],
            "outputs": [
                {
                    "text": ": 3 2",
                    "output_type": "stream",
                    "name": "stdout"
                }
            ],
            "metadata": {
            },
            "execution_count": 1,
            "cell_type": "code"
        },
        {
            "source": [
                "# can also have multiple assignments in a row -- consistent with\n# above: expression is evaluated first, then assigned to all targets\n# from left to right (note: order matters!)\n\nx = y = z = None\nprint(f\"{x} {y} {z}\")"
            ],
            "outputs": [
                {
                    "text": ": None None None",
                    "output_type": "stream",
                    "name": "stdout"
                }
            ],
            "metadata": {
            },
            "execution_count": 1,
            "cell_type": "code"
        },
        {
            "source": [
                "##### Augmented assignment\n\n"
            ],
            "metadata": {
            },
            "cell_type": "markdown"
        },
        {
            "source": [
                "a = 0  # a= 0\na += 2 # a = 2\na *= 3 # a = 6\nprint(a)"
            ],
            "outputs": [
                {
                    "text": ": 6",
                    "output_type": "stream",
                    "name": "stdout"
                }
            ],
            "metadata": {
            },
            "execution_count": 1,
            "cell_type": "code"
        },
        {
            "source": [
                "##### `pass`\n\n"
            ],
            "metadata": {
            },
            "cell_type": "markdown"
        },
        {
            "source": [
                "**`pass`** is the \"do nothing\" statement\n\n"
            ],
            "metadata": {
            },
            "cell_type": "markdown"
        },
        {
            "source": [
                "pass"
            ],
            "outputs": [],
            "metadata": {
            },
            "execution_count": 1,
            "cell_type": "code"
        },
        {
            "source": [
                "def foo():\n    pass\nfoo()"
            ],
            "outputs": [],
            "metadata": {
            },
            "execution_count": 1,
            "cell_type": "code"
        },
        {
            "source": [
                "def foo():\n    print(\"a\")\nfoo()"
            ],
            "outputs": [],
            "metadata": {
            },
            "execution_count": 1,
            "cell_type": "code"
        },
        {
            "source": [
                "##### `if`-`else` statements\n\n"
            ],
            "metadata": {
            },
            "cell_type": "markdown"
        },
        {
            "source": [
                "from random import randint\nscore = randint(50, 100)\ngrade = None\nif score >= 90:\n    grade = 'A'\nelif score >= 80:\n    grade = 'B'\nelif score >= 70:\n    grade = 'C'\nelif score >= 60:\n    grade = 'D'\nelse:\n    grade = 'E'\n\nprint(score, grade)"
            ],
            "outputs": [
                {
                    "text": ": 100 A",
                    "output_type": "stream",
                    "name": "stdout"
                }
            ],
            "metadata": {
            },
            "execution_count": 1,
            "cell_type": "code"
        },
        {
            "source": [
                "##### `while` loops\n\n"
            ],
            "metadata": {
            },
            "cell_type": "markdown"
        },
        {
            "source": [
                "f0 = 0\nf1 = 1\nwhile f0 < 100:\n    print(f0)\n    f0, f1 = f1, f0+f1"
            ],
            "outputs": [
                {
                    "text": "#+begin_example\n 0\n 1\n 1\n 2\n 3\n 5\n 8\n 13\n 21\n 34\n 55\n 89\n #+end_example",
                    "output_type": "stream",
                    "name": "stdout"
                }
            ],
            "metadata": {
            },
            "execution_count": 1,
            "cell_type": "code"
        },
        {
            "source": [
                "i = 0\nto_find = 4\nwhile i < 5:\n    i += 1\n    if i == to_find:\n        print('Found; breaking early')\n        break # stop a loop early\n    else:\n        print('Not found; terminated loop')"
            ],
            "outputs": [
                {
                    "text": ": Not found; terminated loop\n : Not found; terminated loop\n : Not found; terminated loop\n : Found; breaking early",
                    "output_type": "stream",
                    "name": "stdout"
                }
            ],
            "metadata": {
            },
            "execution_count": 1,
            "cell_type": "code"
        },
        {
            "source": [
                "i = 0\nto_find = 10\nwhile i < 100:\n    i += 1\n    if i == to_find:\n        print('Found; breaking early')\n        break\n    else:\n        print('Not found; terminated loop')"
            ],
            "outputs": [
                {
                    "text": "#+begin_example\n Not found; terminated loop\n Not found; terminated loop\n Not found; terminated loop\n Not found; terminated loop\n Not found; terminated loop\n Not found; terminated loop\n Not found; terminated loop\n Not found; terminated loop\n Not found; terminated loop\n Found; breaking early\n #+end_example",
                    "output_type": "stream",
                    "name": "stdout"
                }
            ],
            "metadata": {
            },
            "execution_count": 1,
            "cell_type": "code"
        },
        {
            "source": [
                "##### Exception Handling\n\n"
            ],
            "metadata": {
            },
            "cell_type": "markdown"
        },
        {
            "source": [
                "# raise Exception('Boommmmmm!')"
            ],
            "outputs": [
                {
                    "text": ":results:\n :end:",
                    "output_type": "stream",
                    "name": "stdout"
                }
            ],
            "metadata": {
            },
            "execution_count": 1,
            "cell_type": "code"
        },
        {
            "source": [
                "# raise NotImplementedError()"
            ],
            "outputs": [
                {
                    "text": ":results:\n :end:",
                    "output_type": "stream",
                    "name": "stdout"
                }
            ],
            "metadata": {
            },
            "execution_count": 1,
            "cell_type": "code"
        },
        {
            "source": [
                "try:\n    raise Exception('Boom')\nexcept:\n    print('Exception encountered!')"
            ],
            "outputs": [
                {
                    "text": ": Exception encountered!",
                    "output_type": "stream",
                    "name": "stdout"
                }
            ],
            "metadata": {
            },
            "execution_count": 1,
            "cell_type": "code"
        },
        {
            "source": [
                "try:\n    raise ArithmeticError('Eeek!')\nexcept LookupError as e:\n    print('LookupError:', e)\nexcept ArithmeticError as e:\n    print('ArithmeticError:', e)\nexcept Exception as e:\n    print(f'Just an Exception: {e}')\nfinally:\n    print('Done')"
            ],
            "outputs": [
                {
                    "text": ": ArithmeticError: Eeek!\n : Done",
                    "output_type": "stream",
                    "name": "stdout"
                }
            ],
            "metadata": {
            },
            "execution_count": 1,
            "cell_type": "code"
        },
        {
            "source": [
                "##### `for` loops (iteration)\n\n"
            ],
            "metadata": {
            },
            "cell_type": "markdown"
        },
        {
            "source": [
                "print(range(10))"
            ],
            "outputs": [
                {
                    "text": ": range(0, 10)",
                    "output_type": "stream",
                    "name": "stdout"
                }
            ],
            "metadata": {
            },
            "execution_count": 1,
            "cell_type": "code"
        },
        {
            "source": [
                "for x in range(10):\n    print(x)"
            ],
            "outputs": [
                {
                    "text": "#+begin_example\n 0\n 1\n 2\n 3\n 4\n 5\n 6\n 7\n 8\n 9\n #+end_example",
                    "output_type": "stream",
                    "name": "stdout"
                }
            ],
            "metadata": {
            },
            "execution_count": 1,
            "cell_type": "code"
        },
        {
            "source": [
                "for i in range(9, 81, 9):\n    print(i)"
            ],
            "outputs": [
                {
                    "text": ": 9\n : 18\n : 27\n : 36\n : 45\n : 54\n : 63\n : 72",
                    "output_type": "stream",
                    "name": "stdout"
                }
            ],
            "metadata": {
            },
            "execution_count": 1,
            "cell_type": "code"
        },
        {
            "source": [
                "for c in 'hello world':\n    print(c)"
            ],
            "outputs": [
                {
                    "text": "#+begin_example\n h\n e\n l\n l\n o\n\n w\n o\n r\n l\n d\n #+end_example",
                    "output_type": "stream",
                    "name": "stdout"
                }
            ],
            "metadata": {
            },
            "execution_count": 1,
            "cell_type": "code"
        },
        {
            "source": [
                "to_find = 50\nfor i in range(100):\n    if i == to_find:\n        break\n    else:\n        print('Completed loop')"
            ],
            "outputs": [
                {
                    "text": "#+begin_example\n Completed loop\n Completed loop\n Completed loop\n Completed loop\n Completed loop\n Completed loop\n Completed loop\n Completed loop\n Completed loop\n Completed loop\n Completed loop\n Completed loop\n Completed loop\n Completed loop\n Completed loop\n Completed loop\n Completed loop\n Completed loop\n Completed loop\n Completed loop\n Completed loop\n Completed loop\n Completed loop\n Completed loop\n Completed loop\n Completed loop\n Completed loop\n Completed loop\n Completed loop\n Completed loop\n Completed loop\n Completed loop\n Completed loop\n Completed loop\n Completed loop\n Completed loop\n Completed loop\n Completed loop\n Completed loop\n Completed loop\n Completed loop\n Completed loop\n Completed loop\n Completed loop\n Completed loop\n Completed loop\n Completed loop\n Completed loop\n Completed loop\n Completed loop\n #+end_example",
                    "output_type": "stream",
                    "name": "stdout"
                }
            ],
            "metadata": {
            },
            "execution_count": 1,
            "cell_type": "code"
        },
        {
            "source": [
                "##### Generalized iteration (`iter` and `next`)\n\n"
            ],
            "metadata": {
            },
            "cell_type": "markdown"
        },
        {
            "source": [
                "r = range(10)\nit = iter(r)"
            ],
            "outputs": [],
            "metadata": {
            },
            "execution_count": 1,
            "cell_type": "code"
        },
        {
            "source": [
                "print(type(it))"
            ],
            "outputs": [
                {
                    "text": ": <class 'range_iterator'>",
                    "output_type": "stream",
                    "name": "stdout"
                }
            ],
            "metadata": {
            },
            "execution_count": 1,
            "cell_type": "code"
        },
        {
            "source": [
                "print(next(it))"
            ],
            "outputs": [
                {
                    "text": ": 4",
                    "output_type": "stream",
                    "name": "stdout"
                }
            ],
            "metadata": {
            },
            "execution_count": 1,
            "cell_type": "code"
        },
        {
            "source": [
                "it = iter(r)\nwhile True:\n    try:\n        x = next(it)\n        print(x)\n    except StopIteration:\n        break"
            ],
            "outputs": [
                {
                    "text": "#+begin_example\n 0\n 1\n 2\n 3\n 4\n 5\n 6\n 7\n 8\n 9\n #+end_example",
                    "output_type": "stream",
                    "name": "stdout"
                }
            ],
            "metadata": {
            },
            "execution_count": 1,
            "cell_type": "code"
        },
        {
            "source": [
                "it = iter(r)\nwhile True:\n    try:\n        x = next(it)\n        y = next(it)\n        print(x, y, x+y)\n    except StopIteration:\n        break"
            ],
            "outputs": [
                {
                    "text": ": 0 1 1\n : 2 3 5\n : 4 5 9\n : 6 7 13\n : 8 9 17",
                    "output_type": "stream",
                    "name": "stdout"
                }
            ],
            "metadata": {
            },
            "execution_count": 1,
            "cell_type": "code"
        },
        {
            "source": [
                "#### 1.  Functions\n\n"
            ],
            "metadata": {
            },
            "cell_type": "markdown"
        },
        {
            "source": [
                "def foo():\n    pass"
            ],
            "outputs": [
                {
                    "text": ":results:\n :end:",
                    "output_type": "stream",
                    "name": "stdout"
                }
            ],
            "metadata": {
            },
            "execution_count": 1,
            "cell_type": "code"
        },
        {
            "source": [
                "def mymulti():\n    return 1,2,3\nprint(mymulti())"
            ],
            "outputs": [
                {
                    "text": ": (1, 2, 3)",
                    "output_type": "stream",
                    "name": "stdout"
                }
            ],
            "metadata": {
            },
            "execution_count": 1,
            "cell_type": "code"
        },
        {
            "source": [
                "import math\n\ndef quadratic_roots(a, b, c):\n    disc = b**2-4*a*c\n    if disc < 0:\n        return None\n    else:\n        return (-b+math.sqrt(disc))/(2*a), (-b-math.sqrt(disc))/(2*a)"
            ],
            "outputs": [],
            "metadata": {
            },
            "execution_count": 1,
            "cell_type": "code"
        },
        {
            "source": [
                "print(quadratic_roots(1, -5, 6)) # eq = (x-3)(x-2)"
            ],
            "outputs": [
                {
                    "text": ": (3.0, 2.0)",
                    "output_type": "stream",
                    "name": "stdout"
                }
            ],
            "metadata": {
            },
            "execution_count": 1,
            "cell_type": "code"
        },
        {
            "source": [
                "import math\n\ndef quadratic_roots(a: int, b: int, c: int):\n    disc = b**2-4*a*c\n    if disc < 0:\n        return None\n    else:\n        return (-b+math.sqrt(disc))/(2*a), (-b-math.sqrt(disc))/(2*a)"
            ],
            "outputs": [],
            "metadata": {
            },
            "execution_count": 1,
            "cell_type": "code"
        },
        {
            "source": [
                "try:\n    print(quadratic_roots('asdsad', -5, 6)) # eq = (x-3)(x-2)\nexcept Exception as e:\n    print(e)"
            ],
            "outputs": [
                {
                    "text": ": unsupported operand type(s) for -: 'int' and 'str'",
                    "output_type": "stream",
                    "name": "stdout"
                }
            ],
            "metadata": {
            },
            "execution_count": 1,
            "cell_type": "code"
        },
        {
            "source": [
                "print(quadratic_roots(a=1, b=-5, c=6))"
            ],
            "outputs": [
                {
                    "text": ": (3.0, 2.0)",
                    "output_type": "stream",
                    "name": "stdout"
                }
            ],
            "metadata": {
            },
            "execution_count": 1,
            "cell_type": "code"
        },
        {
            "source": [
                "print(quadratic_roots(c=6, a=1, b=-5))"
            ],
            "outputs": [
                {
                    "text": ": (3.0, 2.0)",
                    "output_type": "stream",
                    "name": "stdout"
                }
            ],
            "metadata": {
            },
            "execution_count": 1,
            "cell_type": "code"
        },
        {
            "source": [
                "def create_character(name, race, hitpoints, ability):\n    print('Name:', name)\n    print('Race:', race)\n    print('Hitpoints:', hitpoints)\n    print('Ability:', ability)"
            ],
            "outputs": [],
            "metadata": {
            },
            "execution_count": 1,
            "cell_type": "code"
        },
        {
            "source": [
                "create_character('Legolas', 'Elf', 100, 'Archery')"
            ],
            "outputs": [
                {
                    "text": ": Name: Legolas\n : Race: Elf\n : Hitpoints: 100\n : Ability: Archery",
                    "output_type": "stream",
                    "name": "stdout"
                }
            ],
            "metadata": {
            },
            "execution_count": 1,
            "cell_type": "code"
        },
        {
            "source": [
                "def create_character(name, race='Human', hitpoints=100, ability=None):\n    print('Name:', name)\n    print('Race:', race)\n    print('Hitpoints:', hitpoints)\n    if ability:\n        print('Ability:', ability)"
            ],
            "outputs": [],
            "metadata": {
            },
            "execution_count": 1,
            "cell_type": "code"
        },
        {
            "source": [
                "create_character('Michael')"
            ],
            "outputs": [
                {
                    "text": ": Name: Michael\n : Race: Human\n : Hitpoints: 100",
                    "output_type": "stream",
                    "name": "stdout"
                }
            ],
            "metadata": {
            },
            "execution_count": 1,
            "cell_type": "code"
        },
        {
            "source": [
                "def create_character(name, race='Human', hitpoints=100, abilities=()):\n    print('Name:', name)\n    print('Race:', race)\n    print('Hitpoints:', hitpoints)\n    if abilities:\n        print('Abilities:')\n        for ability in abilities:\n            print('  -', ability)"
            ],
            "outputs": [],
            "metadata": {
            },
            "execution_count": 1,
            "cell_type": "code"
        },
        {
            "source": [
                "create_character('Gimli', race='Dwarf', abilities=(\"Dig\", \"small\"))"
            ],
            "outputs": [
                {
                    "text": ": Name: Gimli\n : Race: Dwarf\n : Hitpoints: 100\n : Abilities:\n :   - Dig\n :   - small",
                    "output_type": "stream",
                    "name": "stdout"
                }
            ],
            "metadata": {
            },
            "execution_count": 1,
            "cell_type": "code"
        },
        {
            "source": [
                "create_character('Gandalf', hitpoints=1000)"
            ],
            "outputs": [
                {
                    "text": ": Name: Gandalf\n : Race: Human\n : Hitpoints: 1000",
                    "output_type": "stream",
                    "name": "stdout"
                }
            ],
            "metadata": {
            },
            "execution_count": 1,
            "cell_type": "code"
        },
        {
            "source": [
                "create_character('Aragorn', abilities=('Swording', 'Healing'))"
            ],
            "outputs": [
                {
                    "text": ": Name: Aragorn\n : Race: Human\n : Hitpoints: 100\n : Abilities:\n :   - Swording\n :   - Healing",
                    "output_type": "stream",
                    "name": "stdout"
                }
            ],
            "metadata": {
            },
            "execution_count": 1,
            "cell_type": "code"
        },
        {
            "source": [
                "def create_character(name, *abilities, race='Human', hitpoints=100):\n    print('Name:', name)\n    print('Race:', race)\n    print('Hitpoints:', hitpoints)\n    if abilities:\n        print('Abilities:')\n        for ability in abilities:\n            print('  -', ability)"
            ],
            "outputs": [],
            "metadata": {
            },
            "execution_count": 1,
            "cell_type": "code"
        },
        {
            "source": [
                "create_character('Michael')"
            ],
            "outputs": [
                {
                    "text": ": Name: Michael\n : Race: Human\n : Hitpoints: 100",
                    "output_type": "stream",
                    "name": "stdout"
                }
            ],
            "metadata": {
            },
            "execution_count": 1,
            "cell_type": "code"
        },
        {
            "source": [
                "create_character('Michael', 'Coding', 'Teaching', 'Sleeping', 'Eat', hitpoints=25, )"
            ],
            "outputs": [
                {
                    "text": ": Name: Michael\n : Race: Human\n : Hitpoints: 25\n : Abilities:\n :   - Coding\n :   - Teaching\n :   - Sleeping\n :   - Eat",
                    "output_type": "stream",
                    "name": "stdout"
                }
            ],
            "metadata": {
            },
            "execution_count": 1,
            "cell_type": "code"
        },
        {
            "source": [
                "##### Functions as Objects\n\n"
            ],
            "metadata": {
            },
            "cell_type": "markdown"
        },
        {
            "source": [
                "def foo():\n    print('Foo called')\n\nbar = foo\nbar()"
            ],
            "outputs": [
                {
                    "text": ": Foo called",
                    "output_type": "stream",
                    "name": "stdout"
                }
            ],
            "metadata": {
            },
            "execution_count": 1,
            "cell_type": "code"
        },
        {
            "source": [
                "def foo(f):\n    f()\n\ndef bar():\n    print('Bar called')\n\nfoo(bar)"
            ],
            "outputs": [
                {
                    "text": ": Bar called",
                    "output_type": "stream",
                    "name": "stdout"
                }
            ],
            "metadata": {
            },
            "execution_count": 1,
            "cell_type": "code"
        },
        {
            "source": [
                "foo = lambda: print('Anonymous function called')\n\nfoo()"
            ],
            "outputs": [
                {
                    "text": ": Anonymous function called",
                    "output_type": "stream",
                    "name": "stdout"
                }
            ],
            "metadata": {
            },
            "execution_count": 1,
            "cell_type": "code"
        },
        {
            "source": [
                "f = lambda x,y: x+y\n\nf(1,2)"
            ],
            "outputs": [],
            "metadata": {
            },
            "execution_count": 1,
            "cell_type": "code"
        },
        {
            "source": [
                "def my_map(f, it):\n    for x in it:\n        print(f(x))"
            ],
            "outputs": [],
            "metadata": {
            },
            "execution_count": 1,
            "cell_type": "code"
        },
        {
            "source": [
                "print(my_map(lambda x: x*2, range(1,10)))"
            ],
            "outputs": [
                {
                    "text": "#+begin_example\n 2\n 4\n 6\n 8\n 10\n 12\n 14\n 16\n 18\n None\n #+end_example",
                    "output_type": "stream",
                    "name": "stdout"
                }
            ],
            "metadata": {
            },
            "execution_count": 1,
            "cell_type": "code"
        },
        {
            "source": [
                "for x in map(lambda x: x*2, range(1,10)):\n    print(x)"
            ],
            "outputs": [
                {
                    "text": ": 2\n : 4\n : 6\n : 8\n : 10\n : 12\n : 14\n : 16\n : 18",
                    "output_type": "stream",
                    "name": "stdout"
                }
            ],
            "metadata": {
            },
            "execution_count": 1,
            "cell_type": "code"
        },
        {
            "source": [
                "def foo():\n    print('Foo called')\n\nprint(type(foo))"
            ],
            "outputs": [
                {
                    "text": ": <class 'function'>",
                    "output_type": "stream",
                    "name": "stdout"
                }
            ],
            "metadata": {
            },
            "execution_count": 1,
            "cell_type": "code"
        },
        {
            "source": [
                "print(dir(foo))"
            ],
            "outputs": [
                {
                    "text": ": ['__annotations__', '__call__', '__class__', '__closure__', '__code__', '__defaults__', '__delattr__', '__dict__', '__dir__', '__doc__', '__eq__', '__format__', '__ge__', '__get__', '__getattribute__', '__globals__', '__gt__', '__hash__', '__init__', '__init_subclass__', '__kwdefaults__', '__le__', '__lt__', '__module__', '__name__', '__ne__', '__new__', '__qualname__', '__reduce__', '__reduce_ex__', '__repr__', '__setattr__', '__sizeof__', '__str__', '__subclasshook__']",
                    "output_type": "stream",
                    "name": "stdout"
                }
            ],
            "metadata": {
            },
            "execution_count": 1,
            "cell_type": "code"
        },
        {
            "source": [
                "foo.__call__()"
            ],
            "outputs": [
                {
                    "text": ": Foo called",
                    "output_type": "stream",
                    "name": "stdout"
                }
            ],
            "metadata": {
            },
            "execution_count": 1,
            "cell_type": "code"
        },
        {
            "source": [
                "print(foo.__str__())"
            ],
            "outputs": [
                {
                    "text": ": <function foo at 0x10bacea70>",
                    "output_type": "stream",
                    "name": "stdout"
                }
            ],
            "metadata": {
            },
            "execution_count": 1,
            "cell_type": "code"
        },
        {
            "source": [
                "#### 1.  OOP (Classes, Methods, etc.)\n\n"
            ],
            "metadata": {
            },
            "cell_type": "markdown"
        },
        {
            "source": [
                "class Foo:\n    pass"
            ],
            "outputs": [],
            "metadata": {
            },
            "execution_count": 1,
            "cell_type": "code"
        },
        {
            "source": [
                "print(type(Foo))"
            ],
            "outputs": [
                {
                    "text": ": <class 'type'>",
                    "output_type": "stream",
                    "name": "stdout"
                }
            ],
            "metadata": {
            },
            "execution_count": 1,
            "cell_type": "code"
        },
        {
            "source": [
                "print(Foo())"
            ],
            "outputs": [
                {
                    "text": ": <__main__.Foo object at 0x11218ead0>",
                    "output_type": "stream",
                    "name": "stdout"
                }
            ],
            "metadata": {
            },
            "execution_count": 1,
            "cell_type": "code"
        },
        {
            "source": [
                "print(type(Foo()))"
            ],
            "outputs": [
                {
                    "text": ": <class '__main__.Foo'>",
                    "output_type": "stream",
                    "name": "stdout"
                }
            ],
            "metadata": {
            },
            "execution_count": 1,
            "cell_type": "code"
        },
        {
            "source": [
                "print(__name__) # name of the current \"module\" (for this notebook)"
            ],
            "outputs": [
                {
                    "text": ": __main__",
                    "output_type": "stream",
                    "name": "stdout"
                }
            ],
            "metadata": {
            },
            "execution_count": 1,
            "cell_type": "code"
        },
        {
            "source": [
                "print(globals().keys()) # symbol table of the current module"
            ],
            "outputs": [
                {
                    "text": ": dict_keys(['__name__', '__doc__', '__package__', '__loader__', '__spec__', '__builtin__', '__builtins__', '_ih', '_oh', '_dh', 'In', 'Out', 'get_ipython', 'exit', 'quit', '_', '__', '___', '_i', '_ii', '_iii', '_i1', '_i2', '_i3', '_i4', '_4', '_i5', '_i6', 'f', '_i7', 'x', '_i8', '_i9', '_i10', 'outerMost', '_i11', '_i12', '_i13', 'a', 'o', '_i14', '_i15', '_i16', '_i17', '_i18', '_i19', 'math', '_19', '_i20', '_i21', '_i22', 'trunc', 'pi', '_i23', 'm', '_i24', '_i25', '_i26', '_i27', 'Foo', '_i28', '_i29', '_29', '_i30', '_i31', '_31', '_i32', '_i33', '_33', '_i34', '_i35', '_35', '_i36', '_i37', '_37', '_i38'])\n : dir(__buildins__)",
                    "output_type": "stream",
                    "name": "stdout"
                }
            ],
            "metadata": {
            },
            "execution_count": 1,
            "cell_type": "code"
        },
        {
            "source": [
                "import sys\nm = sys.modules['__main__'] # explicitly accessing the __main__b module\nprint(dir(m))"
            ],
            "outputs": [
                {
                    "text": ": ['Foo', 'In', 'Out', '_', '_19', '_29', '_31', '_33', '_35', '_37', '_39', '_4', '__', '___', '__builtin__', '__builtins__', '__doc__', '__loader__', '__name__', '__package__', '__spec__', '_dh', '_i', '_i1', '_i10', '_i11', '_i12', '_i13', '_i14', '_i15', '_i16', '_i17', '_i18', '_i19', '_i2', '_i20', '_i21', '_i22', '_i23', '_i24', '_i25', '_i26', '_i27', '_i28', '_i29', '_i3', '_i30', '_i31', '_i32', '_i33', '_i34', '_i35', '_i36', '_i37', '_i38', '_i39', '_i4', '_i40', '_i5', '_i6', '_i7', '_i8', '_i9', '_ih', '_ii', '_iii', '_oh', 'a', 'exit', 'f', 'get_ipython', 'm', 'math', 'o', 'outerMost', 'pi', 'quit', 'sys', 'trunc', 'x']",
                    "output_type": "stream",
                    "name": "stdout"
                }
            ],
            "metadata": {
            },
            "execution_count": 1,
            "cell_type": "code"
        },
        {
            "source": [
                "print(m.Foo())"
            ],
            "outputs": [
                {
                    "text": ": <__main__.Foo object at 0x1121b1310>",
                    "output_type": "stream",
                    "name": "stdout"
                }
            ],
            "metadata": {
            },
            "execution_count": 1,
            "cell_type": "code"
        },
        {
            "source": [
                "f = Foo()\nprint(f)"
            ],
            "outputs": [
                {
                    "text": ": <__main__.Foo object at 0x1121b1850>",
                    "output_type": "stream",
                    "name": "stdout"
                }
            ],
            "metadata": {
            },
            "execution_count": 1,
            "cell_type": "code"
        },
        {
            "source": [
                "f.x = 100\nf.y = 50\nprint(f.x + f.y)"
            ],
            "outputs": [
                {
                    "text": ": 150",
                    "output_type": "stream",
                    "name": "stdout"
                }
            ],
            "metadata": {
            },
            "execution_count": 1,
            "cell_type": "code"
        },
        {
            "source": [
                "g = Foo()\n# g.x"
            ],
            "outputs": [],
            "metadata": {
            },
            "execution_count": 1,
            "cell_type": "code"
        },
        {
            "source": [
                "class Foo:\n    def bar():\n        print('Bar called')"
            ],
            "outputs": [],
            "metadata": {
            },
            "execution_count": 1,
            "cell_type": "code"
        },
        {
            "source": [
                "print(type(Foo.bar))"
            ],
            "outputs": [
                {
                    "text": ": <class 'function'>",
                    "output_type": "stream",
                    "name": "stdout"
                }
            ],
            "metadata": {
            },
            "execution_count": 1,
            "cell_type": "code"
        },
        {
            "source": [
                "f = Foo()"
            ],
            "outputs": [],
            "metadata": {
            },
            "execution_count": 1,
            "cell_type": "code"
        },
        {
            "source": [
                "print(type(f.bar))"
            ],
            "outputs": [
                {
                    "text": ": <class 'method'>",
                    "output_type": "stream",
                    "name": "stdout"
                }
            ],
            "metadata": {
            },
            "execution_count": 1,
            "cell_type": "code"
        },
        {
            "source": [
                "print(Foo.bar())"
            ],
            "outputs": [
                {
                    "text": ": Bar called\n : None",
                    "output_type": "stream",
                    "name": "stdout"
                }
            ],
            "metadata": {
            },
            "execution_count": 1,
            "cell_type": "code"
        },
        {
            "source": [
                "try:\n    f.bar()\nexcept Exception as e:\n    print(e)"
            ],
            "outputs": [
                {
                    "text": ": bar() takes 0 positional arguments but 1 was given",
                    "output_type": "stream",
                    "name": "stdout"
                }
            ],
            "metadata": {
            },
            "execution_count": 1,
            "cell_type": "code"
        },
        {
            "source": [
                "class Foo:\n    def bar(x):\n        print('Bar called with', x)"
            ],
            "outputs": [],
            "metadata": {
            },
            "execution_count": 1,
            "cell_type": "code"
        },
        {
            "source": [
                "Foo.bar('test')"
            ],
            "outputs": [
                {
                    "text": ": Bar called with test",
                    "output_type": "stream",
                    "name": "stdout"
                }
            ],
            "metadata": {
            },
            "execution_count": 1,
            "cell_type": "code"
        },
        {
            "source": [
                "f = Foo()\nf.bar()\nprint(f)"
            ],
            "outputs": [
                {
                    "text": ": Bar called with <__main__.Foo object at 0x111fb1110>\n : <__main__.Foo object at 0x111fb1110>",
                    "output_type": "stream",
                    "name": "stdout"
                }
            ],
            "metadata": {
            },
            "execution_count": 1,
            "cell_type": "code"
        },
        {
            "source": [
                "class Foo:\n    def bar(self):\n        self.x = 'Some value'"
            ],
            "outputs": [],
            "metadata": {
            },
            "execution_count": 1,
            "cell_type": "code"
        },
        {
            "source": [
                "f = Foo()\nf.bar()\nprint(f.x)"
            ],
            "outputs": [
                {
                    "text": ": Some value",
                    "output_type": "stream",
                    "name": "stdout"
                }
            ],
            "metadata": {
            },
            "execution_count": 1,
            "cell_type": "code"
        },
        {
            "source": [
                "class Shape:\n    def __init__(self, name):\n        self.name = name\n\n    def __repr__(self):\n        return self.name\n\n    def __str__(self):\n        return self.name.upper()\n\n    def area(self):\n        raise NotImplementedError()"
            ],
            "outputs": [],
            "metadata": {
            },
            "execution_count": 1,
            "cell_type": "code"
        },
        {
            "source": [
                "s = Shape('circle')\nprint(s) # s.__str__()"
            ],
            "outputs": [
                {
                    "text": ": CIRCLE",
                    "output_type": "stream",
                    "name": "stdout"
                }
            ],
            "metadata": {
            },
            "execution_count": 1,
            "cell_type": "code"
        },
        {
            "source": [
                "print(str(s))"
            ],
            "outputs": [
                {
                    "text": ": CIRCLE",
                    "output_type": "stream",
                    "name": "stdout"
                }
            ],
            "metadata": {
            },
            "execution_count": 1,
            "cell_type": "code"
        },
        {
            "source": [
                "try:\n    print(s.area())\nexcept NotImplementedError as e:\n    print(e)"
            ],
            "outputs": [
                {
                    "text": ":",
                    "output_type": "stream",
                    "name": "stdout"
                }
            ],
            "metadata": {
            },
            "execution_count": 1,
            "cell_type": "code"
        },
        {
            "source": [
                "class Circle(Shape):\n    def __init__(self, radius):\n        super().__init__('circle')\n        self.radius = radius\n\n    def area(self):\n        return 3.14 * self.radius ** 2"
            ],
            "outputs": [],
            "metadata": {
            },
            "execution_count": 1,
            "cell_type": "code"
        },
        {
            "source": [
                "c = Circle(5.0)\nprint(c.__repr__())\nprint(c.area())"
            ],
            "outputs": [
                {
                    "text": ": circle\n : 78.5",
                    "output_type": "stream",
                    "name": "stdout"
                }
            ],
            "metadata": {
            },
            "execution_count": 1,
            "cell_type": "code"
        },
        {
            "source": [
                "class Circle(Shape):\n    def __init__(self, radius):\n        super().__init__('circle')\n        self.radius = radius\n\n    def area(self):\n        return 3.14 * self.radius ** 2\n\n    def __eq__(self, other):\n        return isinstance(other, Circle) and self.radius == other.radius\n\n    def __add__(self, other):\n        return Circle(self.radius + other.radius)\n\n    def __repr__(self):\n        return 'Circle(r={})'.format(self.radius)\n\n    def __str__(self):\n        return self.__repr__()"
            ],
            "outputs": [],
            "metadata": {
            },
            "execution_count": 1,
            "cell_type": "code"
        },
        {
            "source": [
                "c1 = Circle(2.0)\nc2 = Circle(4.0)\nc3 = Circle(2.0)\n\nprint(c1, c2, c3)\nprint(c1 == c2)\nprint(c1 == c3)\nprint(c1 + c2)"
            ],
            "outputs": [
                {
                    "text": ": Circle(r=2.0) Circle(r=4.0) Circle(r=2.0)\n : False\n : True\n : Circle(r=6.0)",
                    "output_type": "stream",
                    "name": "stdout"
                }
            ],
            "metadata": {
            },
            "execution_count": 1,
            "cell_type": "code"
        },
        {
            "source": [
                "#### 1.  Namespaces and Scope\n\n"
            ],
            "metadata": {
            },
            "cell_type": "markdown"
        },
        {
            "source": [
                "-   Python organizes **identifiers** in namespaces:\n    -   **Built-In**: reserved for build-in python\n    -   **Global**: global to a file / module (more on that later)\n    -   **Enclosing**: class and function definitions can be nested resulting in a hierarchy of *enclosing* namespaces\n    -   **Local**: this is a namespace local to a function or class definition\n\nYou can list which symbols are defined in a namespace using `dir`.\n\n"
            ],
            "metadata": {
            },
            "cell_type": "markdown"
        },
        {
            "source": [
                "def f():\n    \"\"\"\nThis this the documentation of f.\n    \"\"\"\n    pass\nprint(dir(f))\nprint(f.__doc__)\nhelp(f)"
            ],
            "outputs": [
                {
                    "text": "['__annotations__', '__call__', '__class__', '__closure__', '__code__', '__defaults__', '__delattr__', '__dict__', '__dir__', '__doc__', '__eq__', '__format__', '__ge__', '__get__', '__getattribute__', '__globals__', '__gt__', '__hash__', '__init__', '__init_subclass__', '__kwdefaults__', '__le__', '__lt__', '__module__', '__name__', '__ne__', '__new__', '__qualname__', '__reduce__', '__reduce_ex__', '__repr__', '__setattr__', '__sizeof__', '__str__', '__subclasshook__']\n:\nThis this the documentation of f.\n:\nHelp on function f in module __main__:\n:\nf()\n    This this the documentation of f.\n:",
                    "output_type": "stream",
                    "name": "stdout"
                }
            ],
            "metadata": {
            },
            "execution_count": 1,
            "cell_type": "code"
        },
        {
            "source": [
                "The **scope** of a symbol is the part of the code where it is visible. A more detailed description can be found here:\n[https://docs.python.org/3/tutorial/classes.html](https://docs.python.org/3/tutorial/classes.html)\n\n"
            ],
            "metadata": {
            },
            "cell_type": "markdown"
        },
        {
            "source": [
                "##### `build-in` namespace\n\n"
            ],
            "metadata": {
            },
            "cell_type": "markdown"
        },
        {
            "source": [
                "print(dir(__builtins__))"
            ],
            "outputs": [
                {
                    "text": ": ['ArithmeticError', 'AssertionError', 'AttributeError', 'BaseException', 'BlockingIOError', 'BrokenPipeError', 'BufferError', 'BytesWarning', 'ChildProcessError', 'ConnectionAbortedError', 'ConnectionError', 'ConnectionRefusedError', 'ConnectionResetError', 'DeprecationWarning', 'EOFError', 'Ellipsis', 'EnvironmentError', 'Exception', 'False', 'FileExistsError', 'FileNotFoundError', 'FloatingPointError', 'FutureWarning', 'GeneratorExit', 'IOError', 'ImportError', 'ImportWarning', 'IndentationError', 'IndexError', 'InterruptedError', 'IsADirectoryError', 'KeyError', 'KeyboardInterrupt', 'LookupError', 'MemoryError', 'ModuleNotFoundError', 'NameError', 'None', 'NotADirectoryError', 'NotImplemented', 'NotImplementedError', 'OSError', 'OverflowError', 'PendingDeprecationWarning', 'PermissionError', 'ProcessLookupError', 'RecursionError', 'ReferenceError', 'ResourceWarning', 'RuntimeError', 'RuntimeWarning', 'StopAsyncIteration', 'StopIteration', 'SyntaxError', 'SyntaxWarning', 'SystemError', 'SystemExit', 'TabError', 'TimeoutError', 'True', 'TypeError', 'UnboundLocalError', 'UnicodeDecodeError', 'UnicodeEncodeError', 'UnicodeError', 'UnicodeTranslateError', 'UnicodeWarning', 'UserWarning', 'ValueError', 'Warning', 'ZeroDivisionError', '__IPYTHON__', '__build_class__', '__debug__', '__doc__', '__import__', '__loader__', '__name__', '__package__', '__spec__', 'abs', 'all', 'any', 'ascii', 'bin', 'bool', 'breakpoint', 'bytearray', 'bytes', 'callable', 'chr', 'classmethod', 'compile', 'complex', 'copyright', 'credits', 'delattr', 'dict', 'dir', 'display', 'divmod', 'enumerate', 'eval', 'exec', 'filter', 'float', 'format', 'frozenset', 'get_ipython', 'getattr', 'globals', 'hasattr', 'hash', 'help', 'hex', 'id', 'input', 'int', 'isinstance', 'issubclass', 'iter', 'len', 'license', 'list', 'locals', 'map', 'max', 'memoryview', 'min', 'next', 'object', 'oct', 'open', 'ord', 'pow', 'print', 'property', 'range', 'repr', 'reversed', 'round', 'set', 'setattr', 'slice', 'sorted', 'staticmethod', 'str', 'sum', 'super', 'tuple', 'type', 'vars', 'zip']",
                    "output_type": "stream",
                    "name": "stdout"
                }
            ],
            "metadata": {
            },
            "execution_count": 1,
            "cell_type": "code"
        },
        {
            "source": [
                "##### global namespace\n\n"
            ],
            "metadata": {
            },
            "cell_type": "markdown"
        },
        {
            "source": [
                "x = 'I am global!'\ndef f():\n    print(x)\nprint(x)\nf()"
            ],
            "outputs": [
                {
                    "text": ": I am global!\n     : I am global!",
                    "output_type": "stream",
                    "name": "stdout"
                }
            ],
            "metadata": {
            },
            "execution_count": 1,
            "cell_type": "code"
        },
        {
            "source": [
                "##### local namespace\n\n"
            ],
            "metadata": {
            },
            "cell_type": "markdown"
        },
        {
            "source": [
                "def f():\n    y = \"I am in local namespace\"\n    print(y)\nf()"
            ],
            "outputs": [
                {
                    "text": ": I am in local namespace",
                    "output_type": "stream",
                    "name": "stdout"
                }
            ],
            "metadata": {
            },
            "execution_count": 1,
            "cell_type": "code"
        },
        {
            "source": [
                "##### enclosing namespace\n\n"
            ],
            "metadata": {
            },
            "cell_type": "markdown"
        },
        {
            "source": [
                "x = \"I am a global x\"\n\ndef outerMost():\n    def slightlyOuter():\n        def inner():\n            x = \"I am inners's x\"\n            print(x)\n\n        x = \"I am slightlyOuter's x\"\n        print(x)\n        inner()\n    x = \"I am outerMost's x\"\n    print(x)\n    slightlyOuter()\n\nprint(x)\nouterMost()"
            ],
            "outputs": [
                {
                    "text": ": I am a global x\n     : I am outerMost's x\n     : I am slightlyOuter's x\n     : I am inners's x",
                    "output_type": "stream",
                    "name": "stdout"
                }
            ],
            "metadata": {
            },
            "execution_count": 1,
            "cell_type": "code"
        },
        {
            "source": [
                "##### Scope\n\n"
            ],
            "metadata": {
            },
            "cell_type": "markdown"
        },
        {
            "source": [
                "Python searches for a symbol in the order shown below and the first symbol found is used\n\n-   local namespace\n-   enclosing namespace (inner to outer)\n-   global\n-   built-in\n\n"
            ],
            "metadata": {
            },
            "cell_type": "markdown"
        },
        {
            "source": [
                "x = \"I am a global x\"\n\ndef outerMost():\n    def slightlyOuter():\n        def inner():\n            z = \"I am inners's x\"\n            print(x)\n\n        y = \"I am slightlyOuter's x\"\n        print(x)\n        inner()\n    x = \"I am outerMost's x\"\n    print(x)\n    slightlyOuter()\n\nprint(x)\nouterMost()"
            ],
            "outputs": [
                {
                    "text": ": I am a global x\n     : I am outerMost's x\n     : I am outerMost's x\n     : I am outerMost's x",
                    "output_type": "stream",
                    "name": "stdout"
                }
            ],
            "metadata": {
            },
            "execution_count": 1,
            "cell_type": "code"
        },
        {
            "source": [
                "This means that, e.g., local variables hide enclosing variables and enclosing variables hide global variables. Since in python variables can be assigned to without having to declare them, this means without some extra syntax it is not possible to assign to a variable from some outer scope.\n\n"
            ],
            "metadata": {
            },
            "cell_type": "markdown"
        },
        {
            "source": [
                "x = None\n\ndef f():\n    x = 'test' # this is not assigning a new value to the global x, but creates a new x in the namespace of f\n\nf()\nprint(x) # This is still the global x"
            ],
            "outputs": [
                {
                    "text": "None",
                    "output_type": "stream",
                    "name": "stdout"
                }
            ],
            "metadata": {
            },
            "execution_count": 1,
            "cell_type": "code"
        },
        {
            "source": [
                "So how can we assign to variables from an enclosing or global scope? Python provides keywords `global` and `nonlocal` to enable this.\n\n"
            ],
            "metadata": {
            },
            "cell_type": "markdown"
        },
        {
            "source": [
                "x = None\n\ndef f():\n    global x\n    x = 'test' # this is assigning to the global x\n\nf()\nprint(x) # This is not the global x"
            ],
            "outputs": [
                {
                    "text": "test",
                    "output_type": "stream",
                    "name": "stdout"
                }
            ],
            "metadata": {
            },
            "execution_count": 1,
            "cell_type": "code"
        },
        {
            "source": [
                "##### class namespaces\n\n"
            ],
            "metadata": {
            },
            "cell_type": "markdown"
        },
        {
            "source": [
                "Objects of a class have their own namespace. As discussed before instance methods of a class have an explicit parameter `self` through which instance methods and fields can be accessed. Furthermore, variables declared in the scope of the class, but outside the scope of any method of the class are global to the class (not specific to any particular instance) and are referenced through `Class.field`.\n\n"
            ],
            "metadata": {
            },
            "cell_type": "markdown"
        },
        {
            "source": [
                "x = 'global x'\n\nclass a:\n    x = \"a's x\"\n\n    def __init__(self):\n        self.x = \"object's x\"\n\n    @staticmethod\n    def staticMethod():\n        print(f\"static method: x = {x}\")\n        print(f\"static method: a.x = {a.x}\")\n\n    def f(self):\n        print(f\"self.x = {self.x}\")\n        print(f\"x = {x}\")\n        print(f\"a.x = {a.x}\")\n\no = a()\no.f()\na.staticMethod()"
            ],
            "outputs": [
                {
                    "text": ": self.x = object's x\n      : x = global x\n      : a.x = a's x\n      : static method: x = global x\n      : static method: a.x = a's x",
                    "output_type": "stream",
                    "name": "stdout"
                }
            ],
            "metadata": {
            },
            "execution_count": 1,
            "cell_type": "code"
        },
        {
            "source": [
                "#### 1.  Immutable Sequence Types: Strings, Ranges, Tuples\n\n"
            ],
            "metadata": {
            },
            "cell_type": "markdown"
        },
        {
            "source": [
                "Recall: All immutable sequences support the\n [common\n sequence operations](https://docs.python.org/3/library/stdtypes.html#common-sequence-operations). For many sequence types, there are constructors\n that allow us to create them from other sequence types.\n\n"
            ],
            "metadata": {
            },
            "cell_type": "markdown"
        },
        {
            "source": [
                "##### Strings\n\n"
            ],
            "metadata": {
            },
            "cell_type": "markdown"
        },
        {
            "source": [
                "s = 'hello'\nprint(s)"
            ],
            "outputs": [
                {
                    "text": ": hello",
                    "output_type": "stream",
                    "name": "stdout"
                }
            ],
            "metadata": {
            },
            "execution_count": 1,
            "cell_type": "code"
        },
        {
            "source": [
                "print(s[0])\nprint(s[1:3])\nprint('e' in s)\nprint(s + s)"
            ],
            "outputs": [
                {
                    "text": ": h\n : el\n : True\n : hellohello",
                    "output_type": "stream",
                    "name": "stdout"
                }
            ],
            "metadata": {
            },
            "execution_count": 1,
            "cell_type": "code"
        },
        {
            "source": [
                "try:\n    s[0] = 'j'\nexcept TypeError as e:\n    print(e)"
            ],
            "outputs": [
                {
                    "text": ": 'str' object does not support item assignment",
                    "output_type": "stream",
                    "name": "stdout"
                }
            ],
            "metadata": {
            },
            "execution_count": 1,
            "cell_type": "code"
        },
        {
            "source": [
                "s = 'hello'\nt = s\ns += s # not mutating the string!\nprint(s)\nprint(t)"
            ],
            "outputs": [
                {
                    "text": ": hellohello\n : hello",
                    "output_type": "stream",
                    "name": "stdout"
                }
            ],
            "metadata": {
            },
            "execution_count": 1,
            "cell_type": "code"
        },
        {
            "source": [
                "##### Ranges\n\n"
            ],
            "metadata": {
            },
            "cell_type": "markdown"
        },
        {
            "source": [
                "r = range(150, 10, -8)\nprint(r)"
            ],
            "outputs": [
                {
                    "text": ": range(150, 10, -8)",
                    "output_type": "stream",
                    "name": "stdout"
                }
            ],
            "metadata": {
            },
            "execution_count": 1,
            "cell_type": "code"
        },
        {
            "source": [
                "print(r[2])\nprint(r[3:7])\nprint(94 in r)"
            ],
            "outputs": [
                {
                    "text": ": 134\n : range(126, 94, -8)\n : True",
                    "output_type": "stream",
                    "name": "stdout"
                }
            ],
            "metadata": {
            },
            "execution_count": 1,
            "cell_type": "code"
        },
        {
            "source": [
                "##### Tuples\n\n"
            ],
            "metadata": {
            },
            "cell_type": "markdown"
        },
        {
            "source": [
                "a = ()\nprint(a)"
            ],
            "outputs": [
                {
                    "text": ": ()",
                    "output_type": "stream",
                    "name": "stdout"
                }
            ],
            "metadata": {
            },
            "execution_count": 1,
            "cell_type": "code"
        },
        {
            "source": [
                "print((1, 2, 3))"
            ],
            "outputs": [
                {
                    "text": ": (1, 2, 3)",
                    "output_type": "stream",
                    "name": "stdout"
                }
            ],
            "metadata": {
            },
            "execution_count": 1,
            "cell_type": "code"
        },
        {
            "source": [
                "print(('a', 10, False, 'hello'))"
            ],
            "outputs": [
                {
                    "text": ": ('a', 10, False, 'hello')",
                    "output_type": "stream",
                    "name": "stdout"
                }
            ],
            "metadata": {
            },
            "execution_count": 1,
            "cell_type": "code"
        },
        {
            "source": [
                "print(tuple(range(10)))"
            ],
            "outputs": [
                {
                    "text": ": (0, 1, 2, 3, 4, 5, 6, 7, 8, 9)",
                    "output_type": "stream",
                    "name": "stdout"
                }
            ],
            "metadata": {
            },
            "execution_count": 1,
            "cell_type": "code"
        },
        {
            "source": [
                "print(tuple('hello'))"
            ],
            "outputs": [
                {
                    "text": ": ('h', 'e', 'l', 'l', 'o')",
                    "output_type": "stream",
                    "name": "stdout"
                }
            ],
            "metadata": {
            },
            "execution_count": 1,
            "cell_type": "code"
        },
        {
            "source": [
                "t = tuple('hello')\nprint('e' in t)\nprint(t[::-1])\nprint(t * 3)\nprint((1,2) * 2)"
            ],
            "outputs": [
                {
                    "text": ": True\n : ('o', 'l', 'l', 'e', 'h')\n : ('h', 'e', 'l', 'l', 'o', 'h', 'e', 'l', 'l', 'o', 'h', 'e', 'l', 'l', 'o')\n : (1, 2, 1, 2)",
                    "output_type": "stream",
                    "name": "stdout"
                }
            ],
            "metadata": {
            },
            "execution_count": 1,
            "cell_type": "code"
        },
        {
            "source": [
                "#### 1.  Mutable data structures: Lists, Sets, Dicts\n\n"
            ],
            "metadata": {
            },
            "cell_type": "markdown"
        },
        {
            "source": [
                "##### Lists\n\n"
            ],
            "metadata": {
            },
            "cell_type": "markdown"
        },
        {
            "source": [
                "This list supports the  [mutable sequence operations](https://docs.python.org/3/library/stdtypes.html#mutable-sequence-types) in addition to the [common sequence operations](https://docs.python.org/3/library/stdtypes.html#common-sequence-operations).\n\n"
            ],
            "metadata": {
            },
            "cell_type": "markdown"
        },
        {
            "source": [
                "l = [1, 2, 1, 1, 2, 3, 3, 1]\nprint(l)"
            ],
            "outputs": [
                {
                    "text": ": [1, 2, 1, 1, 2, 3, 3, 1]",
                    "output_type": "stream",
                    "name": "stdout"
                }
            ],
            "metadata": {
            },
            "execution_count": 1,
            "cell_type": "code"
        },
        {
            "source": [
                "print(len(l))"
            ],
            "outputs": [
                {
                    "text": ": 8",
                    "output_type": "stream",
                    "name": "stdout"
                }
            ],
            "metadata": {
            },
            "execution_count": 1,
            "cell_type": "code"
        },
        {
            "source": [
                "print(l[5])"
            ],
            "outputs": [
                {
                    "text": ": 3",
                    "output_type": "stream",
                    "name": "stdout"
                }
            ],
            "metadata": {
            },
            "execution_count": 1,
            "cell_type": "code"
        },
        {
            "source": [
                "print(l[1:-1])"
            ],
            "outputs": [
                {
                    "text": ": [2, 1, 1, 2, 3, 3]",
                    "output_type": "stream",
                    "name": "stdout"
                }
            ],
            "metadata": {
            },
            "execution_count": 1,
            "cell_type": "code"
        },
        {
            "source": [
                "print(l + ['hello', 'world'])"
            ],
            "outputs": [
                {
                    "text": ": [1, 2, 1, 1, 2, 3, 3, 1, 'hello', 'world']",
                    "output_type": "stream",
                    "name": "stdout"
                }
            ],
            "metadata": {
            },
            "execution_count": 1,
            "cell_type": "code"
        },
        {
            "source": [
                "print(l) # `+` does *not* mutate the list!"
            ],
            "outputs": [
                {
                    "text": ": [1, 2, 1, 1, 2, 3, 3, 1]",
                    "output_type": "stream",
                    "name": "stdout"
                }
            ],
            "metadata": {
            },
            "execution_count": 1,
            "cell_type": "code"
        },
        {
            "source": [
                "print(l * 3)\nprint(l)"
            ],
            "outputs": [
                {
                    "text": ": [1, 2, 1, 1, 2, 3, 3, 1, 1, 2, 1, 1, 2, 3, 3, 1, 1, 2, 1, 1, 2, 3, 3, 1]\n : [1, 2, 1, 1, 2, 3, 3, 1]",
                    "output_type": "stream",
                    "name": "stdout"
                }
            ],
            "metadata": {
            },
            "execution_count": 1,
            "cell_type": "code"
        },
        {
            "source": [
                "sum = 0\nfor x in l:\n    sum += x\nprint(sum)"
            ],
            "outputs": [
                {
                    "text": ": 14",
                    "output_type": "stream",
                    "name": "stdout"
                }
            ],
            "metadata": {
            },
            "execution_count": 1,
            "cell_type": "code"
        },
        {
            "source": [
                "###### Mutable list operations\n\n"
            ],
            "metadata": {
            },
            "cell_type": "markdown"
        },
        {
            "source": [
                "l = list('hell')\nprint(l)"
            ],
            "outputs": [
                {
                    "text": ": ['h', 'e', 'l', 'l']",
                    "output_type": "stream",
                    "name": "stdout"
                }
            ],
            "metadata": {
            },
            "execution_count": 1,
            "cell_type": "code"
        },
        {
            "source": [
                "l.append('o')\nl.append('!')\nprint(l)"
            ],
            "outputs": [
                {
                    "text": ": ['h', 'e', 'l', 'l', 'o', '!']",
                    "output_type": "stream",
                    "name": "stdout"
                }
            ],
            "metadata": {
            },
            "execution_count": 1,
            "cell_type": "code"
        },
        {
            "source": [
                "print(l)"
            ],
            "outputs": [
                {
                    "text": ": ['h', 'e', 'l', 'l', 'o']",
                    "output_type": "stream",
                    "name": "stdout"
                }
            ],
            "metadata": {
            },
            "execution_count": 1,
            "cell_type": "code"
        },
        {
            "source": [
                "l.append(' there')"
            ],
            "outputs": [],
            "metadata": {
            },
            "execution_count": 1,
            "cell_type": "code"
        },
        {
            "source": [
                "print(l)"
            ],
            "outputs": [
                {
                    "text": ": ['h', 'e', 'l', 'l', 'o', ' there']",
                    "output_type": "stream",
                    "name": "stdout"
                }
            ],
            "metadata": {
            },
            "execution_count": 1,
            "cell_type": "code"
        },
        {
            "source": [
                "del l[-1]\nprint(l)"
            ],
            "outputs": [
                {
                    "text": ": ['h', 'e', 'l', 'l', 'o', '!']",
                    "output_type": "stream",
                    "name": "stdout"
                }
            ],
            "metadata": {
            },
            "execution_count": 1,
            "cell_type": "code"
        },
        {
            "source": [
                "l.extend(' there')\nprint(l)"
            ],
            "outputs": [
                {
                    "text": ": ['h', 'e', 'l', 'l', 'o', '!', ' ', 't', 'h', 'e', 'r', 'e']",
                    "output_type": "stream",
                    "name": "stdout"
                }
            ],
            "metadata": {
            },
            "execution_count": 1,
            "cell_type": "code"
        },
        {
            "source": [
                "print(l)"
            ],
            "outputs": [
                {
                    "text": ": ['h', 'e', 'l', 'l', 'o', ' ', 't', 'h', 'e', 'r', 'e']",
                    "output_type": "stream",
                    "name": "stdout"
                }
            ],
            "metadata": {
            },
            "execution_count": 1,
            "cell_type": "code"
        },
        {
            "source": [
                "print(l[2:7])"
            ],
            "outputs": [
                {
                    "text": ": ['l', 'l', 'o', '!', ' ']",
                    "output_type": "stream",
                    "name": "stdout"
                }
            ],
            "metadata": {
            },
            "execution_count": 1,
            "cell_type": "code"
        },
        {
            "source": [
                "del l[2:7]\nprint(l)"
            ],
            "outputs": [
                {
                    "text": ": ['h', 'e', 't', 'h', 'e', 'r', 'e']",
                    "output_type": "stream",
                    "name": "stdout"
                }
            ],
            "metadata": {
            },
            "execution_count": 1,
            "cell_type": "code"
        },
        {
            "source": [
                "print(l)"
            ],
            "outputs": [
                {
                    "text": ": ['h', 'e', 'h', 'e', 'r', 'e']",
                    "output_type": "stream",
                    "name": "stdout"
                }
            ],
            "metadata": {
            },
            "execution_count": 1,
            "cell_type": "code"
        },
        {
            "source": [
                "print(l[:])"
            ],
            "outputs": [
                {
                    "text": ": ['h', 'e', 'h', 'e', 'r', 'e']",
                    "output_type": "stream",
                    "name": "stdout"
                }
            ],
            "metadata": {
            },
            "execution_count": 1,
            "cell_type": "code"
        },
        {
            "source": [
                "###### List comprehensions\n\n"
            ],
            "metadata": {
            },
            "cell_type": "markdown"
        },
        {
            "source": [
                "-   comprehension syntax: `[ expr(x) for x in SEQUENCE]`\n\n"
            ],
            "metadata": {
            },
            "cell_type": "markdown"
        },
        {
            "source": [
                "print([x for x in range(11)])\n# is equivalent\nresult = []\nfor x in range(11):\n    result.append(x)\nprint(result)"
            ],
            "outputs": [
                {
                    "text": ": [0, 1, 2, 3, 4, 5, 6, 7, 8, 9, 10]\n : [0, 1, 2, 3, 4, 5, 6, 7, 8, 9, 10]",
                    "output_type": "stream",
                    "name": "stdout"
                }
            ],
            "metadata": {
            },
            "execution_count": 1,
            "cell_type": "code"
        },
        {
            "source": [
                "print([2*x+1 for x in range(10)]) # odd numbers"
            ],
            "outputs": [
                {
                    "text": ": [1, 3, 5, 7, 9, 11, 13, 15, 17, 19]",
                    "output_type": "stream",
                    "name": "stdout"
                }
            ],
            "metadata": {
            },
            "execution_count": 1,
            "cell_type": "code"
        },
        {
            "source": [
                "adjs = ('hot', 'blue', 'quick')\nnouns = ('table', 'fox', 'sky')\nprint([adj + ' ' + noun for adj in adjs for noun in nouns])"
            ],
            "outputs": [
                {
                    "text": ": ['hot table', 'hot fox', 'hot sky', 'blue table', 'blue fox', 'blue sky', 'quick table', 'quick fox', 'quick sky']",
                    "output_type": "stream",
                    "name": "stdout"
                }
            ],
            "metadata": {
            },
            "execution_count": 1,
            "cell_type": "code"
        },
        {
            "source": [
                "# pythagorean triples\nn = 50\nprint([(a,b,c) for a in range(1,n)\n           for b in range(a,n)\n           for c in range(b,n)\n           if a**2 + b**2 == c**2])"
            ],
            "outputs": [
                {
                    "text": ": [(3, 4, 5), (5, 12, 13), (6, 8, 10), (7, 24, 25), (8, 15, 17), (9, 12, 15), (9, 40, 41), (10, 24, 26), (12, 16, 20), (12, 35, 37), (15, 20, 25), (15, 36, 39), (16, 30, 34), (18, 24, 30), (20, 21, 29), (21, 28, 35), (24, 32, 40), (27, 36, 45)]",
                    "output_type": "stream",
                    "name": "stdout"
                }
            ],
            "metadata": {
            },
            "execution_count": 1,
            "cell_type": "code"
        },
        {
            "source": [
                "##### Sets\n\n"
            ],
            "metadata": {
            },
            "cell_type": "markdown"
        },
        {
            "source": [
                "A [set](https://docs.python.org/3.7/library/stdtypes.html#set-types-set-frozenset) is a data structure that represents an *unordered* collection of unique objects (like the mathematical set).\n\n"
            ],
            "metadata": {
            },
            "cell_type": "markdown"
        },
        {
            "source": [
                "s = {1, 2, 1, 1, 2, 3, 3, 1}"
            ],
            "outputs": [],
            "metadata": {
            },
            "execution_count": 1,
            "cell_type": "code"
        },
        {
            "source": [
                "print(s)"
            ],
            "outputs": [
                {
                    "text": ": {1, 2, 3}",
                    "output_type": "stream",
                    "name": "stdout"
                }
            ],
            "metadata": {
            },
            "execution_count": 1,
            "cell_type": "code"
        },
        {
            "source": [
                "t = {2, 3, 4, 5}\nprint(t)"
            ],
            "outputs": [
                {
                    "text": ": {2, 3, 4, 5}",
                    "output_type": "stream",
                    "name": "stdout"
                }
            ],
            "metadata": {
            },
            "execution_count": 1,
            "cell_type": "code"
        },
        {
            "source": [
                "print(s.union(t))"
            ],
            "outputs": [
                {
                    "text": ": {1, 2, 3, 4, 5}",
                    "output_type": "stream",
                    "name": "stdout"
                }
            ],
            "metadata": {
            },
            "execution_count": 1,
            "cell_type": "code"
        },
        {
            "source": [
                "print(s.difference(t))"
            ],
            "outputs": [
                {
                    "text": ": {1}",
                    "output_type": "stream",
                    "name": "stdout"
                }
            ],
            "metadata": {
            },
            "execution_count": 1,
            "cell_type": "code"
        },
        {
            "source": [
                "print(s.intersection(t))"
            ],
            "outputs": [
                {
                    "text": ": {2, 3}",
                    "output_type": "stream",
                    "name": "stdout"
                }
            ],
            "metadata": {
            },
            "execution_count": 1,
            "cell_type": "code"
        },
        {
            "source": [
                "stri = 'Hello World, this is CS331!'\nchars = set(stri)\nprint(chars)\nprint('H' in chars)\nprint('O' in chars)\nprint('O' not in chars)\nprint({ 1, 2, 3 }.union({4, 5}))"
            ],
            "outputs": [
                {
                    "text": ": {'l', 't', 'W', '!', 'H', 'e', 's', ',', 'h', 'r', 'C', 'o', ' ', '3', 'd', 'i', 'S', '1'}\n : True\n : False\n : True\n : {1, 2, 3, 4, 5}",
                    "output_type": "stream",
                    "name": "stdout"
                }
            ],
            "metadata": {
            },
            "execution_count": 1,
            "cell_type": "code"
        },
        {
            "source": [
                "stri = 'Hello World, this is CS331!'\nchars = set(stri)\nchars.add('O')\nprint(chars)"
            ],
            "outputs": [
                {
                    "text": ": {'t', 'o', 'd', 'O', 'l', 'W', 's', 'r', ' ', '3', 'S', 'i', '1', 'H', '!', 'e', ',', 'h', 'C'}",
                    "output_type": "stream",
                    "name": "stdout"
                }
            ],
            "metadata": {
            },
            "execution_count": 1,
            "cell_type": "code"
        },
        {
            "source": [
                "s = { 1, 2, 3 }\nt = { 2, 3, 4 }\nu = { 1, 2, 3, 4, 5 }\nprint(s < u)\nprint(s < t)\nprint(s < s)\nprint(s <= s)"
            ],
            "outputs": [
                {
                    "text": ": True\n : False\n : False\n : True",
                    "output_type": "stream",
                    "name": "stdout"
                }
            ],
            "metadata": {
            },
            "execution_count": 1,
            "cell_type": "code"
        },
        {
            "source": [
                "def mysubseteq(left,right):\n    for e in left:\n        if not e in right:\n            return False\n    return True\n\nprint(mysubseteq(s,u))\nprint(mysubseteq(s,t))"
            ],
            "outputs": [
                {
                    "text": ": True\n : False",
                    "output_type": "stream",
                    "name": "stdout"
                }
            ],
            "metadata": {
            },
            "execution_count": 1,
            "cell_type": "code"
        },
        {
            "source": [
                "def setop_subseteq(left, right):\n    return left.intersection(right) == left\n\nprint(setop_subseteq(s,u))\nprint(setop_subseteq(s,t))"
            ],
            "outputs": [
                {
                    "text": "True\nFalse",
                    "output_type": "stream",
                    "name": "stdout"
                }
            ],
            "metadata": {
            },
            "execution_count": 1,
            "cell_type": "code"
        },
        {
            "source": [
                "def myintersection(left, right):\n    pass # only uses union / difference to implement intersection\n\nprint(myintersection(s,t) == s.intersection(t))\nprint(myintersection(s,u) == s.intersection(u))"
            ],
            "outputs": [],
            "metadata": {
            },
            "execution_count": 1,
            "cell_type": "code"
        },
        {
            "source": [
                "##### Dicts\n\n"
            ],
            "metadata": {
            },
            "cell_type": "markdown"
        },
        {
            "source": [
                "A [dictionary](https://docs.python.org/3/library/stdtypes.html#mapping-types-dict) is a data structure that contains a set of unique key → value mappings.\n\n"
            ],
            "metadata": {
            },
            "cell_type": "markdown"
        },
        {
            "source": [
                "d = {\n    'Superman':  'Clark Kent',\n    'Batman':    'Bruce Wayne',\n    'Spiderman': 'Peter Parker',\n    'Ironman':   'Tony Stark'\n}"
            ],
            "outputs": [],
            "metadata": {
            },
            "execution_count": 1,
            "cell_type": "code"
        },
        {
            "source": [
                "print(d['Ironman'])"
            ],
            "outputs": [
                {
                    "text": ": Tony Stark",
                    "output_type": "stream",
                    "name": "stdout"
                }
            ],
            "metadata": {
            },
            "execution_count": 1,
            "cell_type": "code"
        },
        {
            "source": [
                "d['Ironman'] = 'James Rhodes'\nprint(d)"
            ],
            "outputs": [
                {
                    "text": ": {'Superman': 'Clark Kent', 'Batman': 'Bruce Wayne', 'Spiderman': 'Peter Parker', 'Ironman': 'James Rhodes'}",
                    "output_type": "stream",
                    "name": "stdout"
                }
            ],
            "metadata": {
            },
            "execution_count": 1,
            "cell_type": "code"
        },
        {
            "source": [
                "###### Dictionary comprehensions\n\n"
            ],
            "metadata": {
            },
            "cell_type": "markdown"
        },
        {
            "source": [
                "-   syntax: `{ KEY_EXPR(x) : VALUE_EXPR(x) for x in SEQUENCE }`\n\n"
            ],
            "metadata": {
            },
            "cell_type": "markdown"
        },
        {
            "source": [
                "print({e:2**e for e in range(0,100,10)})"
            ],
            "outputs": [
                {
                    "text": ": {0: 1, 10: 1024, 20: 1048576, 30: 1073741824, 40: 1099511627776, 50: 1125899906842624, 60: 1152921504606846976, 70: 1180591620717411303424, 80: 1208925819614629174706176, 90: 1237940039285380274899124224}",
                    "output_type": "stream",
                    "name": "stdout"
                }
            ],
            "metadata": {
            },
            "execution_count": 1,
            "cell_type": "code"
        },
        {
            "source": [
                "print({x:y for x in range(3) for y in range(10)})"
            ],
            "outputs": [
                {
                    "text": ": {0: 9, 1: 9, 2: 9}",
                    "output_type": "stream",
                    "name": "stdout"
                }
            ],
            "metadata": {
            },
            "execution_count": 1,
            "cell_type": "code"
        },
        {
            "source": [
                "sentence = 'a man a plan a canal panama'\nprint(sentence.split())\nprint({w:w[::-1] for w in sentence.split()})"
            ],
            "outputs": [
                {
                    "text": ": ['a', 'man', 'a', 'plan', 'a', 'canal', 'panama']\n : {'a': 'a', 'man': 'nam', 'plan': 'nalp', 'canal': 'lanac', 'panama': 'amanap'}",
                    "output_type": "stream",
                    "name": "stdout"
                }
            ],
            "metadata": {
            },
            "execution_count": 1,
            "cell_type": "code"
        },
        {
            "source": [
                "#### 1.  Modules and the Standard Library\n\n"
            ],
            "metadata": {
            },
            "cell_type": "markdown"
        },
        {
            "source": [
                "##### Importing modules\n\n"
            ],
            "metadata": {
            },
            "cell_type": "markdown"
        },
        {
            "source": [
                "To get access to functions and attributes of a module within a python file you have to import the module. We already saw some examples of how this works. `import module` makes `module` available for use in a python file. You can then refer to attributes and functions from the module by prefixing them with module name, e.g., `module.function()`.\n\n"
            ],
            "metadata": {
            },
            "cell_type": "markdown"
        },
        {
            "source": [
                "import math\nprint(math.trunc(math.pi))"
            ],
            "outputs": [
                {
                    "text": "3",
                    "output_type": "stream",
                    "name": "stdout"
                }
            ],
            "metadata": {
            },
            "execution_count": 1,
            "cell_type": "code"
        },
        {
            "source": [
                "With long module names, it may be tedious to always have to write out the full module name. Python allows you to define a short alias or import names directly (no prefixing is required after that).\n\n"
            ],
            "metadata": {
            },
            "cell_type": "markdown"
        },
        {
            "source": [
                "from math import trunc, pi\nprint(trunc(pi))"
            ],
            "outputs": [
                {
                    "text": "3",
                    "output_type": "stream",
                    "name": "stdout"
                }
            ],
            "metadata": {
            },
            "execution_count": 1,
            "cell_type": "code"
        },
        {
            "source": [
                "import math as m\nprint(m.trunc(m.pi))"
            ],
            "outputs": [
                {
                    "text": "3",
                    "output_type": "stream",
                    "name": "stdout"
                }
            ],
            "metadata": {
            },
            "execution_count": 1,
            "cell_type": "code"
        },
        {
            "source": [
                "##### The Python Standard Library\n\n"
            ],
            "metadata": {
            },
            "cell_type": "markdown"
        },
        {
            "source": [
                "Python comes with a comprehensive standard library. We will use several modules from this library in the course. However, there is no sense in going over the whole list of available functionality. We encourage you to explore the documentation: [https://docs.python.org/3/library/](https://docs.python.org/3/library/)\n\n"
            ],
            "metadata": {
            },
            "cell_type": "markdown"
        },
        {
            "source": [
                "##### Installing Libraries: Pip and PyPI\n\n"
            ],
            "metadata": {
            },
            "cell_type": "markdown"
        },
        {
            "source": [
                "[PyPI](https://pypi.org/) (The \\*Py\\*thon \\*P\\*ackage \\*I\\*ndex) is a repository of python packages. You can install packages from PyPI using `pip` tool.\n\n    pip install numpy\n\n"
            ],
            "metadata": {
            },
            "cell_type": "markdown"
        },
        {
            "source": [
                "### Searching, Sorting, and Timing:PROPERTIES:\n\n"
            ],
            "metadata": {
            },
            "cell_type": "markdown"
        },
        {
            "source": [
                "#### Agenda\n\n"
            ],
            "metadata": {
            },
            "cell_type": "markdown"
        },
        {
            "source": [
                "1.  Timing (Empirical runtime analysis)\n    1.  Prelude: Timing list indexing\n    2.  Linear search\n    3.  Binary search\n    4.  Insertion sort\n    5.  Bubble sort\n\n"
            ],
            "metadata": {
            },
            "cell_type": "markdown"
        },
        {
            "source": [
                "#### 1.  Timing\n\n"
            ],
            "metadata": {
            },
            "cell_type": "markdown"
        },
        {
            "source": [
                "import time\nprint(time.time())"
            ],
            "outputs": [
                {
                    "text": ":results:\n 1612372583.2940302\n :end:",
                    "output_type": "stream",
                    "name": "stdout"
                }
            ],
            "metadata": {
            },
            "execution_count": 1,
            "cell_type": "code"
        },
        {
            "source": [
                "t1 = time.time()\ntime.sleep(1)\nt2 = time.time()\nprint(t2 - t1)"
            ],
            "outputs": [
                {
                    "text": ":results:\n 1.0002167224884033\n :end:",
                    "output_type": "stream",
                    "name": "stdout"
                }
            ],
            "metadata": {
            },
            "execution_count": 1,
            "cell_type": "code"
        },
        {
            "source": [
                "#### 1.  Prelude: Timing list indexing\n\n"
            ],
            "metadata": {
            },
            "cell_type": "markdown"
        },
        {
            "source": [
                "lst = [0] * 10**5"
            ],
            "outputs": [
                {
                    "text": ":results:\n # Out[250]:\n :end:",
                    "output_type": "stream",
                    "name": "stdout"
                }
            ],
            "metadata": {
            },
            "execution_count": 1,
            "cell_type": "code"
        },
        {
            "source": [
                "import timeit\nprint(timeit.timeit(stmt='lst[0]', globals=globals()))"
            ],
            "outputs": [
                {
                    "text": ":results:\n 0.031202963999930944\n :end:",
                    "output_type": "stream",
                    "name": "stdout"
                }
            ],
            "metadata": {
            },
            "execution_count": 1,
            "cell_type": "code"
        },
        {
            "source": [
                "print(timeit.timeit(stmt='lst[10**5-1]', globals=globals()))"
            ],
            "outputs": [
                {
                    "text": ":results:\n 0.03398883900081273\n :end:",
                    "output_type": "stream",
                    "name": "stdout"
                }
            ],
            "metadata": {
            },
            "execution_count": 1,
            "cell_type": "code"
        },
        {
            "source": [
                "print('lst[{}]'.format(1))"
            ],
            "outputs": [
                {
                    "text": ":results:\n lst[1]\n :end:",
                    "output_type": "stream",
                    "name": "stdout"
                }
            ],
            "metadata": {
            },
            "execution_count": 1,
            "cell_type": "code"
        },
        {
            "source": [
                "times = [timeit.timeit(stmt='lst[{}]'.format(i),\n                         globals=globals(),\n                         number=1000)\n           for i in range(10**5)]"
            ],
            "outputs": [
                {
                    "text": ":results:\n # Out[245]:\n :end:",
                    "output_type": "stream",
                    "name": "stdout"
                }
            ],
            "metadata": {
            },
            "execution_count": 1,
            "cell_type": "code"
        },
        {
            "source": [
                "times[:10]"
            ],
            "outputs": [
                {
                    "text": ":results:\n # Out[254]:\n #+BEGIN_EXAMPLE\n   [3.098199977102922e-05,\n   3.044299955945462e-05,\n   3.015200036315946e-05,\n   3.0162000257405452e-05,\n   4.410600013216026e-05,\n   3.0231999517127406e-05,\n   3.0186000003595836e-05,\n   3.027599996130448e-05,\n   3.035100053239148e-05,\n   3.0255000638135243e-05]\n #+END_EXAMPLE\n :end:",
                    "output_type": "stream",
                    "name": "stdout"
                }
            ],
            "metadata": {
            },
            "execution_count": 1,
            "cell_type": "code"
        },
        {
            "source": [
                "%matplotlib inline\nimport matplotlib.pyplot as plt\nplt.plot(times, 'bo')"
            ],
            "outputs": [
                {
                    "text": "#+RESULTS[aa6d714c4f6f53fa1aab34255dc5a94290399acf]:\n\n# Out[256]:\n[<matplotlib.lines.Line2D at 0x1091ebd60>]",
                    "output_type": "stream",
                    "name": "stdout"
                },
                {
                    "output_type": "display_data",
                    "metadata": {
                    },
                    "data": {
                        "text/plain": "<matplotlib.figure.Figure>",
                        "image/png": "[encoded data removed]"
                    }
                }
            ],
            "metadata": {
            },
            "execution_count": 1,
            "cell_type": "code"
        },
        {
            "source": [
                "Observation: accessing an element in a list by index takes a constant\n amount of time, regardless of position.\n\nHow? **A Python list uses an array as its underlying data storage\nmechanism.** To access an element in an array, the interpreter:\n\n1.  Computes an *offset* into the array by multiplying the element's\n    index by the size of each array entry (which are uniformly sized,\n    since they are merely *references* to the actual elements)\n2.  Adds the offset to the *base address* of the array\n\n"
            ],
            "metadata": {
            },
            "cell_type": "markdown"
        },
        {
            "source": [
                "#### 1.  Linear Search\n\n"
            ],
            "metadata": {
            },
            "cell_type": "markdown"
        },
        {
            "source": [
                "Task: to locate an element with a given value in a list (array).\n\n"
            ],
            "metadata": {
            },
            "cell_type": "markdown"
        },
        {
            "source": [
                "def lindex(lst, x):\n    for i in range(len(lst)):\n        if x == lst[i]:\n            return i\n    return -1"
            ],
            "outputs": [
                {
                    "text": ":results:\n # Out[17]:\n :end:",
                    "output_type": "stream",
                    "name": "stdout"
                }
            ],
            "metadata": {
            },
            "execution_count": 1,
            "cell_type": "code"
        },
        {
            "source": [
                "lst = list(range(100))\nlindex(lst, 10)"
            ],
            "outputs": [
                {
                    "text": ":results:\n # Out[40]:\n : 10\n :end:",
                    "output_type": "stream",
                    "name": "stdout"
                }
            ],
            "metadata": {
            },
            "execution_count": 1,
            "cell_type": "code"
        },
        {
            "source": [
                "lindex(lst, 99)"
            ],
            "outputs": [
                {
                    "text": ":results:\n # Out[41]:\n : 99\n :end:",
                    "output_type": "stream",
                    "name": "stdout"
                }
            ],
            "metadata": {
            },
            "execution_count": 1,
            "cell_type": "code"
        },
        {
            "source": [
                "lindex(lst, -2)"
            ],
            "outputs": [
                {
                    "text": ":results:\n # Out[20]:\n : -1\n :end:",
                    "output_type": "stream",
                    "name": "stdout"
                }
            ],
            "metadata": {
            },
            "execution_count": 1,
            "cell_type": "code"
        },
        {
            "source": [
                "import timeit\nlst = list(range(1000))\nltimes = [timeit.timeit(stmt='lindex(lst, {})'.format(x),\n                         globals=globals(),\n                         number=100)\n           for x in range(1000)]"
            ],
            "outputs": [
                {
                    "text": ":results:\n # Out[21]:\n :end:",
                    "output_type": "stream",
                    "name": "stdout"
                }
            ],
            "metadata": {
            },
            "execution_count": 1,
            "cell_type": "code"
        },
        {
            "source": [
                "import matplotlib.pyplot as plt\nplt.plot(ltimes, 'ro')"
            ],
            "outputs": [
                {
                    "text": "#+RESULTS[e76ffca8a19fd5b5fb377de0b2d208c885175c4a]:\n :results:\n # Out[22]:\n : [<matplotlib.lines.Line2D at 0x110299ca0>]\n \n :end:",
                    "output_type": "stream",
                    "name": "stdout"
                },
                {
                    "output_type": "display_data",
                    "metadata": {
                    },
                    "data": {
                        "text/plain": "<matplotlib.figure.Figure>",
                        "image/png": "[encoded data removed]"
                    }
                }
            ],
            "metadata": {
            },
            "execution_count": 1,
            "cell_type": "code"
        },
        {
            "source": [
                "#### 1.  Binary search\n\n"
            ],
            "metadata": {
            },
            "cell_type": "markdown"
        },
        {
            "source": [
                "Task: to locate an element with a given value in a list (array) whose\n contents are *sorted in ascending order*.\n\n"
            ],
            "metadata": {
            },
            "cell_type": "markdown"
        },
        {
            "source": [
                "def index(lst, x):\n    def binsearch_rec(lst,x,l,h):\n        mid = ((h - l) // 2) + l\n        if lst[mid] == x:\n            return mid\n        if (h - l) == 1:\n            return -1\n        newlow = mid + 1 if lst[mid] < x else l\n        newhigh = mid - 1 if lst[mid] > x else h\n        return binsearch_rec(lst,x,newlow,newhigh)\n    return binsearch_rec(lst,x,0,len(lst))"
            ],
            "outputs": [
                {
                    "text": ":results:\n :end:",
                    "output_type": "stream",
                    "name": "stdout"
                }
            ],
            "metadata": {
            },
            "execution_count": 1,
            "cell_type": "code"
        },
        {
            "source": [
                "lst = list(range(1000))\nprint(index(lst, 10))"
            ],
            "outputs": [
                {
                    "text": ":results:\n 10\n :end:",
                    "output_type": "stream",
                    "name": "stdout"
                }
            ],
            "metadata": {
            },
            "execution_count": 1,
            "cell_type": "code"
        },
        {
            "source": [
                "print(index(lst, 999))"
            ],
            "outputs": [
                {
                    "text": ":results:\n 999\n :end:",
                    "output_type": "stream",
                    "name": "stdout"
                }
            ],
            "metadata": {
            },
            "execution_count": 1,
            "cell_type": "code"
        },
        {
            "source": [
                "print(index(lst, -1))"
            ],
            "outputs": [
                {
                    "text": ":results:\n -1\n :end:",
                    "output_type": "stream",
                    "name": "stdout"
                }
            ],
            "metadata": {
            },
            "execution_count": 1,
            "cell_type": "code"
        },
        {
            "source": [
                "import timeit\nlst = list(range(1000))\ntimes = [timeit.timeit(stmt='index(lst, {})'.format(x),\n                         globals=globals(),\n                         number=1000)\n           for x in range(1000)]"
            ],
            "outputs": [
                {
                    "text": ":results:\n # Out[29]:\n :end:",
                    "output_type": "stream",
                    "name": "stdout"
                }
            ],
            "metadata": {
            },
            "execution_count": 1,
            "cell_type": "code"
        },
        {
            "source": [
                "%matplotlib inline\nimport matplotlib.pyplot as plt\nplt.plot(times, 'ro')\nplt.show()"
            ],
            "outputs": [
                {
                    "text": ":results:\n # Out[30]:\n \n :end:",
                    "output_type": "stream",
                    "name": "stdout"
                },
                {
                    "output_type": "display_data",
                    "metadata": {
                    },
                    "data": {
                        "text/plain": "<matplotlib.figure.Figure>",
                        "image/png": "[encoded data removed]"
                    }
                }
            ],
            "metadata": {
            },
            "execution_count": 1,
            "cell_type": "code"
        },
        {
            "source": [
                "def iter_index(lst, x):\n    l = 0\n    h = len(lst)\n    while h > l:\n        mid = ((h - l) // 2) + l\n        if lst[mid] == x:\n            return mid\n        l = mid + 1 if lst[mid] < x else l\n        h = mid - 1 if lst[mid] > x else h\n    return -1"
            ],
            "outputs": [
                {
                    "text": ":results:\n # Out[31]:\n :end:",
                    "output_type": "stream",
                    "name": "stdout"
                }
            ],
            "metadata": {
            },
            "execution_count": 1,
            "cell_type": "code"
        },
        {
            "source": [
                "import timeit\niter_no_times = []\nfor size in range(1000, 100000, 100):\n    lst = list(range(size))\n    iter_no_times.append(timeit.timeit(stmt='iter_index(lst, -1)',\n                                 globals=globals(),\n                                 number=1000))"
            ],
            "outputs": [
                {
                    "text": ":results:\n # Out[34]:\n :end:",
                    "output_type": "stream",
                    "name": "stdout"
                }
            ],
            "metadata": {
            },
            "execution_count": 1,
            "cell_type": "code"
        },
        {
            "source": [
                "import matplotlib.pyplot as plt\nplt.plot(iter_no_times, 'ro')"
            ],
            "outputs": [
                {
                    "text": ":results:\n # Out[35]:\n : [<matplotlib.lines.Line2D at 0x1108ae9d0>]\n \n :end:",
                    "output_type": "stream",
                    "name": "stdout"
                },
                {
                    "output_type": "display_data",
                    "metadata": {
                    },
                    "data": {
                        "text/plain": "<matplotlib.figure.Figure>",
                        "image/png": "[encoded data removed]"
                    }
                }
            ],
            "metadata": {
            },
            "execution_count": 1,
            "cell_type": "code"
        },
        {
            "source": [
                "import timeit\netimes = []\nfor e in range(5, 20):\n    lst = list(range(2**e))\n    etimes.append(timeit.timeit(stmt='iter_index(lst, -1)',\n                                 globals=globals(),\n                                 number=100000))"
            ],
            "outputs": [
                {
                    "text": ":results:\n # Out[37]:\n :end:",
                    "output_type": "stream",
                    "name": "stdout"
                }
            ],
            "metadata": {
            },
            "execution_count": 1,
            "cell_type": "code"
        },
        {
            "source": [
                "import matplotlib.pyplot as plt\nplt.plot(etimes, 'ro')\nplt.show()"
            ],
            "outputs": [
                {
                    "text": ":results:\n # Out[39]:\n \n :end:",
                    "output_type": "stream",
                    "name": "stdout"
                },
                {
                    "output_type": "display_data",
                    "metadata": {
                    },
                    "data": {
                        "text/plain": "<matplotlib.figure.Figure>",
                        "image/png": "[encoded data removed]"
                    }
                }
            ],
            "metadata": {
            },
            "execution_count": 1,
            "cell_type": "code"
        },
        {
            "source": [
                "#### 1.  Insertion sort\n\n"
            ],
            "metadata": {
            },
            "cell_type": "markdown"
        },
        {
            "source": [
                "-   **Task**: to sort the values in a given list (array) in ascending order.\n\n"
            ],
            "metadata": {
            },
            "cell_type": "markdown"
        },
        {
            "source": [
                "import random\nlst = list(range(1000))\nrandom.shuffle(lst)"
            ],
            "outputs": [
                {
                    "text": ":results:\n # Out[116]:\n :end:",
                    "output_type": "stream",
                    "name": "stdout"
                }
            ],
            "metadata": {
            },
            "execution_count": 1,
            "cell_type": "code"
        },
        {
            "source": [
                "plt.plot(lst, 'ro')\nplt.show()"
            ],
            "outputs": [
                {
                    "text": ":results:\n # Out[117]:\n \n :end:",
                    "output_type": "stream",
                    "name": "stdout"
                },
                {
                    "output_type": "display_data",
                    "metadata": {
                    },
                    "data": {
                        "text/plain": "<matplotlib.figure.Figure>",
                        "image/png": "[encoded data removed]"
                    }
                }
            ],
            "metadata": {
            },
            "execution_count": 1,
            "cell_type": "code"
        },
        {
            "source": [
                "def insertion_sort(lst):\n    for i in range(1,len(lst)): # number of times? n-1\n        for j in range(i,0,-1): # number 1, 2, 3, 4, ..., n-1\n            if lst[j] <= lst[j-1]:\n                lst[j-1], lst[j] = lst[j], lst[j-1]\n            else:\n                break"
            ],
            "outputs": [
                {
                    "text": ":results:\n # Out[118]:\n :end:",
                    "output_type": "stream",
                    "name": "stdout"
                }
            ],
            "metadata": {
            },
            "execution_count": 1,
            "cell_type": "code"
        },
        {
            "source": [
                "insertion_sort(lst)"
            ],
            "outputs": [
                {
                    "text": ":results:\n # Out[119]:\n :end:",
                    "output_type": "stream",
                    "name": "stdout"
                }
            ],
            "metadata": {
            },
            "execution_count": 1,
            "cell_type": "code"
        },
        {
            "source": [
                "plt.plot(lst, 'ro')\nplt.show()"
            ],
            "outputs": [
                {
                    "text": ":results:\n # Out[120]:\n \n :end:",
                    "output_type": "stream",
                    "name": "stdout"
                },
                {
                    "output_type": "display_data",
                    "metadata": {
                    },
                    "data": {
                        "text/plain": "<matplotlib.figure.Figure>",
                        "image/png": "[encoded data removed]"
                    }
                }
            ],
            "metadata": {
            },
            "execution_count": 1,
            "cell_type": "code"
        },
        {
            "source": [
                "import timeit\nimport random\ntimes = [timeit.timeit(stmt='insertion_sort(lst)',\n                         setup='lst=list(range({})); random.shuffle(lst)'.format(size),\n                         globals=globals(),\n                         number=1)\n           for size in range(100, 5000, 250)]"
            ],
            "outputs": [
                {
                    "text": ":results:\n # Out[121]:\n :end:",
                    "output_type": "stream",
                    "name": "stdout"
                }
            ],
            "metadata": {
            },
            "execution_count": 1,
            "cell_type": "code"
        },
        {
            "source": [
                "plt.plot(times, 'ro')\nplt.show()"
            ],
            "outputs": [
                {
                    "text": ":results:\n # Out[122]:\n \n :end:",
                    "output_type": "stream",
                    "name": "stdout"
                },
                {
                    "output_type": "display_data",
                    "metadata": {
                    },
                    "data": {
                        "text/plain": "<matplotlib.figure.Figure>",
                        "image/png": "[encoded data removed]"
                    }
                }
            ],
            "metadata": {
            },
            "execution_count": 1,
            "cell_type": "code"
        },
        {
            "source": [
                "#### 1.  Bubble sort\n\n"
            ],
            "metadata": {
            },
            "cell_type": "markdown"
        },
        {
            "source": [
                "-   Another simple sort algorithm is **Bubble sort**. This algorithm\n\n"
            ],
            "metadata": {
            },
            "cell_type": "markdown"
        },
        {
            "source": [
                "def bubble_sort(lst): # n = len(lst) => O(n^2)\n    for i in range(1,len(lst)):          # n - 1\n        for j in range(0,len(lst) - i):  # sum(i)\n            if lst[j] > lst[j+1]:        # sum(i)\n                lst[j], lst[j+1] = lst[j+1], lst[j] # sum(i)"
            ],
            "outputs": [
                {
                    "text": ":results:\n    # Out[154]:\n    :end:",
                    "output_type": "stream",
                    "name": "stdout"
                }
            ],
            "metadata": {
            },
            "execution_count": 1,
            "cell_type": "code"
        },
        {
            "source": [
                "l = [ 1, 6, 5, 2, 4 ]\nbubble_sort(l)\nl"
            ],
            "outputs": [
                {
                    "text": "# Out[155]:\n[1, 2, 4, 5, 6]",
                    "output_type": "stream",
                    "name": "stdout"
                }
            ],
            "metadata": {
            },
            "execution_count": 1,
            "cell_type": "code"
        },
        {
            "source": [
                "### Lists\n\n"
            ],
            "metadata": {
            },
            "cell_type": "markdown"
        },
        {
            "source": [
                "#### The Array-Backed List:PROPERTIES:\n\n"
            ],
            "metadata": {
            },
            "cell_type": "markdown"
        },
        {
            "source": [
                "##### Agenda\n\n"
            ],
            "metadata": {
            },
            "cell_type": "markdown"
        },
        {
            "source": [
                "1.  The List **Abstract Data Type** (ADT)\n2.  A List **Data Structure**\n3.  Our List API\n4.  Getting started: how to store our data?\n5.  Built-in `list` as array\n6.  The `ArrayList` data structure\n\n"
            ],
            "metadata": {
            },
            "cell_type": "markdown"
        },
        {
            "source": [
                "##### 1.  The List **Abstract Data Type** (ADT)\n\n"
            ],
            "metadata": {
            },
            "cell_type": "markdown"
        },
        {
            "source": [
                "An **abstract data type (ADT)** defines a *conceptual model* for how data\nmay be stored and accessed.\n\nA **list ADT** is a data container where:\n\n-   values are ordered in a *sequence*\n-   each value has at most one preceding and one succeeding value\n-   a given value may appear more than once in a list\n\n`l = [1,1,3,4,1,3]`\n\nOther common ADTs (some of which we'll explore later) include:\n\n-   Stacks\n-   Queues\n-   Priority Queues\n-   Maps\n-   Graphs\n\n"
            ],
            "metadata": {
            },
            "cell_type": "markdown"
        },
        {
            "source": [
                "##### 1.  A List **Data Structure**\n\n"
            ],
            "metadata": {
            },
            "cell_type": "markdown"
        },
        {
            "source": [
                "A **list data structure** is a *concrete implementation* of the list ADT\nin some programming language, which, in addition to adhering to the\nbasic premises of the ADT, will also typically support operations that:\n\n-   access values in the list by their position (index)\n-   append and insert new values into the list\n-   remove values from the list\n\nThe implementation of any data structure will generally rely on simpler,\nconstituent data types (e.g., \"primitive\" types offered by the\nlanguage), the choice of which may affect the runtime complexities of\nsaid operations.\n\n"
            ],
            "metadata": {
            },
            "cell_type": "markdown"
        },
        {
            "source": [
                "##### 1.  The List API\n\n"
            ],
            "metadata": {
            },
            "cell_type": "markdown"
        },
        {
            "source": [
                "The operations we'll be building into our list data structures will be based on\nthe [common](https://docs.python.org/3.6/library/stdtypes.html#common-sequence-operations) and [mutable](https://docs.python.org/3.6/library/stdtypes.html#mutable-sequence-types) sequence operations defined by the Python library.\n\n"
            ],
            "metadata": {
            },
            "cell_type": "markdown"
        },
        {
            "source": [
                "class List:\n    ### subscript-based access ###\n\n    def __getitem__(self, idx):\n        \"\"\"Implements `x = self[idx]`\"\"\"\n        pass\n\n    def __setitem__(self, idx, value):\n        \"\"\"Implements `self[idx] = value`\"\"\"\n        pass\n\n    def __delitem__(self, idx):\n        \"\"\"Implements `del self[idx]`\"\"\"\n        pass\n\n    ### stringification ###\n\n    def __repr__(self):\n        \"\"\"Supports inspection\"\"\"\n        return '[]'\n\n    def __str__(self):\n        \"\"\"Implements `str(self)`\"\"\"\n        return '[]'\n\n    ### single-element manipulation ###\n\n    def append(self, value):\n        pass\n\n    def insert(self, idx, value):\n        pass\n\n    def pop(self, idx=-1):\n        pass\n\n    def remove(self, value):\n        pass\n\n    ### predicates (T/F queries) ###\n\n    def __eq__(self, other):\n        \"\"\"Implements `self == other`\"\"\"\n        return True\n\n    def __contains__(self, value):\n        \"\"\"Implements `value in self`\"\"\"\n        return True\n\n    ### queries ###\n\n    def __len__(self):\n        \"\"\"Implements `len(self)`\"\"\"\n        return len(self.data)\n\n    def min(self):\n        pass\n\n    def max(self):\n        pass\n\n    def index(self, value, i, j):\n        pass\n\n    def count(self, value):\n        pass\n\n    ### bulk operations ###\n\n    def __add__(self, other):\n        \"\"\"Implements `self + other_array_list`\"\"\"\n        return self\n\n    def clear(self):\n        pass\n\n    def copy(self):\n        pass\n\n    def extend(self, other):\n        pass\n\n    ### iteration ###\n\n    def __iter__(self):\n        \"\"\"Supports iteration (via `iter(self)`)\"\"\"\n        pass"
            ],
            "outputs": [
                {
                    "text": "# Out[213]:",
                    "output_type": "stream",
                    "name": "stdout"
                }
            ],
            "metadata": {
            },
            "execution_count": 1,
            "cell_type": "code"
        },
        {
            "source": [
                "##### 1.  Getting started: how to store our data?\n\n"
            ],
            "metadata": {
            },
            "cell_type": "markdown"
        },
        {
            "source": [
                "class List:\n    def ini():\n        pass\n\n    def append(self, value):\n        pass\n\n    def __getitem__(self, idx):\n        \"\"\"Implements `x = self[idx]`\"\"\"\n        pass\n\n    def __setitem__(self, idx, value):\n        \"\"\"Implements `self[idx] = x`\"\"\"\n        pass\n\n    def __repr__(self):\n        \"\"\"Supports inspection\"\"\"\n        pass"
            ],
            "outputs": [
                {
                    "text": "# Out[212]:",
                    "output_type": "stream",
                    "name": "stdout"
                }
            ],
            "metadata": {
            },
            "execution_count": 1,
            "cell_type": "code"
        },
        {
            "source": [
                "##### 1.  Built-in `list` as array\n\n"
            ],
            "metadata": {
            },
            "cell_type": "markdown"
        },
        {
            "source": [
                "To use the built-in list as though it were a primitive array, we will\nconstrain ourselves to just the following APIs on a given list `lst`:\n\n1.  `lst[i]` for getting and setting values at an *existing, positive*\n    index `i`\n2.  `len(lst)` to obtain the number of slots\n3.  `lst.append(None)` to grow the list by *one slot at a time* (**later maybe not one slot at a time**)\n4.  `del lst[len(lst)-1]` to delete the last slot in a list\n\n"
            ],
            "metadata": {
            },
            "cell_type": "markdown"
        },
        {
            "source": [
                "##### 1.  The `ArrayList` data structure\n\n"
            ],
            "metadata": {
            },
            "cell_type": "markdown"
        },
        {
            "source": [
                "class MyArrayList:\n    def __init__(self):\n        self.data = []\n\n    def append(self, value):\n        self.data.append(value)\n\n    def __getitem__(self, idx):\n        \"\"\"Implements `x = self[idx]`\"\"\"\n        assert(isinstance(idx, int))\n        return self.data[idx]\n\n    def __setitem__(self, idx, value):\n        \"\"\"Implements `self[idx] = x`\"\"\"\n        assert(isinstance(idx, int))\n        self.data[idx] = value\n\n    def __delitem__(self, idx):\n        \"\"\"Implements `del self[idx]`\"\"\"\n        assert(isinstance(idx, int))\n        for i in range(idx+1, len(self.data)):\n            self.data[i-1] = self.data[i]\n        del self.data[len(self.data)-1]\n\n    def __len__(self):\n        \"\"\"Implements `len(self)`\"\"\"\n        len(self.data)\n\n    def __repr__(self):\n        \"\"\"Supports inspection\"\"\"\n        return \"[\" + \",\".join([str(x) for x in self.data]) + \"]\""
            ],
            "outputs": [
                {
                    "text": "# Out[204]:",
                    "output_type": "stream",
                    "name": "stdout"
                }
            ],
            "metadata": {
            },
            "execution_count": 1,
            "cell_type": "code"
        },
        {
            "source": [
                "x = MyArrayList()\nx.append(1)\nx.append(2)\nx.append(3)\nx"
            ],
            "outputs": [
                {
                    "text": "# Out[205]:\n[1,2,3]",
                    "output_type": "stream",
                    "name": "stdout"
                }
            ],
            "metadata": {
            },
            "execution_count": 1,
            "cell_type": "code"
        },
        {
            "source": [
                "y = MyArrayList()\ny.append(1)\ny.append(3)\ny.append(4)\ndel y[0]\ny"
            ],
            "outputs": [
                {
                    "text": "# Out[206]:\n[3,4]",
                    "output_type": "stream",
                    "name": "stdout"
                }
            ],
            "metadata": {
            },
            "execution_count": 1,
            "cell_type": "code"
        },
        {
            "source": [
                "##### 1.  The `ArrayList` data structure (now for real, not quite)\n\n"
            ],
            "metadata": {
            },
            "cell_type": "markdown"
        },
        {
            "source": [
                "-   **Array API**:\n    -   create array of size `n`\n    -   access element at position `i`\n    -   set the element at position `i`\n    -   get length of array `len(array)`\n\n"
            ],
            "metadata": {
            },
            "cell_type": "markdown"
        },
        {
            "source": [
                "class MyArray:\n\n    def __init__(self,n):\n        self.data = [None] * n\n        self.len = n\n\n    def __getitem__(self, idx):\n        \"\"\"Implements `x = self[idx]`\"\"\"\n        assert(isinstance(idx, int) and self.len > idx)\n        return self.data[idx]\n\n    def __setitem__(self, idx, value):\n        \"\"\"Implements `self[idx] = x`\"\"\"\n        assert(isinstance(idx, int) and self.len > idx)\n        self.data[idx] = value\n\n    def __len__(self):\n        \"\"\"Implements `len(self)`\"\"\"\n        return self.len\n\n    def __repr__(self):\n        \"\"\"Supports inspection\"\"\"\n        return \"[\" + \",\".join([str(x) for x in self.data]) + \"]\""
            ],
            "outputs": [
                {
                    "text": "# Out[33]:",
                    "output_type": "stream",
                    "name": "stdout"
                }
            ],
            "metadata": {
            },
            "execution_count": 1,
            "cell_type": "code"
        },
        {
            "source": [
                "x = MyArray(3)\nx[0] = 'a'\nx[1] = 'b'\nx[2] = 'c'\nx"
            ],
            "outputs": [
                {
                    "text": "# Out[35]:\n[a,b,c]",
                    "output_type": "stream",
                    "name": "stdout"
                }
            ],
            "metadata": {
            },
            "execution_count": 1,
            "cell_type": "code"
        },
        {
            "source": [
                "x[2]"
            ],
            "outputs": [
                {
                    "text": "# Out[28]:\n'c'",
                    "output_type": "stream",
                    "name": "stdout"
                }
            ],
            "metadata": {
            },
            "execution_count": 1,
            "cell_type": "code"
        },
        {
            "source": [
                "len(x)"
            ],
            "outputs": [
                {
                    "text": "# Out[36]:\n3",
                    "output_type": "stream",
                    "name": "stdout"
                }
            ],
            "metadata": {
            },
            "execution_count": 1,
            "cell_type": "code"
        },
        {
            "source": [
                "class MyActualArrayList:\n    def __init__(self,n=0):\n        self.data = MyArray(n)\n        self.len = n\n\n    def append(self, value): # append, yah in O(n)\n        newa = MyArray(self.len + 1) # n\n        for i in range(0, self.len): # n\n            newa[i] = self.data[i]   # n\n        newa[self.len] = value       # 1\n        self.data = newa             # 1\n        self.len += 1                # 1\n\n    def __getitem__(self, idx): # O(1)\n        \"\"\"Implements `x = self[idx]`\"\"\"\n        assert(isinstance(idx, int))\n        return self.data[idx]\n\n    def __setitem__(self, idx, value): # O(1)\n        \"\"\"Implements `self[idx] = x`\"\"\"\n        assert(isinstance(idx, int))\n        self.data[idx] = value\n\n    def __delitem__(self, idx):\n        \"\"\"Implements `del self[idx]`\"\"\"\n        assert(isinstance(idx, int) and idx < self.len)\n        #print(f\"index: {idx}, array: {self.data}, {len(self.data)}\")\n        for i in range(idx+1, len(self.data)):\n            self.data[i-1] = self.data[i]\n        newa = MyArray(self.len - 1)\n        for i in range(0, len(self.data) - 1):\n            newa[i] = self.data[i]\n        self.data = newa\n        self.len += -1\n\n    def __len__(self):\n        \"\"\"Implements `len(self)`\"\"\"\n        return len(self.data)\n\n    def __repr__(self):\n        \"\"\"Supports inspection\"\"\"\n        return self.data.__repr__()"
            ],
            "outputs": [
                {
                    "text": "# Out[54]:",
                    "output_type": "stream",
                    "name": "stdout"
                }
            ],
            "metadata": {
            },
            "execution_count": 1,
            "cell_type": "code"
        },
        {
            "source": [
                "x = MyActualArrayList()\nx.append(1)\nx.append(2)\nx.append(3)\nx"
            ],
            "outputs": [
                {
                    "text": "# Out[38]:\n[1,2,3]",
                    "output_type": "stream",
                    "name": "stdout"
                }
            ],
            "metadata": {
            },
            "execution_count": 1,
            "cell_type": "code"
        },
        {
            "source": [
                "y = MyActualArrayList()\ny.append(1)\ny.append(3)\ny.append(4)\ndel y[1]\ny"
            ],
            "outputs": [
                {
                    "text": "# Out[46]:\n[1,4]",
                    "output_type": "stream",
                    "name": "stdout"
                }
            ],
            "metadata": {
            },
            "execution_count": 1,
            "cell_type": "code"
        },
        {
            "source": [
                "l = []\nn = 10000\nfor i in range(0,n):\n    l.append(1)\nlen(l)"
            ],
            "outputs": [
                {
                    "text": "# Out[55]:\n10000",
                    "output_type": "stream",
                    "name": "stdout"
                }
            ],
            "metadata": {
            },
            "execution_count": 1,
            "cell_type": "code"
        },
        {
            "source": [
                "n = 10000\nl = MyActualArrayList(n)\nfor i in range(0,n):\n    l[i] = 1\nlen(l)"
            ],
            "outputs": [
                {
                    "text": "# Out[56]:\n10000",
                    "output_type": "stream",
                    "name": "stdout"
                }
            ],
            "metadata": {
            },
            "execution_count": 1,
            "cell_type": "code"
        },
        {
            "source": [
                "#### Linked Structures\n\n"
            ],
            "metadata": {
            },
            "cell_type": "markdown"
        },
        {
            "source": [
                "##### Agenda\n\n"
            ],
            "metadata": {
            },
            "cell_type": "markdown"
        },
        {
            "source": [
                "1.  Motives\n2.  Objectives\n3.  Mechanisms\n4.  Linked Data Structures\n\n"
            ],
            "metadata": {
            },
            "cell_type": "markdown"
        },
        {
            "source": [
                "##### 1.  Motives\n\n"
            ],
            "metadata": {
            },
            "cell_type": "markdown"
        },
        {
            "source": [
                "%matplotlib inline\nimport matplotlib.pyplot as plt\nimport numpy as np\nfrom timeit import timeit\n\ndef time_array_front_insert_delete(n):\n    return timeit('lst.insert(0, None) ; del lst[0]',\n                    'lst = list(range({}))'.format(n),\n                    number=1000)\n\nns = np.linspace(100, 10000, 50)\nplt.plot(ns, [time_array_front_insert_delete(int(n)) for n in ns], 'ro')\nplt.show()"
            ],
            "outputs": [],
            "metadata": {
            },
            "execution_count": 1,
            "cell_type": "code"
        },
        {
            "source": [
                "# consider:\n\ndef concatenate(arr1, arr2):\n    \"\"\"Concatenates the contents of arr1 and arr2 as efficiently (time-wise)\n    as possible, so that the resulting structure can be used to index all\n    combined elements (arr1's followed by arr2's).\"\"\"\n\n    # option 1: O(?)\n    for x in arr2:\n    arr1.append(x)\n    return arr1\n\n    # option 2: O(?)\n    arr1.extend(arr2)\n    return arr1\n\n    # option 3: O(?)\n    return arr1 + arr2"
            ],
            "outputs": [],
            "metadata": {
            },
            "execution_count": 1,
            "cell_type": "code"
        },
        {
            "source": [
                "##### 1.  Objectives\n\n"
            ],
            "metadata": {
            },
            "cell_type": "markdown"
        },
        {
            "source": [
                "We would like a new data storage mechanism for constructing data\nstructures that:\n\n-   does not require monolithic, contiguous memory allocation,\n-   allows individual elements to be flexibly and efficiently reorganized,\n-   and preserves the ability to locate (e.g., via position) and iterate\n    over elements\n\n"
            ],
            "metadata": {
            },
            "cell_type": "markdown"
        },
        {
            "source": [
                "##### 1.  Mechanisms\n\n"
            ],
            "metadata": {
            },
            "cell_type": "markdown"
        },
        {
            "source": [
                "###### 3.1. Two-Element Lists\n\n"
            ],
            "metadata": {
            },
            "cell_type": "markdown"
        },
        {
            "source": [
                "# data items\ni1 = 'lions'\ni2 = 'tigers'\ni3 = 'bears'\ni4 = 'oh, my'"
            ],
            "outputs": [],
            "metadata": {
            },
            "execution_count": 1,
            "cell_type": "code"
        },
        {
            "source": [
                "# creating individual \"links\"\nl1 = [,]\nl2 = [,]\nl3 = [,]\nl4 = [,]"
            ],
            "outputs": [],
            "metadata": {
            },
            "execution_count": 1,
            "cell_type": "code"
        },
        {
            "source": [
                "# link-ing them together"
            ],
            "outputs": [],
            "metadata": {
            },
            "execution_count": 1,
            "cell_type": "code"
        },
        {
            "source": [
                "# iteration"
            ],
            "outputs": [],
            "metadata": {
            },
            "execution_count": 1,
            "cell_type": "code"
        },
        {
            "source": [
                "# prepending\n\ni0 = 'walruses'"
            ],
            "outputs": [],
            "metadata": {
            },
            "execution_count": 1,
            "cell_type": "code"
        },
        {
            "source": [
                "# insertion\n\ni2_5 = 'elephants'"
            ],
            "outputs": [],
            "metadata": {
            },
            "execution_count": 1,
            "cell_type": "code"
        },
        {
            "source": [
                "# deletion"
            ],
            "outputs": [],
            "metadata": {
            },
            "execution_count": 1,
            "cell_type": "code"
        },
        {
            "source": [
                "###### 3.2. \"Link\" objects\n\n"
            ],
            "metadata": {
            },
            "cell_type": "markdown"
        },
        {
            "source": [
                "class Link:\n    def __init__(self, val, next=None):\n    self.val = val\n    self.next = next"
            ],
            "outputs": [],
            "metadata": {
            },
            "execution_count": 1,
            "cell_type": "code"
        },
        {
            "source": [
                "# manually constructing a list"
            ],
            "outputs": [],
            "metadata": {
            },
            "execution_count": 1,
            "cell_type": "code"
        },
        {
            "source": [
                "# prepending\n\ndef prepend(l, val):\n    pass"
            ],
            "outputs": [],
            "metadata": {
            },
            "execution_count": 1,
            "cell_type": "code"
        },
        {
            "source": [
                "l = None\nfor x in range(10):\n    l = prepend(l, x)"
            ],
            "outputs": [],
            "metadata": {
            },
            "execution_count": 1,
            "cell_type": "code"
        },
        {
            "source": [
                "# iterator\n\ndef link_iterator(l):\n    yield"
            ],
            "outputs": [],
            "metadata": {
            },
            "execution_count": 1,
            "cell_type": "code"
        },
        {
            "source": [
                "for x in link_iterator(l):\n    print(x)"
            ],
            "outputs": [],
            "metadata": {
            },
            "execution_count": 1,
            "cell_type": "code"
        },
        {
            "source": [
                "# iteration based on a recursive pattern\n\ndef link_iterator_rec(l):\n    yield"
            ],
            "outputs": [],
            "metadata": {
            },
            "execution_count": 1,
            "cell_type": "code"
        },
        {
            "source": [
                "for x in link_iterator_rec(l):\n    print(x)"
            ],
            "outputs": [],
            "metadata": {
            },
            "execution_count": 1,
            "cell_type": "code"
        },
        {
            "source": [
                "##### 1.  Linked Data Structures\n\n"
            ],
            "metadata": {
            },
            "cell_type": "markdown"
        },
        {
            "source": [
                "###### 4.1 Linked List\n\n"
            ],
            "metadata": {
            },
            "cell_type": "markdown"
        },
        {
            "source": [
                "class LinkedList:\n    class Link:\n    def __init__(self, val, next=None):\n    self.val = val\n    self.next = next\n\n    def __init__(self):\n    self.head = None\n\n    def prepend(self, val):\n    pass\n\n    def __iter__(self):\n    pass\n\n    def __repr__(self):\n    return '[' + ', '.join(str(x) for x in self) + ']'"
            ],
            "outputs": [],
            "metadata": {
            },
            "execution_count": 1,
            "cell_type": "code"
        },
        {
            "source": [
                "l = LinkedList()\nfor x in range(10):\n    l.prepend(x)\nl"
            ],
            "outputs": [],
            "metadata": {
            },
            "execution_count": 1,
            "cell_type": "code"
        },
        {
            "source": [
                "###### 4.2 Binary Tree\n\n"
            ],
            "metadata": {
            },
            "cell_type": "markdown"
        },
        {
            "source": [
                "class BinaryLink:\n    def __init__(self, val, left=None, right=None):\n    self.val = val\n    self.left = left\n    self.right = right"
            ],
            "outputs": [],
            "metadata": {
            },
            "execution_count": 1,
            "cell_type": "code"
        },
        {
            "source": [
                "# manual construction of a \"tree\" representing the expression ((5+3)*(8-4))\nt = BinaryLink('*')\nt.left = BinaryLink('+')\nt.left.left  = BinaryLink('5')\nt.left.right = BinaryLink('3')\nt.right = BinaryLink('-')\nt.right.left  = BinaryLink('8')\nt.right.right = BinaryLink('4')"
            ],
            "outputs": [],
            "metadata": {
            },
            "execution_count": 1,
            "cell_type": "code"
        },
        {
            "source": [
                "def print_expr_tree(t):\n    if t:\n    if not t.val.isdigit():\n    print('(', end='')\n    print_expr_tree(t.left)\n    print(t.val, end='')\n    print_expr_tree(t.right)\n    if not t.val.isdigit():\n    print(')', end='')"
            ],
            "outputs": [],
            "metadata": {
            },
            "execution_count": 1,
            "cell_type": "code"
        },
        {
            "source": [
                "print_expr_tree(t)"
            ],
            "outputs": [],
            "metadata": {
            },
            "execution_count": 1,
            "cell_type": "code"
        },
        {
            "source": [
                "###### 4.3 N-ary Tree\n\n"
            ],
            "metadata": {
            },
            "cell_type": "markdown"
        },
        {
            "source": [
                "class NaryLink:\n    def __init__(self, val, n=2):\n    self.val = val\n    self.children = [None] * n\n\n    def __getitem__(self, idx):\n    return self.children[idx]\n\n    def __setitem__(self, idx, val):\n    self.children[idx] = val\n\n    def __iter__(self):\n    for c in self.children:\n    yield c"
            ],
            "outputs": [],
            "metadata": {
            },
            "execution_count": 1,
            "cell_type": "code"
        },
        {
            "source": [
                "root = NaryLink('Kingdoms', n=5)\n\nroot[0] = NaryLink('Animalia', n=35)\nroot[1] = NaryLink('Plantae', n=12)\nroot[2] = NaryLink('Fungi', n=7)\nroot[3] = NaryLink('Protista', n=5)\nroot[4] = NaryLink('Monera', n=5)\n\nroot[2][0] = NaryLink('Chytridiomycota')\nroot[2][1] = NaryLink('Blastocladiomycota')\nroot[2][2] = NaryLink('Glomeromycota')\nroot[2][3] = NaryLink('Ascomycota')\nroot[2][4] = NaryLink('Basidiomycota')\nroot[2][5] = NaryLink('Microsporidia')\nroot[2][6] = NaryLink('Neocallimastigomycota')\n\ndef tree_iter(root):\n    if root:\n    yield root.val\n    for c in root:\n    yield from tree_iter(c)"
            ],
            "outputs": [],
            "metadata": {
            },
            "execution_count": 1,
            "cell_type": "code"
        },
        {
            "source": [
                "for x in tree_iter(root):\n    print(x)"
            ],
            "outputs": [],
            "metadata": {
            },
            "execution_count": 1,
            "cell_type": "code"
        },
        {
            "source": [
                "#### Linked Lists\n\n"
            ],
            "metadata": {
            },
            "cell_type": "markdown"
        },
        {
            "source": [
                "##### Agenda\n\n"
            ],
            "metadata": {
            },
            "cell_type": "markdown"
        },
        {
            "source": [
                "1.  The `LinkedList` and `Node` classes\n2.  Implementing `append`\n3.  Implementing deletion\n4.  Bidirectional links\n5.  Run-time analysis\n6.  Closing remarks\n\n"
            ],
            "metadata": {
            },
            "cell_type": "markdown"
        },
        {
            "source": [
                "##### 1.  The `LinkedList` and `Node` classes\n\n"
            ],
            "metadata": {
            },
            "cell_type": "markdown"
        },
        {
            "source": [
                "class LinkedList:\n    class Node:\n    def __init__(self, val, next=None):\n    self.val = val\n    self.next = next\n\n    def __init__(self):\n    self.head = None\n    self.count = 0\n\n    def prepend(self, value):\n    pass\n\n    def __len__(self):\n    return self.count\n\n    def __iter__(self):\n    n = self.head\n    while n:\n    yield n.val\n    n = n.next\n\n    def __repr__(self):\n    return '[' + ', '.join(x for x in self) + ']'"
            ],
            "outputs": [],
            "metadata": {
            },
            "execution_count": 1,
            "cell_type": "code"
        },
        {
            "source": [
                "lst = LinkedList()\nfor i in range(10):\n    lst.prepend(i)\nlst"
            ],
            "outputs": [],
            "metadata": {
            },
            "execution_count": 1,
            "cell_type": "code"
        },
        {
            "source": [
                "##### 1.  Implementing `append`\n\n"
            ],
            "metadata": {
            },
            "cell_type": "markdown"
        },
        {
            "source": [
                "###### Option 1\n\n"
            ],
            "metadata": {
            },
            "cell_type": "markdown"
        },
        {
            "source": [
                "class LinkedList (LinkedList): # note: using inheritance to extend prior definition\n    def append(self, value):\n    pass"
            ],
            "outputs": [],
            "metadata": {
            },
            "execution_count": 1,
            "cell_type": "code"
        },
        {
            "source": [
                "lst = LinkedList()\nfor i in range(10):\n    lst.append(i)\nlst"
            ],
            "outputs": [],
            "metadata": {
            },
            "execution_count": 1,
            "cell_type": "code"
        },
        {
            "source": [
                "###### Option 2\n\n"
            ],
            "metadata": {
            },
            "cell_type": "markdown"
        },
        {
            "source": [
                "class LinkedList (LinkedList):\n    def __init__(self):\n    self.head = self.tail = None\n    self.count = 0\n\n    def prepend(self, value):\n    pass\n\n    def append(self, value):\n    pass"
            ],
            "outputs": [],
            "metadata": {
            },
            "execution_count": 1,
            "cell_type": "code"
        },
        {
            "source": [
                "lst = LinkedList()\nfor i in range(10):\n    lst.append(i)\nlst"
            ],
            "outputs": [],
            "metadata": {
            },
            "execution_count": 1,
            "cell_type": "code"
        },
        {
            "source": [
                "##### 1.  Implementing deletion\n\n"
            ],
            "metadata": {
            },
            "cell_type": "markdown"
        },
        {
            "source": [
                "###### Deleting the head\n\n"
            ],
            "metadata": {
            },
            "cell_type": "markdown"
        },
        {
            "source": [
                "class LinkedList (LinkedList):\n    def del_head(self):\n    assert(len(self) > 0)\n    pass"
            ],
            "outputs": [],
            "metadata": {
            },
            "execution_count": 1,
            "cell_type": "code"
        },
        {
            "source": [
                "lst = LinkedList()\nfor i in range(10):\n    lst.append(i)\nlst.del_head()\nlst.del_head()\nlst"
            ],
            "outputs": [],
            "metadata": {
            },
            "execution_count": 1,
            "cell_type": "code"
        },
        {
            "source": [
                "###### Deleting the tail\n\n"
            ],
            "metadata": {
            },
            "cell_type": "markdown"
        },
        {
            "source": [
                "class LinkedList (LinkedList):\n    def del_tail(self):\n    assert(len(self) > 0)\n    pass"
            ],
            "outputs": [],
            "metadata": {
            },
            "execution_count": 1,
            "cell_type": "code"
        },
        {
            "source": [
                "lst = LinkedList()\nfor i in range(10):\n    lst.append(i)\nlst.del_tail()\nlst.del_tail()\nlst"
            ],
            "outputs": [],
            "metadata": {
            },
            "execution_count": 1,
            "cell_type": "code"
        },
        {
            "source": [
                "##### 1.  Bidirectional links (Doubly-linked list) & Sentinel head\n\n"
            ],
            "metadata": {
            },
            "cell_type": "markdown"
        },
        {
            "source": [
                "class LinkedList:\n    class Node:\n    def __init__(self, val, prior=None, next=None):\n    self.val = val\n    self.prior = prior\n    self.next  = next\n\n    def __init__(self):\n    self.count = 0\n\n    def prepend(self, value):\n    self.count += 1\n\n    def append(self, value):\n    self.count += 1\n\n    def __getitem__(self, idx):\n    pass\n\n    def __len__(self):\n    return self.count\n\n    def __iter__(self):\n    n = self.head.next\n    while n is not self.head:\n    yield n.val\n    n = n.next\n\n    def __repr__(self):\n    return '[' + ', '.join(str(x) for x in self) + ']'"
            ],
            "outputs": [],
            "metadata": {
            },
            "execution_count": 1,
            "cell_type": "code"
        },
        {
            "source": [
                "lst = LinkedList()\nfor i in range(10):\n    lst.prepend(i)\nfor i in range(10):\n    lst.append(i)\nlst"
            ],
            "outputs": [],
            "metadata": {
            },
            "execution_count": 1,
            "cell_type": "code"
        },
        {
            "source": [
                "##### 1.  Incorporating a \"cursor\"\n\n"
            ],
            "metadata": {
            },
            "cell_type": "markdown"
        },
        {
            "source": [
                "class LinkedList:\n    class Node:\n    def __init__(self, val, prior=None, next=None):\n    self.val = val\n    self.prior = prior\n    self.next  = next\n\n    def __init__(self):\n    self.head = self.cursor = LinkedList.Node(None)\n    self.head.prior = self.head.next = self.head\n    self.count = 0\n\n    def append(self, value):\n    n = LinkedList.Node(value, prior=self.head.prior, next=self.head)\n    n.prior.next = n.next.prior = n\n    self.count += 1\n\n    def cursor_set(self, idx):\n    pass\n\n    def cursor_insert(self, x):\n    pass\n\n    def cursor_delete(self):\n    pass\n\n    def __len__(self):\n    return self.count\n\n    def __iter__(self):\n    n = self.head.next\n    while n is not self.head:\n    yield n.val\n    n = n.next\n\n    def __repr__(self):\n    return '[' + ', '.join(str(x) for x in self) + ']'"
            ],
            "outputs": [],
            "metadata": {
            },
            "execution_count": 1,
            "cell_type": "code"
        },
        {
            "source": [
                "lst = LinkedList()\nfor i in range(10):\n    lst.append(i)\nlst"
            ],
            "outputs": [],
            "metadata": {
            },
            "execution_count": 1,
            "cell_type": "code"
        },
        {
            "source": [
                "lst.cursor_set(4)\nfor x in 'abcd':\n    lst.cursor_insert(x)\nlst"
            ],
            "outputs": [],
            "metadata": {
            },
            "execution_count": 1,
            "cell_type": "code"
        },
        {
            "source": [
                "lst.cursor_set(8)\nfor _ in range(4):\n    lst.cursor_delete()"
            ],
            "outputs": [],
            "metadata": {
            },
            "execution_count": 1,
            "cell_type": "code"
        },
        {
            "source": [
                "##### 1.  Run-time analysis\n\n"
            ],
            "metadata": {
            },
            "cell_type": "markdown"
        },
        {
            "source": [
                "Run-time complexities for circular, doubly-linked list of $N$ elements:\n\n-   indexing (position-based access) = $O(?)$\n-   search (unsorted) = $O(?)$\n-   search (sorted) = $O(?)$ &#x2014; binary search isn't possible!\n-   prepend = $O(?)$\n-   append = $O(?)$\n-   indexing = $O(?)$\n-   insertion at arbitrary position: indexing = $O(?)$ + insertion =\n    $O(?)$\n-   deletion of arbitrary element: indexing = $O(?)$ + deletion = $O(?)$\n\n"
            ],
            "metadata": {
            },
            "cell_type": "markdown"
        },
        {
            "source": [
                "#### Priority Queues\n\n"
            ],
            "metadata": {
            },
            "cell_type": "markdown"
        },
        {
            "source": [
                "##### Agenda\n\n"
            ],
            "metadata": {
            },
            "cell_type": "markdown"
        },
        {
            "source": [
                "1.  Motives\n2.  Naive implementation\n3.  Heaps\n    -   Mechanics\n    -   Implementation\n    -   Run-time Analysis\n\n4.  Heapsort\n\n"
            ],
            "metadata": {
            },
            "cell_type": "markdown"
        },
        {
            "source": [
                "##### 1.  Motives\n\n"
            ],
            "metadata": {
            },
            "cell_type": "markdown"
        },
        {
            "source": [
                "##### 1.  Naive implementation\n\n"
            ],
            "metadata": {
            },
            "cell_type": "markdown"
        },
        {
            "source": [
                "class PriorityQueue:\n    def __init__(self):\n    self.data = []\n\n    def add(self, x):\n    pass\n\n    def max(self):\n    pass\n\n    def pop_max(self):\n    pass\n\n    def __bool__(self):\n    return len(self.data) > 0\n\n    def __len__(self):\n    return len(self.data)\n\n    def __repr__(self):\n    return repr(self.data)"
            ],
            "outputs": [],
            "metadata": {
            },
            "execution_count": 1,
            "cell_type": "code"
        },
        {
            "source": [
                "pq = PriorityQueue()"
            ],
            "outputs": [],
            "metadata": {
            },
            "execution_count": 1,
            "cell_type": "code"
        },
        {
            "source": [
                "import random\nfor _ in range(10):\n    pq.add(random.randrange(100))"
            ],
            "outputs": [],
            "metadata": {
            },
            "execution_count": 1,
            "cell_type": "code"
        },
        {
            "source": [
                "pq"
            ],
            "outputs": [],
            "metadata": {
            },
            "execution_count": 1,
            "cell_type": "code"
        },
        {
            "source": [
                "while pq:\n    print(pq.pop_max())"
            ],
            "outputs": [],
            "metadata": {
            },
            "execution_count": 1,
            "cell_type": "code"
        },
        {
            "source": [
                "##### 1.  Heaps\n\n"
            ],
            "metadata": {
            },
            "cell_type": "markdown"
        },
        {
            "source": [
                "###### Mechanics\n\n"
            ],
            "metadata": {
            },
            "cell_type": "markdown"
        },
        {
            "source": [
                "###### Implementation\n\n"
            ],
            "metadata": {
            },
            "cell_type": "markdown"
        },
        {
            "source": [
                "class Heap:\n    def __init__(self):\n    self.data = []\n\n    def add(self, x):\n    pass\n\n    def max(self):\n    pass\n\n    def pop_max(self):\n    pass\n\n    def __bool__(self):\n    return len(self.data) > 0\n\n    def __len__(self):\n    return len(self.data)\n\n    def __repr__(self):\n    return repr(self.data)"
            ],
            "outputs": [],
            "metadata": {
            },
            "execution_count": 1,
            "cell_type": "code"
        },
        {
            "source": [
                "h = Heap()"
            ],
            "outputs": [],
            "metadata": {
            },
            "execution_count": 1,
            "cell_type": "code"
        },
        {
            "source": [
                "import random\nfor _ in range(10):\n    h.add(random.randrange(100))"
            ],
            "outputs": [],
            "metadata": {
            },
            "execution_count": 1,
            "cell_type": "code"
        },
        {
            "source": [
                "h"
            ],
            "outputs": [],
            "metadata": {
            },
            "execution_count": 1,
            "cell_type": "code"
        },
        {
            "source": [
                "while h:\n    print(h.pop_max())"
            ],
            "outputs": [],
            "metadata": {
            },
            "execution_count": 1,
            "cell_type": "code"
        },
        {
            "source": [
                "###### Run-time Analysis\n\n"
            ],
            "metadata": {
            },
            "cell_type": "markdown"
        },
        {
            "source": [
                "##### 1.  Heapsort\n\n"
            ],
            "metadata": {
            },
            "cell_type": "markdown"
        },
        {
            "source": [
                "def heapsort(iterable):\n    heap = Heap()\n    pass"
            ],
            "outputs": [],
            "metadata": {
            },
            "execution_count": 1,
            "cell_type": "code"
        },
        {
            "source": [
                "import random\n\ndef pairs(iterable):\n    it = iter(iterable)\n    a = next(it)\n    while True:\n    b = next(it)\n    yield a,b\n    a = b\n\nlst = heapsort(random.random() for _ in range(1000))\nall((a <= b) for a, b in pairs(lst))"
            ],
            "outputs": [],
            "metadata": {
            },
            "execution_count": 1,
            "cell_type": "code"
        },
        {
            "source": [
                "import timeit\ndef time_heapsort(n):\n    return timeit.timeit('heapsort(rlst)',\n                           'from __main__ import heapsort; '\n                           'import random; '\n                           'rlst = (random.random() for _ in range({}))'.format(n),\n                           number=1000)"
            ],
            "outputs": [],
            "metadata": {
            },
            "execution_count": 1,
            "cell_type": "code"
        },
        {
            "source": [
                "%matplotlib inline\nimport matplotlib.pyplot as plt\nimport numpy as np\n\nns = np.linspace(100, 10000, 50, dtype=np.int_)\nplt.plot(ns, [time_heapsort(n) for n in ns], 'r+')\nplt.show()"
            ],
            "outputs": [],
            "metadata": {
            },
            "execution_count": 1,
            "cell_type": "code"
        },
        {
            "source": [
                "%matplotlib inline\nimport matplotlib.pyplot as plt\nimport numpy as np\n\nns = np.linspace(100, 10000, 50, dtype=np.int_)\nplt.plot(ns, [time_heapsort(n) for n in ns], 'r+')\nplt.plot(ns, ns*np.log2(ns)*0.01/10000, 'b') # O(n log n) plot\nplt.show()"
            ],
            "outputs": [],
            "metadata": {
            },
            "execution_count": 1,
            "cell_type": "code"
        },
        {
            "source": [
                "#### Stacks and Queues\n\n"
            ],
            "metadata": {
            },
            "cell_type": "markdown"
        },
        {
            "source": [
                "##### Agenda\n\n"
            ],
            "metadata": {
            },
            "cell_type": "markdown"
        },
        {
            "source": [
                "1.  Stacks\n    -   &#x2026; for delimiter pairing\n    -   &#x2026; for postfix expression evaluation\n    -   &#x2026; for tracking execution and *backtracking*\n\n2.  Queues\n    -   &#x2026; for tracking execution and *backtracking*\n    -   &#x2026; for fair scheduling (aka \"round-robin\" scheduling)\n    -   &#x2026; for apportioning work\n\n3.  Run-time analysis\n\n"
            ],
            "metadata": {
            },
            "cell_type": "markdown"
        },
        {
            "source": [
                "##### Overview\n\n"
            ],
            "metadata": {
            },
            "cell_type": "markdown"
        },
        {
            "source": [
                "While the list data structure is incredibly useful, both implementations\nwe explored (array-backed and linked) have operations that run in $O(N)$\ntime, which make them non-ideal for use with large, growing collections\nof data.\n\nBy further restricting the list API, however &#x2014; in particular, by\n*isolating points of access to either the front or end of the data set*\n&#x2014; we can create data structures whose operations are all $O(1)$, and\nremain very useful in their own right.\n\n"
            ],
            "metadata": {
            },
            "cell_type": "markdown"
        },
        {
            "source": [
                "##### 1.  Stacks\n\n"
            ],
            "metadata": {
            },
            "cell_type": "markdown"
        },
        {
            "source": [
                "Stacks are linear data structures which only permit access to one \"end\"\nof the data collection. We can only append (\"push\") items onto the tail\nend (a.k.a. the \"top\") of a stack, and only the most recently added item\ncan be removed (\"popped\"). The last item to be pushed onto a stack is\ntherefore the first one to be popped off, which is why we refer to\nstacks as last-in, first out (LIFO) structures.\n\n"
            ],
            "metadata": {
            },
            "cell_type": "markdown"
        },
        {
            "source": [
                "# array-backed implementation\n\nclass Stack:\n    def __init__(self):\n    self.data = []\n\n    def push(self, val):\n    pass\n\n    def pop(self):\n    assert not self.empty()\n    pass\n\n    def peek(self):\n    assert not self.empty()\n    pass\n\n    def empty(self):\n    pass\n\n    def __bool__(self):\n    return not self.empty()"
            ],
            "outputs": [],
            "metadata": {
            },
            "execution_count": 1,
            "cell_type": "code"
        },
        {
            "source": [
                "s = Stack()\nfor x in range(10):\n    s.push(x)"
            ],
            "outputs": [],
            "metadata": {
            },
            "execution_count": 1,
            "cell_type": "code"
        },
        {
            "source": [
                "while s:\n    print(s.pop())"
            ],
            "outputs": [],
            "metadata": {
            },
            "execution_count": 1,
            "cell_type": "code"
        },
        {
            "source": [
                "# linked implementation\n\nclass Stack:\n    class Node:\n    def __init__(self, val, next=None):\n    self.val = val\n    self.next  = next\n\n    def __init__(self):\n    self.top = None\n\n    def push(self, val):\n    pass\n\n    def pop(self):\n    assert not self.empty()\n    pass\n\n    def peek(self):\n    assert not self.empty()\n    pass\n\n    def empty(self):\n    pass\n\n    def __bool__(self):\n    return not self.empty()"
            ],
            "outputs": [],
            "metadata": {
            },
            "execution_count": 1,
            "cell_type": "code"
        },
        {
            "source": [
                "s = Stack()\nfor x in range(10):\n    s.push(x)"
            ],
            "outputs": [],
            "metadata": {
            },
            "execution_count": 1,
            "cell_type": "code"
        },
        {
            "source": [
                "while s:\n    print(s.pop())"
            ],
            "outputs": [],
            "metadata": {
            },
            "execution_count": 1,
            "cell_type": "code"
        },
        {
            "source": [
                "###### &#x2026; for delimiter pairing\n\n"
            ],
            "metadata": {
            },
            "cell_type": "markdown"
        },
        {
            "source": [
                "Stacks are used by parsers to decide if delimited expressions are\nwell-formed.\n\ne.g., `'(1 + 2 * (3 - (4 / 2) + 5) - (6 + 1))'`\n\n"
            ],
            "metadata": {
            },
            "cell_type": "markdown"
        },
        {
            "source": [
                "def check_parens(expr):\n    s = Stack()\n    for c in expr:\n    pass\n    return False"
            ],
            "outputs": [],
            "metadata": {
            },
            "execution_count": 1,
            "cell_type": "code"
        },
        {
            "source": [
                "check_parens('()')"
            ],
            "outputs": [],
            "metadata": {
            },
            "execution_count": 1,
            "cell_type": "code"
        },
        {
            "source": [
                "check_parens('((()))')"
            ],
            "outputs": [],
            "metadata": {
            },
            "execution_count": 1,
            "cell_type": "code"
        },
        {
            "source": [
                "check_parens('()(()()(()))')"
            ],
            "outputs": [],
            "metadata": {
            },
            "execution_count": 1,
            "cell_type": "code"
        },
        {
            "source": [
                "check_parens('(')"
            ],
            "outputs": [],
            "metadata": {
            },
            "execution_count": 1,
            "cell_type": "code"
        },
        {
            "source": [
                "check_parens('())')"
            ],
            "outputs": [],
            "metadata": {
            },
            "execution_count": 1,
            "cell_type": "code"
        },
        {
            "source": [
                "check_parens('(1 + 2 * (3 - (4 / 2) + 5) - (6 + 1))')"
            ],
            "outputs": [],
            "metadata": {
            },
            "execution_count": 1,
            "cell_type": "code"
        },
        {
            "source": [
                "###### &#x2026; for postfix expression (aka \"reverse polish notation\")\n\n"
            ],
            "metadata": {
            },
            "cell_type": "markdown"
        },
        {
            "source": [
                "evaluation\nStacks are used for the evaluation of postfix arithmetic expressions\n(which can be easily converted back and forth between the more common\ninfix expressions).\n\ne.g., `'(1 + 2) * 5'` $\\rightarrow$ `'1 2 + 5 *'`\n\n"
            ],
            "metadata": {
            },
            "cell_type": "markdown"
        },
        {
            "source": [
                "def eval_postfix(expr):\n    s = Stack()\n    toks = expr.split()\n    for t in toks:\n    pass\n    return 0"
            ],
            "outputs": [],
            "metadata": {
            },
            "execution_count": 1,
            "cell_type": "code"
        },
        {
            "source": [
                "eval_postfix('1 2 + 5 *')"
            ],
            "outputs": [],
            "metadata": {
            },
            "execution_count": 1,
            "cell_type": "code"
        },
        {
            "source": [
                "eval_postfix('1 2 5 * +')"
            ],
            "outputs": [],
            "metadata": {
            },
            "execution_count": 1,
            "cell_type": "code"
        },
        {
            "source": [
                "# ((1 + 2) * (3 + 2)) * 10\neval_postfix('1 2 + 3 2 + * 10 *')"
            ],
            "outputs": [],
            "metadata": {
            },
            "execution_count": 1,
            "cell_type": "code"
        },
        {
            "source": [
                "###### &#x2026; for tracking execution and backtracking\n\n"
            ],
            "metadata": {
            },
            "cell_type": "markdown"
        },
        {
            "source": [
                "maze_str = \"\"\"######\n                I    #\n                # ## #\n                # ####\n                #    O\n                ######\"\"\"\n\ndef parse_maze(maze_str):\n    '''Parses a string representing a maze into a 2D array.'''\n    grid = []\n    for line in maze_str.split('\\n'):\n    grid.append(['# IO'.index(c) for c in line.strip()])\n    return grid\n\ndef print_maze(grid):\n    '''Takes a 2D array maze representation and pretty-prints it.\n         The contents of the 2D maze are in the range 0-5, which are interpreted as:\n\n    0: a wall\n    1: an unvisited (i.e., not previously traversed) path\n    2: the maze entrance\n    3: the maze exit\n    4: a discovered but unvisited path\n    5: a visited path\n    '''\n    for r in grid:\n    print(''.join('# IO!+'[c] for c in r))"
            ],
            "outputs": [],
            "metadata": {
            },
            "execution_count": 1,
            "cell_type": "code"
        },
        {
            "source": [
                "parse_maze(maze_str)"
            ],
            "outputs": [],
            "metadata": {
            },
            "execution_count": 1,
            "cell_type": "code"
        },
        {
            "source": [
                "print_maze(parse_maze(maze_str))"
            ],
            "outputs": [],
            "metadata": {
            },
            "execution_count": 1,
            "cell_type": "code"
        },
        {
            "source": [
                "maze = parse_maze(maze_str)\nmaze[1][0] = maze[1][1] = 5\nmaze[1][2] = maze[2][1] = 4\nprint_maze(maze)"
            ],
            "outputs": [],
            "metadata": {
            },
            "execution_count": 1,
            "cell_type": "code"
        },
        {
            "source": [
                "class Move:\n    '''Represents a move in the maze between orthogonally adjacent locations\n        `frm` and `to`, which are both (row,col) tuples.'''\n    def __init__(self, frm, to):\n    self.frm = frm\n    self.to  = to\n\n    def __repr__(self):\n    return '({},{}) -> ({},{})'.format(self.frm[0], self.frm[1],\n                                             self.to[0],  self.to[1])\n\ndef moves(maze, loc):\n    '''Returns all possible moves within a maze from the provide location.'''\n    moves = [Move(loc, (loc[0]+d[0], loc[1]+d[1]))\n    for d in ((-1, 0), (1, 0), (0, -1), (0, 1))\n    if loc[0]+d[0] in range(len(maze)) and\n                 loc[1]+d[1] in range(len(maze[0])) and\n                 maze[loc[0]+d[0]][loc[1]+d[1]] in (1, 2, 3)]\n    return moves"
            ],
            "outputs": [],
            "metadata": {
            },
            "execution_count": 1,
            "cell_type": "code"
        },
        {
            "source": [
                "maze = parse_maze(maze_str)\nprint_maze(maze)"
            ],
            "outputs": [],
            "metadata": {
            },
            "execution_count": 1,
            "cell_type": "code"
        },
        {
            "source": [
                "moves(maze, (1, 0))"
            ],
            "outputs": [],
            "metadata": {
            },
            "execution_count": 1,
            "cell_type": "code"
        },
        {
            "source": [
                "moves(maze, (1, 1))"
            ],
            "outputs": [],
            "metadata": {
            },
            "execution_count": 1,
            "cell_type": "code"
        },
        {
            "source": [
                "maze[1][0] = 5\nmoves(maze, (1, 1))"
            ],
            "outputs": [],
            "metadata": {
            },
            "execution_count": 1,
            "cell_type": "code"
        },
        {
            "source": [
                "from time import sleep\nfrom Ipython.display import clear_output\n\ndef mark(maze, loc):\n    '''Marks a loc in the maze as having been discovered'''\n    if maze[loc[0]][loc[1]] != 3:\n    maze[loc[0]][loc[1]] = 4\n\ndef visit(maze, loc):\n    '''Marks a loc in the maze as having been visited'''\n    maze[loc[0]][loc[1]] = 5\n\ndef display(maze):\n    '''Prints out the maze after clearing the cell -- useful for animation.'''\n    clear_output(True)\n    print_maze(maze)\n    sleep(0.5)"
            ],
            "outputs": [],
            "metadata": {
            },
            "execution_count": 1,
            "cell_type": "code"
        },
        {
            "source": [
                "def solve_maze(maze, entry):\n    '''Searches for the exit in a maze starting from the given entry point.\n\n         The algorithm works as follows:\n\n         1. Visit the entry point and save all possible moves from that location.\n         2. Remove and consider one of the saved moves. If it is the exit, we are done,\n            otherwise visit the destination and save all possible moves from there.\n         3. If we run out of saved moves, we can't find an exit.\n\n         When we save a move, we also mark it as \"discovered\" in the maze.\n\n         The data structure used to save moves plays a critical role in how maze\n         exploration proceeds!\n    '''\n    for m in moves(maze, entry):\n    save_move(m)\n    visit(maze, entry)\n    while not out_of_moves():\n    move = next_move()\n    if maze[move.to[0]][move.to[1]] == 3:\n    break\n    display(maze)\n    visit(maze, move.to)\n    for m in moves(maze, move.to):\n    mark(maze, m.to)\n    save_move(m)\n    display(maze)"
            ],
            "outputs": [],
            "metadata": {
            },
            "execution_count": 1,
            "cell_type": "code"
        },
        {
            "source": [
                "move_stack = Stack()\n\ndef save_move(move):\n    pass\n\ndef next_move():\n    pass\n\ndef out_of_moves():\n    pass"
            ],
            "outputs": [],
            "metadata": {
            },
            "execution_count": 1,
            "cell_type": "code"
        },
        {
            "source": [
                "maze_str = \"\"\"######\n                I    #\n                # ## #\n                # ####\n                #    O\n                ######\"\"\"\nsolve_maze(parse_maze(maze_str), (1, 0))"
            ],
            "outputs": [],
            "metadata": {
            },
            "execution_count": 1,
            "cell_type": "code"
        },
        {
            "source": [
                "maze_str = \"\"\"#################\n                I #       #     #\n                # ##### # # # # #\n                #     # # # # # #\n                # ### ### # # ###\n                #   #       #   O\n                #################\"\"\"\n\nsolve_maze(parse_maze(maze_str), (1, 0))"
            ],
            "outputs": [],
            "metadata": {
            },
            "execution_count": 1,
            "cell_type": "code"
        },
        {
            "source": [
                "maze_str = \"\"\"#################\n                I               #\n                # # # # # # # # #\n                # # # # # # # # #\n                # ###############\n                #               O\n                #################\"\"\"\n\nsolve_maze(parse_maze(maze_str), (1, 0))"
            ],
            "outputs": [],
            "metadata": {
            },
            "execution_count": 1,
            "cell_type": "code"
        },
        {
            "source": [
                "Intuitively, because the stack is a last-in, first-out data structure,\nit keeps following moves down the most recently discovered path until it\neither reaches the exit or reaches a dead end. It then picks up from the\npreviously discovered path. We call this type of exploration\n*depth-first traversal*.\n\n"
            ],
            "metadata": {
            },
            "cell_type": "markdown"
        },
        {
            "source": [
                "##### 1.  Queues\n\n"
            ],
            "metadata": {
            },
            "cell_type": "markdown"
        },
        {
            "source": [
                "Queues are linear data structures wherein we are only permitted to\nappend (\"enqueue\") items onto the rear, and remove (\"dequeue\") items\nfrom the front. The oldest item still in a queue is therefore the next\none to be dequeued, which is why we refer to a queue as a first-in,\nfirst-out (FIFO) structure. It is helpful to think of a queue as being\nthe model for a line at a typical supermarket checkout aisle (first\ncustomer in, first customer to be checked out).\n\n"
            ],
            "metadata": {
            },
            "cell_type": "markdown"
        },
        {
            "source": [
                "# array-backed implementation\n\nclass Queue:\n    def __init__(self):\n    self.data = []\n\n    def enqueue(self, val):\n    pass\n\n    def dequeue(self):\n    assert not self.empty()\n    pass\n\n    def empty(self):\n    pass\n\n    def __bool__(self):\n    return not self.empty()"
            ],
            "outputs": [],
            "metadata": {
            },
            "execution_count": 1,
            "cell_type": "code"
        },
        {
            "source": [
                "q = Queue()\nfor x in range(10):\n    q.enqueue(x)"
            ],
            "outputs": [],
            "metadata": {
            },
            "execution_count": 1,
            "cell_type": "code"
        },
        {
            "source": [
                "while q:\n    print(q.dequeue())"
            ],
            "outputs": [],
            "metadata": {
            },
            "execution_count": 1,
            "cell_type": "code"
        },
        {
            "source": [
                "# circular array-backed implementation (partial)\n\nclass Queue:\n    def __init__(self, size):\n    self.data = [None] * size\n    self.head = self.tail = -1\n\n    def enqueue(self, val):\n    pass\n\n    def dequeue(self):\n    pass"
            ],
            "outputs": [],
            "metadata": {
            },
            "execution_count": 1,
            "cell_type": "code"
        },
        {
            "source": [
                "q = Queue(10)\nfor x in range(6):\n    q.enqueue(x)"
            ],
            "outputs": [],
            "metadata": {
            },
            "execution_count": 1,
            "cell_type": "code"
        },
        {
            "source": [
                "q.data"
            ],
            "outputs": [],
            "metadata": {
            },
            "execution_count": 1,
            "cell_type": "code"
        },
        {
            "source": [
                "for x in range(5):\n    print(q.dequeue())"
            ],
            "outputs": [],
            "metadata": {
            },
            "execution_count": 1,
            "cell_type": "code"
        },
        {
            "source": [
                "q.data"
            ],
            "outputs": [],
            "metadata": {
            },
            "execution_count": 1,
            "cell_type": "code"
        },
        {
            "source": [
                "for x in range(6, 12):\n    q.enqueue(x)"
            ],
            "outputs": [],
            "metadata": {
            },
            "execution_count": 1,
            "cell_type": "code"
        },
        {
            "source": [
                "q.data"
            ],
            "outputs": [],
            "metadata": {
            },
            "execution_count": 1,
            "cell_type": "code"
        },
        {
            "source": [
                "# linked implementation\n\nclass Queue:\n    class Node:\n    def __init__(self, val, next=None):\n    self.val = val\n    self.next  = next\n\n    def __init__(self):\n    self.head = self.tail = None\n\n    def enqueue(self, val):\n    pass\n\n    def dequeue(self):\n    assert not self.empty()\n    pass\n\n    def empty(self):\n    pass\n\n    def __bool__(self):\n    return not self.empty()"
            ],
            "outputs": [],
            "metadata": {
            },
            "execution_count": 1,
            "cell_type": "code"
        },
        {
            "source": [
                "q = Queue()\nfor x in range(10):\n    q.enqueue(x)"
            ],
            "outputs": [],
            "metadata": {
            },
            "execution_count": 1,
            "cell_type": "code"
        },
        {
            "source": [
                "while q:\n    print(q.dequeue())"
            ],
            "outputs": [],
            "metadata": {
            },
            "execution_count": 1,
            "cell_type": "code"
        },
        {
            "source": [
                "###### &#x2026; for tracking execution and backtracking\n\n"
            ],
            "metadata": {
            },
            "cell_type": "markdown"
        },
        {
            "source": [
                "move_queue = Queue()\n\ndef save_move(move):\n    pass\n\ndef next_move():\n    pass\n\ndef out_of_moves():\n    pass"
            ],
            "outputs": [],
            "metadata": {
            },
            "execution_count": 1,
            "cell_type": "code"
        },
        {
            "source": [
                "maze_str = \"\"\"######\n                I    #\n                # ## #\n                # ####\n                #    O\n                ######\"\"\"\n\nsolve_maze(parse_maze(maze_str), (1, 0))"
            ],
            "outputs": [],
            "metadata": {
            },
            "execution_count": 1,
            "cell_type": "code"
        },
        {
            "source": [
                "maze_str = \"\"\"#################\n                I #       #     #\n                # ##### # # # # #\n                #     # # # # # #\n                # ### ### # # ###\n                #   #       #   O\n                #################\"\"\"\n\nsolve_maze(parse_maze(maze_str), (1, 0))"
            ],
            "outputs": [],
            "metadata": {
            },
            "execution_count": 1,
            "cell_type": "code"
        },
        {
            "source": [
                "maze_str = \"\"\"#################\n                I               #\n                # # # # # # # # #\n                # # # # # # # # #\n                # ###############\n                #               O\n                #################\"\"\"\n\nsolve_maze(parse_maze(maze_str), (1, 0))"
            ],
            "outputs": [],
            "metadata": {
            },
            "execution_count": 1,
            "cell_type": "code"
        },
        {
            "source": [
                "Intuitively, because the queue is a first-in, first-out &#x2013; i.e., *fair*\n&#x2013; data structure, it keeps rotating through all the paths which haven't\nyet dead-ended, making just one move further down each time. We call\nthis type of exploration *breadth-first traversal*.\n\nAre there types of mazes which might be more suitably tackled using one\napproach over the other (i.e., depth-first vs. breadth-first)?\n\n"
            ],
            "metadata": {
            },
            "cell_type": "markdown"
        },
        {
            "source": [
                "###### &#x2026; for fair scheduling (aka \"round-robin\" scheduling)\n\n"
            ],
            "metadata": {
            },
            "cell_type": "markdown"
        },
        {
            "source": [
                "Queues are often used to either carry out or simulate the fair\nallocation of resources. Here we implement a \"round-robin\" scheduler for\npermitting different tasks to run for small, fixed periods of time until\nthey complete:\n\n"
            ],
            "metadata": {
            },
            "cell_type": "markdown"
        },
        {
            "source": [
                "from random import randint\nfrom time import sleep\n\ntask_queue = Queue()\nfor i in range(3):\n    task_queue.enqueue(('Job {}'.format(i), randint(3, 6)))"
            ],
            "outputs": [],
            "metadata": {
            },
            "execution_count": 1,
            "cell_type": "code"
        },
        {
            "source": [
                "n = task_queue.head\nwhile n:\n    print(n.val)\n    n = n.next"
            ],
            "outputs": [],
            "metadata": {
            },
            "execution_count": 1,
            "cell_type": "code"
        },
        {
            "source": [
                "while not task_queue.empty():\n    job, time_left = task_queue.dequeue()\n    print('Running', job)\n    sleep(1)\n    time_left -= 1\n    if time_left > 0:\n    print('Re-queueuing', job, 'with remaining time =', time_left)\n    task_queue.enqueue((job, time_left))\n    else:\n    print('*', job, 'done')"
            ],
            "outputs": [],
            "metadata": {
            },
            "execution_count": 1,
            "cell_type": "code"
        },
        {
            "source": [
                "###### &#x2026; for doling out work\n\n"
            ],
            "metadata": {
            },
            "cell_type": "markdown"
        },
        {
            "source": [
                "Queues are also frequently used as a sort of conveyer belt for multiple\nworker functions to draw from. Here we implement a \"work queue\" pattern\nused by multiple threads of execution:\n\n"
            ],
            "metadata": {
            },
            "cell_type": "markdown"
        },
        {
            "source": [
                "from threading import Thread, Lock\nfrom time import sleep\nimport random\n\nlock = Lock()\ndef worker_fn(cid, q):\n    while True:\n        try:\n            with lock:\n                work = q.dequeue()\n        except: # queue is empty\n            sleep(1)\n            continue\n        if work == 'Stop':\n            print('Consumer', cid, 'stopping.')\n            break\n        else:\n            print('Consumer', cid, 'processing', work)\n            sleep(random.random())\n\nwork_queue = Queue()\nfor i in range(5):\n    Thread(target=worker_fn, args=(i, work_queue)).start()"
            ],
            "outputs": [],
            "metadata": {
            },
            "execution_count": 1,
            "cell_type": "code"
        },
        {
            "source": [
                "import threading\nthreading.active_count()"
            ],
            "outputs": [],
            "metadata": {
            },
            "execution_count": 1,
            "cell_type": "code"
        },
        {
            "source": [
                "for i in range(10):\n    with lock:\n    work_queue.enqueue(i)"
            ],
            "outputs": [],
            "metadata": {
            },
            "execution_count": 1,
            "cell_type": "code"
        },
        {
            "source": [
                "for i in range(5):\n    with lock:\n        work_queue.enqueue('Stop')"
            ],
            "outputs": [],
            "metadata": {
            },
            "execution_count": 1,
            "cell_type": "code"
        },
        {
            "source": [
                "##### 1.  Run-time analysis\n\n"
            ],
            "metadata": {
            },
            "cell_type": "markdown"
        },
        {
            "source": [
                "Stack & Queue implementations:\n\n-   **Insertion** (push and enqueue) = $O(1)$\n-   **Deletion** (pop and dequeue) = $O(1)$\n\n"
            ],
            "metadata": {
            },
            "cell_type": "markdown"
        },
        {
            "source": [
                "### On Recursion\n\n"
            ],
            "metadata": {
            },
            "cell_type": "markdown"
        },
        {
            "source": [
                "#### Agenda\n\n"
            ],
            "metadata": {
            },
            "cell_type": "markdown"
        },
        {
            "source": [
                "1.  Recursion\n    \n    -   stopping recursion: simplification & base cases\n    \n    2.  Recursive \"shapes\":\n        -   Linear (single) recursion:\n        \n        -   Factorial\n        -   Addition\n        -   Binary search\n        \n        -   Tree (multiple) recursion: *divide and conquer*\n        \n        -   Fibonacci numbers\n        -   Tower of Hanoi\n        -   Merge sort\n        -   Making change\n    \n    3.  The Call Stack and Stack Frames\n        -   simulating recursion\n        -   debugging with `pdb` and `%debug`\n\n"
            ],
            "metadata": {
            },
            "cell_type": "markdown"
        },
        {
            "source": [
                "#### 1.  Recursion\n\n"
            ],
            "metadata": {
            },
            "cell_type": "markdown"
        },
        {
            "source": [
                "Recursive functions, directly or indirectly, call themselves.\n\nRecursive solutions are applicable when a problem can be broken down\ninto more easily solved sub-problems that resemble the original, and\nwhose solutions can then be combined.\n\nE.g., computing the combined price of a bunch of nested shopping bags of\nitems:\n\n"
            ],
            "metadata": {
            },
            "cell_type": "markdown"
        },
        {
            "source": [
                "class Bag:\n    def __init__(self, price, *contents):\n    self.price = price\n    self.contents = contents"
            ],
            "outputs": [],
            "metadata": {
            },
            "execution_count": 1,
            "cell_type": "code"
        },
        {
            "source": [
                "bag1 = Bag(10)"
            ],
            "outputs": [],
            "metadata": {
            },
            "execution_count": 1,
            "cell_type": "code"
        },
        {
            "source": [
                "bag2 = Bag(5, Bag(3))"
            ],
            "outputs": [],
            "metadata": {
            },
            "execution_count": 1,
            "cell_type": "code"
        },
        {
            "source": [
                "bag3 = Bag(5, Bag(4, Bag(3)), Bag(2))"
            ],
            "outputs": [],
            "metadata": {
            },
            "execution_count": 1,
            "cell_type": "code"
        },
        {
            "source": [
                "bag4 = Bag(0, Bag(5), Bag(10), Bag(3, Bag(2), Bag(100)), Bag(9, Bag(2, Bag(25))))"
            ],
            "outputs": [],
            "metadata": {
            },
            "execution_count": 1,
            "cell_type": "code"
        },
        {
            "source": [
                "def price(bag):\n    pass"
            ],
            "outputs": [],
            "metadata": {
            },
            "execution_count": 1,
            "cell_type": "code"
        },
        {
            "source": [
                "price(bag1)"
            ],
            "outputs": [],
            "metadata": {
            },
            "execution_count": 1,
            "cell_type": "code"
        },
        {
            "source": [
                "##### Stopping recursion: simplification & base case(s)\n\n"
            ],
            "metadata": {
            },
            "cell_type": "markdown"
        },
        {
            "source": [
                "import sys\nsys.setrecursionlimit(200)"
            ],
            "outputs": [],
            "metadata": {
            },
            "execution_count": 1,
            "cell_type": "code"
        },
        {
            "source": [
                "def silly_rec(n):\n    print(n)\n    pass"
            ],
            "outputs": [],
            "metadata": {
            },
            "execution_count": 1,
            "cell_type": "code"
        },
        {
            "source": [
                "silly_rec(1)"
            ],
            "outputs": [],
            "metadata": {
            },
            "execution_count": 1,
            "cell_type": "code"
        },
        {
            "source": [
                "#### 1.  Recursive \"shapes\"\n\n"
            ],
            "metadata": {
            },
            "cell_type": "markdown"
        },
        {
            "source": [
                "##### Linear recursion\n\n"
            ],
            "metadata": {
            },
            "cell_type": "markdown"
        },
        {
            "source": [
                "###### Example: Factorial\n\n"
            ],
            "metadata": {
            },
            "cell_type": "markdown"
        },
        {
            "source": [
                "$n! = \\begin{cases}  1 & \\text{if}\\ n=0 \\\\  n \\cdot (n-1)! & \\text{if}\\ n>0  \\end{cases}$\n\ni.e., $n! = n \\cdot (n-1) \\cdot (n-2) \\cdots 3 \\cdot 2 \\cdot 1$\n\n"
            ],
            "metadata": {
            },
            "cell_type": "markdown"
        },
        {
            "source": [
                "def rec_factorial(n):\n    print('n = ', n)\n    pass\n\nrec_factorial(10)"
            ],
            "outputs": [],
            "metadata": {
            },
            "execution_count": 1,
            "cell_type": "code"
        },
        {
            "source": [
                "###### Example: Addition of two positive numbers $m$, $n$\n\n"
            ],
            "metadata": {
            },
            "cell_type": "markdown"
        },
        {
            "source": [
                "$m + n = \\begin{cases}  m & \\text{if}\\ n=0 \\\\  (m + 1) + (n - 1) & \\text{if}\\ n > 0  \\end{cases}$\n\n"
            ],
            "metadata": {
            },
            "cell_type": "markdown"
        },
        {
            "source": [
                "def add(m, n):\n    print('m, n = ', (m, n))\n    pass"
            ],
            "outputs": [],
            "metadata": {
            },
            "execution_count": 1,
            "cell_type": "code"
        },
        {
            "source": [
                "add(5, 0)"
            ],
            "outputs": [],
            "metadata": {
            },
            "execution_count": 1,
            "cell_type": "code"
        },
        {
            "source": [
                "add(5, 1)"
            ],
            "outputs": [],
            "metadata": {
            },
            "execution_count": 1,
            "cell_type": "code"
        },
        {
            "source": [
                "add(5, 5)"
            ],
            "outputs": [],
            "metadata": {
            },
            "execution_count": 1,
            "cell_type": "code"
        },
        {
            "source": [
                "###### Example: Binary search\n\n"
            ],
            "metadata": {
            },
            "cell_type": "markdown"
        },
        {
            "source": [
                "def bin_search(x, lst):\n    pass"
            ],
            "outputs": [],
            "metadata": {
            },
            "execution_count": 1,
            "cell_type": "code"
        },
        {
            "source": [
                "bin_search(20, list(range(100)))"
            ],
            "outputs": [],
            "metadata": {
            },
            "execution_count": 1,
            "cell_type": "code"
        },
        {
            "source": [
                "bin_search(-1, list(range(100)))"
            ],
            "outputs": [],
            "metadata": {
            },
            "execution_count": 1,
            "cell_type": "code"
        },
        {
            "source": [
                "bin_search(50.5, list(range(100)))"
            ],
            "outputs": [],
            "metadata": {
            },
            "execution_count": 1,
            "cell_type": "code"
        },
        {
            "source": [
                "##### Tree recursion\n\n"
            ],
            "metadata": {
            },
            "cell_type": "markdown"
        },
        {
            "source": [
                "###### Example: Fibonacci numbers\n\n"
            ],
            "metadata": {
            },
            "cell_type": "markdown"
        },
        {
            "source": [
                "$fib(n) = \\begin{cases}  0 & \\text{if}\\ n=0 \\\\  1 & \\text{if}\\ n=1 \\\\  fib(n-1) + fib(n-2) & \\text{otherwise}  \\end{cases}$\n\ni.e., 0, 1, 1, 2, 3, 5, 8, 13, 21, &#x2026;\n\n"
            ],
            "metadata": {
            },
            "cell_type": "markdown"
        },
        {
            "source": [
                "def rec_fib(n):\n    print('n = ', n)\n    pass\n\nrec_fib(5)"
            ],
            "outputs": [],
            "metadata": {
            },
            "execution_count": 1,
            "cell_type": "code"
        },
        {
            "source": [
                "###### Example: Tower of Hanoi\n\n"
            ],
            "metadata": {
            },
            "cell_type": "markdown"
        },
        {
            "source": [
                "Setup: three rods, with one or more discs of different sizes all stacked\n on one rod, smallest (top) to largest (bottom). E.g.,\n\n           ||          ||          ||\n           ==          ||          ||\n        ====         ||          ||\n         ======        ||          ||\n    ------------------------------------\n\nGoal: move all the discs, one by one, to another rod, with the rules\nbeing that (1) only smaller discs can be stacked on larger ones and (2)\nonly the top disc in a stack can be moved to another rod.\n\nFor three discs, as shown above, we would carry out the following\nsequence to move the stack to the rightmost rod. The rods are\nabbreviated L (left), M (middle), R (right):\n\n1.  Move the small disc (0) from L to R\n2.  Move the medium disc (1) from L to M\n3.  Move 0 from R to M (R is empty)\n4.  Move the large disc (2) from L to R\n5.  Move 0 from M to L\n6.  Move 1 from M to R\n7.  Move 0 from L to R (done)\n\nCan you come up with the sequence needed to move a stack of 4 discs from\none rod to another? 5 discs? An arbitrary number of discs?\n\n"
            ],
            "metadata": {
            },
            "cell_type": "markdown"
        },
        {
            "source": [
                "height = 3\ntowers = [[] for _ in range(3)]\ntowers[0] = list(range(height, 0, -1))\n\ndef move(frm, to):\n    towers[to].append(towers[frm].pop(-1))\n    display()\n\ndef hanoi(frm, to, using, levels):\n    pass"
            ],
            "outputs": [],
            "metadata": {
            },
            "execution_count": 1,
            "cell_type": "code"
        },
        {
            "source": [
                "towers"
            ],
            "outputs": [],
            "metadata": {
            },
            "execution_count": 1,
            "cell_type": "code"
        },
        {
            "source": [
                "from time import sleep\nfrom Ipython.display import clear_output\n\ndef display():\n    clear_output(True)\n    print('{:^12}'.format('||') * 3)\n    for level in range(height, 0, -1):\n    for t in towers:\n    try:\n    print('{:^12}'.format('==' * t[level-1]), end='')\n    except IndexError:\n    print('{:^12}'.format('||'), end='')\n    print()\n    print('-' * 36)\n    sleep(1)"
            ],
            "outputs": [],
            "metadata": {
            },
            "execution_count": 1,
            "cell_type": "code"
        },
        {
            "source": [
                "display()"
            ],
            "outputs": [],
            "metadata": {
            },
            "execution_count": 1,
            "cell_type": "code"
        },
        {
            "source": [
                "hanoi(0, 2, 1, 3)"
            ],
            "outputs": [],
            "metadata": {
            },
            "execution_count": 1,
            "cell_type": "code"
        },
        {
            "source": [
                "###### Example: Mergesort\n\n"
            ],
            "metadata": {
            },
            "cell_type": "markdown"
        },
        {
            "source": [
                "def merge(l1, l2): # O(N), where N is the number of elements in the two lists\n    merged = []\n    i1 = i2 = 0\n    while i1 < len(l1) or i2 < len(l2):\n    if i2 == len(l2) or (i1 < len(l1)\n                               and l1[i1] < l2[i2]):\n    merged.append(l1[i1])\n    i1 += 1\n    else:\n    merged.append(l2[i2])\n    i2 += 1\n    return merged"
            ],
            "outputs": [],
            "metadata": {
            },
            "execution_count": 1,
            "cell_type": "code"
        },
        {
            "source": [
                "l1 = [1, 5, 9]\nl2 = [2, 6, 8, 11]\nmerge(l1, l2)"
            ],
            "outputs": [],
            "metadata": {
            },
            "execution_count": 1,
            "cell_type": "code"
        },
        {
            "source": [
                "def mergesort(lst):\n    pass"
            ],
            "outputs": [],
            "metadata": {
            },
            "execution_count": 1,
            "cell_type": "code"
        },
        {
            "source": [
                "import random\nlst = list(range(10))\nrandom.shuffle(lst)"
            ],
            "outputs": [],
            "metadata": {
            },
            "execution_count": 1,
            "cell_type": "code"
        },
        {
            "source": [
                "lst"
            ],
            "outputs": [],
            "metadata": {
            },
            "execution_count": 1,
            "cell_type": "code"
        },
        {
            "source": [
                "mergesort(lst)"
            ],
            "outputs": [],
            "metadata": {
            },
            "execution_count": 1,
            "cell_type": "code"
        },
        {
            "source": [
                "def insertion_sort(lst):\n    for i in range(1, len(lst)):\n    for j in range(i, 0, -1):\n    if lst[j-1] > lst[j]:\n    lst[j-1], lst[j] = lst[j], lst[j-1] # swap\n    else:\n    break"
            ],
            "outputs": [],
            "metadata": {
            },
            "execution_count": 1,
            "cell_type": "code"
        },
        {
            "source": [
                "class Heap:\n    def __init__(self):\n    self.data = []\n\n    @staticmethod\n    def _parent(idx):\n    return (idx-1)//2\n\n    @staticmethod\n    def _left(idx):\n    return idx*2+1\n\n    @staticmethod\n    def _right(idx):\n    return idx*2+2\n\n    def _heapify(self, idx=0):\n    while True:\n    l = Heap._left(idx)\n    r = Heap._right(idx)\n    maxidx = idx\n    if l < len(self) and self.data[l] > self.data[idx]:\n    maxidx = l\n    if r < len(self) and self.data[r] > self.data[maxidx]:\n    maxidx = r\n    if maxidx != idx:\n    self.data[idx], self.data[maxidx] = self.data[maxidx], self.data[idx]\n    idx = maxidx\n    else:\n    break\n\n    def add(self, x):\n    self.data.append(x)\n    i = len(self.data) - 1\n    p = Heap._parent(i)\n    while i > 0 and self.data[p] < self.data[i]:\n    self.data[p], self.data[i] = self.data[i], self.data[p]\n    i = p\n    p = Heap._parent(i)\n\n    def max(self):\n    return self.data[0]\n\n    def pop_max(self):\n    ret = self.data[0]\n    self.data[0] = self.data[len(self.data)-1]\n    del self.data[len(self.data)-1]\n    self._heapify()\n    return ret\n\n    def __bool__(self):\n    return len(self.data) > 0\n\n    def __len__(self):\n    return len(self.data)\n\n\ndef heapsort(iterable):\n    heap = Heap()\n    for x in iterable:\n    heap.add(x)\n    sorted_lst = []\n    while heap:\n    sorted_lst.append(heap.pop_max())\n    sorted_lst.reverse()\n    return sorted_lst"
            ],
            "outputs": [],
            "metadata": {
            },
            "execution_count": 1,
            "cell_type": "code"
        },
        {
            "source": [
                "import timeit\nimport random\ninsertionsort_times = []\nheapsort_times = []\nmergesort_times = []\nfor size in range(100, 3000, 100):\n    insertionsort_times.append(timeit.timeit(stmt='insertion_sort(lst)',\n                                 setup='import random ; from __main__ import insertion_sort ; '\n                                           'lst = [random.random() for _ in range({})]'.format(size),\n                                 number=1))\n    heapsort_times.append(timeit.timeit(stmt='heapsort(lst)',\n                                 setup='import random ; from __main__ import heapsort ; '\n                                           'lst = [random.random() for _ in range({})]'.format(size),\n                                 number=1))\n    mergesort_times.append(timeit.timeit(stmt='mergesort(lst)'.format(size),\n                                 setup='import random ; from __main__ import mergesort ; '\n                                           'lst = [random.random() for _ in range({})]'.format(size),\n                                 number=1))"
            ],
            "outputs": [],
            "metadata": {
            },
            "execution_count": 1,
            "cell_type": "code"
        },
        {
            "source": [
                "%matplotlib inline\nimport matplotlib.pyplot as plt\nplt.plot(insertionsort_times, 'ro')\nplt.plot(heapsort_times, 'b^')\nplt.plot(mergesort_times, 'gs')\nplt.show()"
            ],
            "outputs": [],
            "metadata": {
            },
            "execution_count": 1,
            "cell_type": "code"
        },
        {
            "source": [
                "###### Example: Making Change\n\n"
            ],
            "metadata": {
            },
            "cell_type": "markdown"
        },
        {
            "source": [
                "Question: how many different ways are there of making up a specified\n amount of money, given a list of available denominations?\n\nE.g., how many ways of making 10 cents, given 1c, 5c, 10c, 25c coins?\n\n"
            ],
            "metadata": {
            },
            "cell_type": "markdown"
        },
        {
            "source": [
                "def change(amount, denoms):\n    pass"
            ],
            "outputs": [],
            "metadata": {
            },
            "execution_count": 1,
            "cell_type": "code"
        },
        {
            "source": [
                "change(5, (1, 5, 10, 25))"
            ],
            "outputs": [],
            "metadata": {
            },
            "execution_count": 1,
            "cell_type": "code"
        },
        {
            "source": [
                "change(10, (1, 5, 10, 25))"
            ],
            "outputs": [],
            "metadata": {
            },
            "execution_count": 1,
            "cell_type": "code"
        },
        {
            "source": [
                "change(1000, (1, 5, 10, 25))"
            ],
            "outputs": [],
            "metadata": {
            },
            "execution_count": 1,
            "cell_type": "code"
        },
        {
            "source": [
                "#### 1.  The Call Stack\n\n"
            ],
            "metadata": {
            },
            "cell_type": "markdown"
        },
        {
            "source": [
                "##### Simulating recursive `factorial`\n\n"
            ],
            "metadata": {
            },
            "cell_type": "markdown"
        },
        {
            "source": [
                "class Stack(list):\n    push = list.append\n    pop  = lambda self: list.pop(self, -1)\n    peek = lambda self: self[-1]\n    empty = lambda self: len(self) == 0"
            ],
            "outputs": [],
            "metadata": {
            },
            "execution_count": 1,
            "cell_type": "code"
        },
        {
            "source": [
                "call_stack = Stack()\n\ndef call(arg):\n    call_stack.push('<frame begin>')\n    call_stack.push(('arg', arg))\n\ndef get_arg():\n    return call_stack.peek()[-1]\n\ndef save_local(name, val):\n    call_stack.push(('local', name, val))\n\ndef restore_local():\n    return call_stack.pop()[2]\n\ndef return_with(val):\n    while call_stack.pop() != '<frame begin>':\n    pass\n    call_stack.push(('ret', val))\n\ndef last_return_val():\n    return call_stack.pop()[-1]"
            ],
            "outputs": [],
            "metadata": {
            },
            "execution_count": 1,
            "cell_type": "code"
        },
        {
            "source": [
                "call(10) # initial call\nwhile True: # recursive calls\n    n = get_arg()\n    if n == 1:\n    return_with(1)\n    break\n    else:\n    save_local('n', n)\n    call(n-1)"
            ],
            "outputs": [],
            "metadata": {
            },
            "execution_count": 1,
            "cell_type": "code"
        },
        {
            "source": [
                "call_stack"
            ],
            "outputs": [],
            "metadata": {
            },
            "execution_count": 1,
            "cell_type": "code"
        },
        {
            "source": [
                "ret = last_return_val()\nn = restore_local()\nreturn_with(n * ret)\ncall_stack"
            ],
            "outputs": [],
            "metadata": {
            },
            "execution_count": 1,
            "cell_type": "code"
        },
        {
            "source": [
                "##### Debugging with `pdb` and `%debug`\n\n"
            ],
            "metadata": {
            },
            "cell_type": "markdown"
        },
        {
            "source": [
                "import sys\nsys.setrecursionlimit(100)"
            ],
            "outputs": [],
            "metadata": {
            },
            "execution_count": 1,
            "cell_type": "code"
        },
        {
            "source": [
                "def rec_factorial(n):\n    if n <= 1:   # detect base case\n    raise Exception('base case!')\n    else:\n    return n * rec_factorial(n-1)"
            ],
            "outputs": [],
            "metadata": {
            },
            "execution_count": 1,
            "cell_type": "code"
        },
        {
            "source": [
                "rec_factorial(10)"
            ],
            "outputs": [],
            "metadata": {
            },
            "execution_count": 1,
            "cell_type": "code"
        },
        {
            "source": [
                "%debug\n# commands to try:\n# help, where, args, p n, up, u 10, down, d 10, l, up 100, u, d (& enter to repeat)"
            ],
            "outputs": [],
            "metadata": {
            },
            "execution_count": 1,
            "cell_type": "code"
        },
        {
            "source": [
                "def bin_search(x, lst):\n    if len(lst) == 0:\n    return False\n    else:\n    print('lo, hi = ', (lst[0], lst[-1]))\n    mid = len(lst) // 2\n    if x == lst[mid]:\n    import pdb ; pdb.set_trace()\n    return True\n    elif x < lst[mid]:\n    return bin_search(x, lst[:mid])\n    else:\n    return bin_search(x, lst[mid+1:])"
            ],
            "outputs": [],
            "metadata": {
            },
            "execution_count": 1,
            "cell_type": "code"
        },
        {
            "source": [
                "bin_search(20, list(range(100)))"
            ],
            "outputs": [],
            "metadata": {
            },
            "execution_count": 1,
            "cell_type": "code"
        },
        {
            "source": [
                "### Implementing Iteration\n\n"
            ],
            "metadata": {
            },
            "cell_type": "markdown"
        },
        {
            "source": [
                "#### Agenda\n\n"
            ],
            "metadata": {
            },
            "cell_type": "markdown"
        },
        {
            "source": [
                "1.  Review: Iteration\n    1.  Details: *iterables*, *iterators*, `iter`, and `next`\n    2.  Implementing iterators with classes\n    3.  Implementing iterators with *generators* and `yield`\n\n"
            ],
            "metadata": {
            },
            "cell_type": "markdown"
        },
        {
            "source": [
                "#### 1.  Review: Iteration\n\n"
            ],
            "metadata": {
            },
            "cell_type": "markdown"
        },
        {
            "source": [
                "*Iteration* simply refers to the process of accessing &#x2014; one by one &#x2014;\n the items stored in some container. The order of the items, and whether\n or not the iteration is comprehensive, depends on the container.\n\nIn Ipython, we typically perform iteration using the `for` loop.\n\n"
            ],
            "metadata": {
            },
            "cell_type": "markdown"
        },
        {
            "source": [
                "# e.g., iterating over a list\nl = [2**x for x in range(10)]\nfor n in l:\n    print(n)"
            ],
            "outputs": [],
            "metadata": {
            },
            "execution_count": 1,
            "cell_type": "code"
        },
        {
            "source": [
                "# e.g., iterating over the key-value pairs in a dictionary\nd = {x:2**x for x in range(10)}\nfor k,v in d.items():\n    print(k, '=>', v)"
            ],
            "outputs": [],
            "metadata": {
            },
            "execution_count": 1,
            "cell_type": "code"
        },
        {
            "source": [
                "#### 1.  Details: *iterables*, *iterators*, `iter`, and `next`\n\n"
            ],
            "metadata": {
            },
            "cell_type": "markdown"
        },
        {
            "source": [
                "We can iterate over anything that is *iterable*. Intuitively, if\n something can be used as the source of items in a `for` loop, it is\n iterable.\n\nBut how does a `for` loop really work? (Review time!)\n\n"
            ],
            "metadata": {
            },
            "cell_type": "markdown"
        },
        {
            "source": [
                "l = [2**x for x in range(10)]"
            ],
            "outputs": [],
            "metadata": {
            },
            "execution_count": 1,
            "cell_type": "code"
        },
        {
            "source": [
                "#### 1.  Implementing iterators with classes\n\n"
            ],
            "metadata": {
            },
            "cell_type": "markdown"
        },
        {
            "source": [
                "class MyIterator:\n    def __init__(self, max):\n    self.max = max\n    self.curr = 0\n\n    # the following methods are required for iterator objects\n\n    def __next__(self):\n    pass\n\n    def __iter__(self):\n    pass"
            ],
            "outputs": [],
            "metadata": {
            },
            "execution_count": 1,
            "cell_type": "code"
        },
        {
            "source": [
                "it = MyIterator(10)"
            ],
            "outputs": [],
            "metadata": {
            },
            "execution_count": 1,
            "cell_type": "code"
        },
        {
            "source": [
                "next(it)"
            ],
            "outputs": [],
            "metadata": {
            },
            "execution_count": 1,
            "cell_type": "code"
        },
        {
            "source": [
                "it = MyIterator(10)\nwhile True:\n    try:\n    print(next(it))\n    except StopIteration:\n    break"
            ],
            "outputs": [],
            "metadata": {
            },
            "execution_count": 1,
            "cell_type": "code"
        },
        {
            "source": [
                "it = MyIterator(10)\nfor i in it:\n    print(i)"
            ],
            "outputs": [],
            "metadata": {
            },
            "execution_count": 1,
            "cell_type": "code"
        },
        {
            "source": [
                "For a container type, we need to implement an `__iter__` method that\n returns an iterator.\n\n"
            ],
            "metadata": {
            },
            "cell_type": "markdown"
        },
        {
            "source": [
                "class ArrayList:\n    def __init__(self):\n    self.data = []\n\n    def append(self, val):\n    self.data.append(None)\n    self.data[len(self.data)-1] = val\n\n    def __iter__(self):\n    pass"
            ],
            "outputs": [],
            "metadata": {
            },
            "execution_count": 1,
            "cell_type": "code"
        },
        {
            "source": [
                "l = ArrayList()\nfor x in range(10):\n    l.append(2**x)"
            ],
            "outputs": [],
            "metadata": {
            },
            "execution_count": 1,
            "cell_type": "code"
        },
        {
            "source": [
                "it = iter(l)"
            ],
            "outputs": [],
            "metadata": {
            },
            "execution_count": 1,
            "cell_type": "code"
        },
        {
            "source": [
                "type(it)"
            ],
            "outputs": [],
            "metadata": {
            },
            "execution_count": 1,
            "cell_type": "code"
        },
        {
            "source": [
                "next(it)"
            ],
            "outputs": [],
            "metadata": {
            },
            "execution_count": 1,
            "cell_type": "code"
        },
        {
            "source": [
                "for x in l:\n    print(x)"
            ],
            "outputs": [],
            "metadata": {
            },
            "execution_count": 1,
            "cell_type": "code"
        },
        {
            "source": [
                "#### 1.  Implementing iterators with generators and `yield`\n\n"
            ],
            "metadata": {
            },
            "cell_type": "markdown"
        },
        {
            "source": [
                "What's a \"generator\"?\n\n"
            ],
            "metadata": {
            },
            "cell_type": "markdown"
        },
        {
            "source": [
                "### Maps\n\n"
            ],
            "metadata": {
            },
            "cell_type": "markdown"
        },
        {
            "source": [
                "#### Binary Search Trees\n\n"
            ],
            "metadata": {
            },
            "cell_type": "markdown"
        },
        {
            "source": [
                "##### Agenda\n\n"
            ],
            "metadata": {
            },
            "cell_type": "markdown"
        },
        {
            "source": [
                "-   Binary Trees & Binary Search Trees: definitions\n-   Linked tree structure and Manual construction\n-   Recursive binary search tree functions\n\n"
            ],
            "metadata": {
            },
            "cell_type": "markdown"
        },
        {
            "source": [
                "##### Binary Tree: def\n\n"
            ],
            "metadata": {
            },
            "cell_type": "markdown"
        },
        {
            "source": [
                "-   A *binary tree* is a structure that is either empty, or consists of a\n    *root* node containing a value and references to a left and right\n    *sub-tree*, which are themselves binary trees.\n\nNaming nodes:\n\n-   The single node in a binary tree without a parent is the root node of\n    the tree\n-   We say that a given node is the *parent* of its left and right *child*\n    nodes; nodes with the same parent are called *siblings*\n-   If a node has no children we call it a *leaf* node; otherwise, we call\n    it an *internal* node\n\nBinary tree metrics (note: alternative defs are sometimes used!):\n\n-   The *depth* of a node is the number of nodes from the root of the tree\n    to that node (inclusive)\n-   The *height* of a node is the number of nodes on the longest path from\n    that node down to a leaf (inclusive)\n\nCategorizing binary trees:\n\n-   A *complete* binary tree is one where all but the last level are\n    filled, and in the last level leaves are as far to the left as\n    possible\n-   A *perfect* binary tree is one where all internal nodes have 2\n    children, and all leaves have the same depth\n-   A *balanced* binary tree is &#x2026; ?\n\n"
            ],
            "metadata": {
            },
            "cell_type": "markdown"
        },
        {
            "source": [
                "##### Binary Search Tree (BSTree): def\n\n"
            ],
            "metadata": {
            },
            "cell_type": "markdown"
        },
        {
            "source": [
                "-   A *binary search tree* is a binary tree where the value contained in\n    every node is:\n    -   *greater than* all keys in its left subtree, and\n    -   *less than* all keys in its right subtree\n\n"
            ],
            "metadata": {
            },
            "cell_type": "markdown"
        },
        {
            "source": [
                "##### Linked tree structure and Manual construction:\n\n"
            ],
            "metadata": {
            },
            "cell_type": "markdown"
        },
        {
            "source": [
                "class Node:\n    def __init__(self, val, left=None, right=None):\n    self.val = val\n    self.left = left\n    self.right = right\n\n    def __repr__(self):\n    def str_rec(t,depth):\n    if not t:\n    return \"\"\n    else:\n    return ((\"\\t\" * depth)\n    + str(t.val)\n    + \"\\n\" + str_rec(t.left, depth + 1)\n    + str_rec(t.right, depth + 1))\n\n    return str_rec(self, 0)"
            ],
            "outputs": [],
            "metadata": {
            },
            "execution_count": 1,
            "cell_type": "code"
        },
        {
            "source": [
                "##### Recursive bstree functions\n\n"
            ],
            "metadata": {
            },
            "cell_type": "markdown"
        },
        {
            "source": [
                "def tmin(t):\n    pass"
            ],
            "outputs": [],
            "metadata": {
            },
            "execution_count": 1,
            "cell_type": "code"
        },
        {
            "source": [
                "import sys\n\ndef max_with_none(*nums):\n    result = None\n    for n in nums:\n    if not result:\n    result = n\n    elif n:\n    result = max(result,n)\n    return result\n\ndef tmax(t: Node):\n    if not t:\n    return None\n    return max_with_none(t.val, tmax(t.left), tmax(t.right))"
            ],
            "outputs": [],
            "metadata": {
            },
            "execution_count": 1,
            "cell_type": "code"
        },
        {
            "source": [
                "def find(t, x):\n    if not t:\n    return False\n    if t.val == x:\n    return True\n    if t.val > x:\n    return find(t.left, x)\n    if t.val < x:\n    return find(t.right, x)"
            ],
            "outputs": [],
            "metadata": {
            },
            "execution_count": 1,
            "cell_type": "code"
        },
        {
            "source": [
                "import builtins\nmax = builtins.max\ndef height(t):\n    if not t:\n    return 0\n    return 1 + max([height(t.left), height(t.right)])"
            ],
            "outputs": [],
            "metadata": {
            },
            "execution_count": 1,
            "cell_type": "code"
        },
        {
            "source": [
                "def visit(t):\n    pass"
            ],
            "outputs": [],
            "metadata": {
            },
            "execution_count": 1,
            "cell_type": "code"
        },
        {
            "source": [
                "def map(t,f):\n    f(t.val)\n    if t.left:\n    map(t.left, f)\n    if t.right:\n    map(t.right, f)"
            ],
            "outputs": [],
            "metadata": {
            },
            "execution_count": 1,
            "cell_type": "code"
        },
        {
            "source": [
                "myt = Node(3, Node(1), Node(5))\n#print(f\"height: {height(myt)}\")\nmyt\nheight(myt)\ntmax(myt)"
            ],
            "outputs": [],
            "metadata": {
            },
            "execution_count": 1,
            "cell_type": "code"
        },
        {
            "source": [
                "    5\n\n"
            ],
            "metadata": {
            },
            "cell_type": "markdown"
        },
        {
            "source": [
                "map(myt,lambda x: print (x))"
            ],
            "outputs": [],
            "metadata": {
            },
            "execution_count": 1,
            "cell_type": "code"
        },
        {
            "source": [
                "    3\n    1\n    5\n\n"
            ],
            "metadata": {
            },
            "cell_type": "markdown"
        },
        {
            "source": [
                "print(f\"\"\"find 3: {find(myt, 3)}\nfind 5: {find(myt, 5)}\nfind 1: {find(myt, 1)}\nfind 2: {find(myt, 2)}\"\"\")"
            ],
            "outputs": [],
            "metadata": {
            },
            "execution_count": 1,
            "cell_type": "code"
        },
        {
            "source": [
                "    find 3: True\n    find 5: True\n    find 1: True\n    find 2: False\n\n"
            ],
            "metadata": {
            },
            "cell_type": "markdown"
        },
        {
            "source": [
                ""
            ],
            "outputs": [],
            "metadata": {
            },
            "execution_count": 1,
            "cell_type": "code"
        },
        {
            "source": [
                "#### The BSTree data structure\n\n"
            ],
            "metadata": {
            },
            "cell_type": "markdown"
        },
        {
            "source": [
                "##### Agenda\n\n"
            ],
            "metadata": {
            },
            "cell_type": "markdown"
        },
        {
            "source": [
                "-   API\n-   Implementation\n    -   Search\n    -   Addition\n    -   Removal\n    -   Iteration / Traversal\n\n"
            ],
            "metadata": {
            },
            "cell_type": "markdown"
        },
        {
            "source": [
                "##### API\n\n"
            ],
            "metadata": {
            },
            "cell_type": "markdown"
        },
        {
            "source": [
                "class BSTree:\n    class Node:\n    def __init__(self, val, left=None, right=None):\n    self.val = val\n    self.left = left\n    self.right = right\n\n    def __init__(self):\n    self.size = 0\n    self.root = None\n\n    def add(self, val):\n    \"\"\"Adds `val` to this tree while maintaining BSTree properties.\"\"\"\n    assert(val not in self)\n    pass\n\n    def __contains__(self, val):\n    \"\"\"Returns `True` if val is in this tree and `False` otherwise.\"\"\"\n    pass\n\n    def __delitem__(self, val):\n    \"\"\"Removes `val` from this tree while maintaining BSTree properties.\"\"\"\n    assert(val in self)\n    pass\n\n    def __iter__(self):\n    \"\"\"Returns an iterator over all the values in the tree, in ascending order.\"\"\"\n    pass\n\n    def __len__(self):\n    return self.size\n\n    def pprint(self, width=64):\n    \"\"\"Attempts to pretty-print this tree's contents.\"\"\"\n    height = self.height()\n    nodes  = [(self.root, 0)]\n    prev_level = 0\n    repr_str = ''\n    while nodes:\n    n,level = nodes.pop(0)\n    if prev_level != level:\n    prev_level = level\n    repr_str += '\\n'\n    if not n:\n    if level < height-1:\n    nodes.extend([(None, level+1), (None, level+1)])\n    repr_str += '{val:^{width}}'.format(val='-', width=width//2**level)\n    elif n:\n    if n.left or level < height-1:\n    nodes.append((n.left, level+1))\n    if n.right or level < height-1:\n    nodes.append((n.right, level+1))\n    repr_str += '{val:^{width}}'.format(val=n.val, width=width//2**level)\n    print(repr_str)\n\n    def height(self):\n    \"\"\"Returns the height of the longest branch of the tree.\"\"\"\n    def height_rec(t):\n    if not t:\n    return 0\n    else:\n    return max(1+height_rec(t.left), 1+height_rec(t.right))\n    return height_rec(self.root)"
            ],
            "outputs": [],
            "metadata": {
            },
            "execution_count": 1,
            "cell_type": "code"
        },
        {
            "source": [
                "t = BSTree()\nt.root = BSTree.Node(5,\n    left=BSTree.Node(2),\n    right=BSTree.Node(10))\nt.size = 3"
            ],
            "outputs": [],
            "metadata": {
            },
            "execution_count": 1,
            "cell_type": "code"
        },
        {
            "source": [
                "t.pprint()"
            ],
            "outputs": [],
            "metadata": {
            },
            "execution_count": 1,
            "cell_type": "code"
        },
        {
            "source": [
                "t.height()"
            ],
            "outputs": [],
            "metadata": {
            },
            "execution_count": 1,
            "cell_type": "code"
        },
        {
            "source": [
                "##### Implementation\n\n"
            ],
            "metadata": {
            },
            "cell_type": "markdown"
        },
        {
            "source": [
                "###### Search\n\n"
            ],
            "metadata": {
            },
            "cell_type": "markdown"
        },
        {
            "source": [
                "class BSTree(BSTree):\n    def __contains__(self, val):\n    pass"
            ],
            "outputs": [],
            "metadata": {
            },
            "execution_count": 1,
            "cell_type": "code"
        },
        {
            "source": [
                "t = BSTree()\nt.root = BSTree.Node(5,\n    left=BSTree.Node(2),\n    right=BSTree.Node(10))\nt.size = 3"
            ],
            "outputs": [],
            "metadata": {
            },
            "execution_count": 1,
            "cell_type": "code"
        },
        {
            "source": [
                "5 in t"
            ],
            "outputs": [],
            "metadata": {
            },
            "execution_count": 1,
            "cell_type": "code"
        },
        {
            "source": [
                "###### Addition\n\n"
            ],
            "metadata": {
            },
            "cell_type": "markdown"
        },
        {
            "source": [
                "class BSTree(BSTree):\n    def add(self, val):\n    assert(val not in self)\n    pass"
            ],
            "outputs": [],
            "metadata": {
            },
            "execution_count": 1,
            "cell_type": "code"
        },
        {
            "source": [
                "import random\nt = BSTree()\nvals = list(range(5))\nrandom.shuffle(vals)\nfor x in vals:\n    t.add(x)\nt.pprint()"
            ],
            "outputs": [],
            "metadata": {
            },
            "execution_count": 1,
            "cell_type": "code"
        },
        {
            "source": [
                "###### Removal\n\n"
            ],
            "metadata": {
            },
            "cell_type": "markdown"
        },
        {
            "source": [
                "class BSTree(BSTree):\n    def __delitem__(self, val):\n    assert(val in self)\n    # deal with relatively simple cases first!\n    pass"
            ],
            "outputs": [],
            "metadata": {
            },
            "execution_count": 1,
            "cell_type": "code"
        },
        {
            "source": [
                "t = BSTree()\nfor x in [10, 5, 15, 2, 17]:\n    t.add(x)\nt.pprint()"
            ],
            "outputs": [],
            "metadata": {
            },
            "execution_count": 1,
            "cell_type": "code"
        },
        {
            "source": [
                "del t[2]\nt.pprint()"
            ],
            "outputs": [],
            "metadata": {
            },
            "execution_count": 1,
            "cell_type": "code"
        },
        {
            "source": [
                "t = BSTree()\nfor x in [10, 5, 15, 2, 17]:\n    t.add(x)\nt.pprint()"
            ],
            "outputs": [],
            "metadata": {
            },
            "execution_count": 1,
            "cell_type": "code"
        },
        {
            "source": [
                "del t[5]\nt.pprint()"
            ],
            "outputs": [],
            "metadata": {
            },
            "execution_count": 1,
            "cell_type": "code"
        },
        {
            "source": [
                "t = BSTree()\nfor x in [10, 5, 15, 2, 17]:\n    t.add(x)\nt.pprint()"
            ],
            "outputs": [],
            "metadata": {
            },
            "execution_count": 1,
            "cell_type": "code"
        },
        {
            "source": [
                "del t[15]\nt.pprint()"
            ],
            "outputs": [],
            "metadata": {
            },
            "execution_count": 1,
            "cell_type": "code"
        },
        {
            "source": [
                "t = BSTree()\nfor x in [10, 5, 15, 2, 17]:\n    t.add(x)\nt.pprint()"
            ],
            "outputs": [],
            "metadata": {
            },
            "execution_count": 1,
            "cell_type": "code"
        },
        {
            "source": [
                "del t[10]\nt.pprint()"
            ],
            "outputs": [],
            "metadata": {
            },
            "execution_count": 1,
            "cell_type": "code"
        },
        {
            "source": [
                "class BSTree(BSTree):\n    def __delitem__(self, val):\n    # fully working delete\n    assert(val in self)\n    pass"
            ],
            "outputs": [],
            "metadata": {
            },
            "execution_count": 1,
            "cell_type": "code"
        },
        {
            "source": [
                "t = BSTree()\nfor x in [10, 5, 2, 7, 9, 8, 1, 15, 12, 18]:\n    t.add(x)\nt.pprint()"
            ],
            "outputs": [],
            "metadata": {
            },
            "execution_count": 1,
            "cell_type": "code"
        },
        {
            "source": [
                "del t[15]\nt.pprint()"
            ],
            "outputs": [],
            "metadata": {
            },
            "execution_count": 1,
            "cell_type": "code"
        },
        {
            "source": [
                "t = BSTree()\nfor x in [10, 5, 2, 7, 9, 8, 1, 15, 12, 18]:\n    t.add(x)\nt.pprint()"
            ],
            "outputs": [],
            "metadata": {
            },
            "execution_count": 1,
            "cell_type": "code"
        },
        {
            "source": [
                "del t[5]\nt.pprint()"
            ],
            "outputs": [],
            "metadata": {
            },
            "execution_count": 1,
            "cell_type": "code"
        },
        {
            "source": [
                "t = BSTree()\nfor x in [10, 5, 2, 7, 9, 8, 1, 15, 12, 18]:\n    t.add(x)\nt.pprint()"
            ],
            "outputs": [],
            "metadata": {
            },
            "execution_count": 1,
            "cell_type": "code"
        },
        {
            "source": [
                "del t[10]\nt.pprint()"
            ],
            "outputs": [],
            "metadata": {
            },
            "execution_count": 1,
            "cell_type": "code"
        },
        {
            "source": [
                "###### Iteration / Traversal\n\n"
            ],
            "metadata": {
            },
            "cell_type": "markdown"
        },
        {
            "source": [
                "class BSTree(BSTree):\n    def __iter__(self):\n    pass"
            ],
            "outputs": [],
            "metadata": {
            },
            "execution_count": 1,
            "cell_type": "code"
        },
        {
            "source": [
                "import random\nt = BSTree()\nvals = list(range(20))\nrandom.shuffle(vals)\nfor x in vals:\n    t.add(x)\nfor x in t:\n    print(x)"
            ],
            "outputs": [],
            "metadata": {
            },
            "execution_count": 1,
            "cell_type": "code"
        },
        {
            "source": [
                "#### Balanced BS Tree: AVL Tree\n\n"
            ],
            "metadata": {
            },
            "cell_type": "markdown"
        },
        {
            "source": [
                "##### Agenda\n\n"
            ],
            "metadata": {
            },
            "cell_type": "markdown"
        },
        {
            "source": [
                "1.  Motives\n2.  \"Balanced\" binary trees\n3.  Essential mechanic: rotation\n4.  Out-of-balance scenarios & rotation recipes\n5.  Generalized AVL rebalancing (insertion)\n6.  Rebalancing on removal\n\n"
            ],
            "metadata": {
            },
            "cell_type": "markdown"
        },
        {
            "source": [
                "##### 1.  Motives\n\n"
            ],
            "metadata": {
            },
            "cell_type": "markdown"
        },
        {
            "source": [
                "class BSTree:\n    class Node:\n    def __init__(self, val, left=None, right=None):\n    self.val = val\n    self.left = left\n    self.right = right\n\n    def __init__(self):\n    self.size = 0\n    self.root = None\n\n    def add(self, val):\n    assert(val not in self)\n    def add_rec(node):\n    if not node:\n    return BSTree.Node(val)\n    elif val < node.val:\n    node.left = add_rec(node.left)\n    return node\n    else:\n    node.right = add_rec(node.right)\n    return node\n    self.root = add_rec(self.root)\n    self.size += 1\n\n    def __contains__(self, val):\n    def contains_rec(node):\n    if not node:\n    return False\n    elif val < node.val:\n    return contains_rec(node.left)\n    elif val > node.val:\n    return contains_rec(node.right)\n    else:\n    return True\n    return contains_rec(self.root)\n\n    def __len__(self):\n    return self.size\n\n    def __delitem__(self, val):\n    assert(val in self)\n    def delitem_rec(node):\n    if val < node.val:\n    node.left = delitem_rec(node.left)\n    return node\n    elif val > node.val:\n    node.right = delitem_rec(node.right)\n    return node\n    else:\n    if not node.left and not node.right:\n    return None\n    elif node.left and not node.right:\n    return node.left\n    elif node.right and not node.left:\n    return node.right\n    else:\n    # remove the largest value from the left subtree as a replacement\n    # for the root value of this tree\n    t = node.left\n    if not t.right:\n    node.val = t.val\n    node.left = t.left\n    else:\n    n = t\n    while n.right.right:\n    n = n.right\n    t = n.right\n    n.right = t.left\n    node.val = t.val\n    return node\n\n    self.root = delitem_rec(self.root)\n    self.size -= 1\n\n    def pprint(self, width=64):\n    \"\"\"Attempts to pretty-print this tree's contents.\"\"\"\n    height = self.height()\n    nodes  = [(self.root, 0)]\n    prev_level = 0\n    repr_str = ''\n    while nodes:\n    n,level = nodes.pop(0)\n    if prev_level != level:\n    prev_level = level\n    repr_str += '\\n'\n    if not n:\n    if level < height-1:\n    nodes.extend([(None, level+1), (None, level+1)])\n    repr_str += '{val:^{width}}'.format(val='-', width=width//2**level)\n    elif n:\n    if n.left or level < height-1:\n    nodes.append((n.left, level+1))\n    if n.right or level < height-1:\n    nodes.append((n.right, level+1))\n    repr_str += '{val:^{width}}'.format(val=n.val, width=width//2**level)\n    print(repr_str)\n\n    def height(self):\n    \"\"\"Returns the height of the longest branch of the tree.\"\"\"\n    def height_rec(t):\n    if not t:\n    return 0\n    else:\n    return max(1+height_rec(t.left), 1+height_rec(t.right))\n    return height_rec(self.root)"
            ],
            "outputs": [],
            "metadata": {
            },
            "execution_count": 1,
            "cell_type": "code"
        },
        {
            "source": [
                "t = BSTree()\nfor x in range(6):\n    t.add(x)\nt.pprint()"
            ],
            "outputs": [],
            "metadata": {
            },
            "execution_count": 1,
            "cell_type": "code"
        },
        {
            "source": [
                "import sys\nsys.setrecursionlimit(100)\n\nt = BSTree()\nfor x in range(100):\n    t.add(x)"
            ],
            "outputs": [],
            "metadata": {
            },
            "execution_count": 1,
            "cell_type": "code"
        },
        {
            "source": [
                "##### 1.  \"Balanced\" binary trees\n\n"
            ],
            "metadata": {
            },
            "cell_type": "markdown"
        },
        {
            "source": [
                "##### 1.  Essential mechanic: rotation\n\n"
            ],
            "metadata": {
            },
            "cell_type": "markdown"
        },
        {
            "source": [
                "class AVLTree(BSTree):\n    class Node:\n    def __init__(self, val, left=None, right=None):\n    self.val = val\n    self.left = left\n    self.right = right\n\n    def rotate_right(self):\n    pass\n\n    def add(self, val):\n    assert(val not in self)\n    def add_rec(node):\n    if not node:\n    return AVLTree.Node(val)\n    elif val < node.val:\n    node.left = add_rec(node.left)\n    return node\n    else:\n    node.right = add_rec(node.right)\n    return node\n    self.root = add_rec(self.root)\n    self.size += 1"
            ],
            "outputs": [],
            "metadata": {
            },
            "execution_count": 1,
            "cell_type": "code"
        },
        {
            "source": [
                "t = AVLTree()\nfor x in range(6, 0, -1):\n    t.add(x)\nt.pprint()"
            ],
            "outputs": [],
            "metadata": {
            },
            "execution_count": 1,
            "cell_type": "code"
        },
        {
            "source": [
                "t.root.rotate_right()\nt.pprint()"
            ],
            "outputs": [],
            "metadata": {
            },
            "execution_count": 1,
            "cell_type": "code"
        },
        {
            "source": [
                "t.root.rotate_right()\nt.pprint()"
            ],
            "outputs": [],
            "metadata": {
            },
            "execution_count": 1,
            "cell_type": "code"
        },
        {
            "source": [
                "t.root.left.rotate_right()\nt.pprint()"
            ],
            "outputs": [],
            "metadata": {
            },
            "execution_count": 1,
            "cell_type": "code"
        },
        {
            "source": [
                "class AVLTree(BSTree):\n    class Node:\n    def __init__(self, val, left=None, right=None):\n    self.val = val\n    self.left = left\n    self.right = right\n\n    def rotate_right(self):\n    n = self.left\n    self.val, n.val = n.val, self.val\n    self.left, n.left, self.right, n.right = n.left, n.right, n, self.right\n\n    @staticmethod\n    def height(n):\n    if not n:\n    return 0\n    else:\n    return max(1+AVLTree.Node.height(n.left), 1+AVLTree.Node.height(n.right))\n\n    def add(self, val):\n    assert(val not in self)\n    def add_rec(node):\n    if not node:\n    return AVLTree.Node(val)\n    elif val < node.val:\n    node.left = add_rec(node.left)\n    else:\n    node.right = add_rec(node.right)\n    # detect and fix imbalance\n    self.root = add_rec(self.root)\n    self.size += 1"
            ],
            "outputs": [],
            "metadata": {
            },
            "execution_count": 1,
            "cell_type": "code"
        },
        {
            "source": [
                "val = 50\nt = AVLTree()"
            ],
            "outputs": [],
            "metadata": {
            },
            "execution_count": 1,
            "cell_type": "code"
        },
        {
            "source": [
                "# (evaluate multiple times with ctrl-enter)\nt.add(val)\nval -= 1\nt.pprint()"
            ],
            "outputs": [],
            "metadata": {
            },
            "execution_count": 1,
            "cell_type": "code"
        },
        {
            "source": [
                "val = 0\nt = AVLTree()"
            ],
            "outputs": [],
            "metadata": {
            },
            "execution_count": 1,
            "cell_type": "code"
        },
        {
            "source": [
                "# (evaluate multiple times with ctrl-enter)\nt.add(val)\nval += 1\nt.pprint()"
            ],
            "outputs": [],
            "metadata": {
            },
            "execution_count": 1,
            "cell_type": "code"
        },
        {
            "source": [
                "##### 1.  \"Out-of-balance\" scenarios & rotation recipes\n\n"
            ],
            "metadata": {
            },
            "cell_type": "markdown"
        },
        {
            "source": [
                "# \"left-left\" scenario\nt = BSTree()\nfor x in [3, 2, 1]:\n    t.add(x)\nt.pprint()"
            ],
            "outputs": [],
            "metadata": {
            },
            "execution_count": 1,
            "cell_type": "code"
        },
        {
            "source": [
                "# \"left-right\" scenario\nt = BSTree()\nfor x in [3, 1, 2]:\n    t.add(x)\nt.pprint()"
            ],
            "outputs": [],
            "metadata": {
            },
            "execution_count": 1,
            "cell_type": "code"
        },
        {
            "source": [
                "# \"right-right\" scenario\nt = BSTree()\nfor x in [1, 2, 3]:\n    t.add(x)\nt.pprint()"
            ],
            "outputs": [],
            "metadata": {
            },
            "execution_count": 1,
            "cell_type": "code"
        },
        {
            "source": [
                "# \"right-left\" scenario\nt = BSTree()\nfor x in [1, 3, 2]:\n    t.add(x)\nt.pprint()"
            ],
            "outputs": [],
            "metadata": {
            },
            "execution_count": 1,
            "cell_type": "code"
        },
        {
            "source": [
                "##### 1.  Generalized AVL rebalancing (insertion)\n\n"
            ],
            "metadata": {
            },
            "cell_type": "markdown"
        },
        {
            "source": [
                "class AVLTree(BSTree):\n    class Node:\n    def __init__(self, val, left=None, right=None):\n    self.val = val\n    self.left = left\n    self.right = right\n\n    def rotate_right(self):\n    n = self.left\n    self.val, n.val = n.val, self.val\n    self.left, n.left, self.right, n.right = n.left, n.right, n, self.right\n\n    def rotate_left(self):\n    pass\n\n    @staticmethod\n    def height(n):\n    if not n:\n    return 0\n    else:\n    return max(1+AVLTree.Node.height(n.left), 1+AVLTree.Node.height(n.right))\n\n    @staticmethod\n    def rebalance(t):\n    if AVLTree.Node.height(t.left) > AVLTree.Node.height(t.right):\n    if AVLTree.Node.height(t.left.left) >= AVLTree.Node.height(t.left.right):\n    # left-left\n    print('left-left imbalance detected')\n    # fix?\n    else:\n    # left-right\n    print('left-right imbalance detected')\n    # fix?\n    else:\n    # right branch imbalance tests needed\n    pass\n\n    def add(self, val):\n    assert(val not in self)\n    def add_rec(node):\n    if not node:\n    return AVLTree.Node(val)\n    elif val < node.val:\n    node.left = add_rec(node.left)\n    else:\n    node.right = add_rec(node.right)\n    if False: # detect imbalance\n    AVLTree.rebalance(node)\n    return node\n    self.root = add_rec(self.root)\n    self.size += 1"
            ],
            "outputs": [],
            "metadata": {
            },
            "execution_count": 1,
            "cell_type": "code"
        },
        {
            "source": [
                "t = AVLTree()\nfor x in [10, 5, 1]:\n    t.add(x)\nt.pprint()"
            ],
            "outputs": [],
            "metadata": {
            },
            "execution_count": 1,
            "cell_type": "code"
        },
        {
            "source": [
                "# broken!\nt = AVLTree()\nfor x in [10, 5, 1, 2, 3]:\n    t.add(x)\nt.pprint()"
            ],
            "outputs": [],
            "metadata": {
            },
            "execution_count": 1,
            "cell_type": "code"
        },
        {
            "source": [
                "##### 1.  Rebalancing on removal\n\n"
            ],
            "metadata": {
            },
            "cell_type": "markdown"
        },
        {
            "source": [
                "class AVLTree(BSTree):\n    class Node:\n    def __init__(self, val, left=None, right=None):\n    self.val = val\n    self.left = left\n    self.right = right\n\n    def rotate_right(self):\n    n = self.left\n    self.val, n.val = n.val, self.val\n    self.left, n.left, self.right, n.right = n.left, n.right, n, self.right\n\n    def rotate_left(self):\n    pass\n\n    @staticmethod\n    def height(n):\n    if not n:\n    return 0\n    else:\n    return max(1+AVLTree.Node.height(n.left), 1+AVLTree.Node.height(n.right))\n\n    @staticmethod\n    def rebalance(t):\n    if AVLTree.Node.height(t.left) > AVLTree.Node.height(t.right):\n    if AVLTree.Node.height(t.left.left) >= AVLTree.Node.height(t.left.right):\n    # left-left\n    print('left-left imbalance detected')\n    t.rotate_right()\n    else:\n    # left-right\n    print('left-right imbalance detected')\n    t.left.rotate_left()\n    t.rotate_right()\n    else:\n    pass\n\n    def add(self, val):\n    assert(val not in self)\n    def add_rec(node):\n    if not node:\n    return AVLTree.Node(val)\n    elif val < node.val:\n    node.left = add_rec(node.left)\n    else:\n    node.right = add_rec(node.right)\n    if abs(AVLTree.Node.height(node.left) - AVLTree.Node.height(node.right)) >= 2:\n    AVLTree.rebalance(node)\n    return node\n    self.root = add_rec(self.root)\n    self.size += 1\n\n    def __delitem__(self, val):\n    assert(val in self)\n    def delitem_rec(node):\n    if val < node.val:\n    node.left = delitem_rec(node.left)\n    elif val > node.val:\n    node.right = delitem_rec(node.right)\n    else:\n    if not node.left and not node.right:\n    return None\n    elif node.left and not node.right:\n    return node.left\n    elif node.right and not node.left:\n    return node.right\n    else:\n    # remove the largest value from the left subtree (t) as a replacement\n    # for the root value of this tree\n    t = node.left\n    if not t.right:\n    node.val = t.val\n    node.left = t.left\n    else:\n    n = t\n    while n.right.right:\n    n = n.right\n    t = n.right\n    n.right = t.left\n    node.val = t.val\n    # detect and fix imbalance\n    return node\n\n    self.root = delitem_rec(self.root)\n    self.size -= 1"
            ],
            "outputs": [],
            "metadata": {
            },
            "execution_count": 1,
            "cell_type": "code"
        },
        {
            "source": [
                "t = AVLTree()\nfor x in [10, 5, 15, 2]:\n    t.add(x)\nt.pprint()"
            ],
            "outputs": [],
            "metadata": {
            },
            "execution_count": 1,
            "cell_type": "code"
        },
        {
            "source": [
                "del t[15]\nt.pprint()"
            ],
            "outputs": [],
            "metadata": {
            },
            "execution_count": 1,
            "cell_type": "code"
        },
        {
            "source": [
                "t = AVLTree()\nfor x in range(31, 0, -1):\n    t.add(x)\nt.pprint()"
            ],
            "outputs": [],
            "metadata": {
            },
            "execution_count": 1,
            "cell_type": "code"
        },
        {
            "source": [
                "del t[15]\ndel t[14]\nt.pprint()"
            ],
            "outputs": [],
            "metadata": {
            },
            "execution_count": 1,
            "cell_type": "code"
        },
        {
            "source": [
                "del t[16]\nt.pprint()"
            ],
            "outputs": [],
            "metadata": {
            },
            "execution_count": 1,
            "cell_type": "code"
        },
        {
            "source": [
                "#### Hashtables\n\n"
            ],
            "metadata": {
            },
            "cell_type": "markdown"
        },
        {
            "source": [
                "##### Agenda\n\n"
            ],
            "metadata": {
            },
            "cell_type": "markdown"
        },
        {
            "source": [
                "-   Discussion: pros/cons of array-backed and linked structures\n-   Comparison to `set` and `dict`\n-   The *map* ADT\n-   Direct lookups via *Hashing*\n-   Hashtables\n    -   Collisions and the \"Birthday problem\"\n\n-   Runtime analysis & Discussion\n\n"
            ],
            "metadata": {
            },
            "cell_type": "markdown"
        },
        {
            "source": [
                "##### Discussion: pros/cons of array-backed and linked structures\n\n"
            ],
            "metadata": {
            },
            "cell_type": "markdown"
        },
        {
            "source": [
                "Between the array-backed and linked list we have:\n\n1.  $O(1)$ indexing (array-backed)\n2.  $O(1)$ appending (array-backed & linked)\n3.  $O(1)$ insertion/deletion without indexing (linked)\n4.  $O(N)$ linear search (unsorted)\n5.  $O(\\log N)$ binary search, when sorted (only array-backed lists)\n\n"
            ],
            "metadata": {
            },
            "cell_type": "markdown"
        },
        {
            "source": [
                "##### Comparison to `set` and `dict`\n\n"
            ],
            "metadata": {
            },
            "cell_type": "markdown"
        },
        {
            "source": [
                "The `set` and `dict` types don't support positional access (i.e., by\nindex), but do support lookup/search. How fast do they fare compared to\nlists?\n\n"
            ],
            "metadata": {
            },
            "cell_type": "markdown"
        },
        {
            "source": [
                "import timeit\n\ndef lin_search(lst, x):\n    return x in lst\n\ndef bin_search(lst, x):\n    # assumes lst is sorted\n    low = 0\n    hi  = len(lst)-1\n    while low <= hi:\n    mid = (low + hi) // 2\n    if x < lst[mid]:\n    hi  = mid - 1\n    elif x < lst[mid]:\n    low = mid + 1\n    else:\n    return True\n    else:\n    return False\n\ndef set_search(st, x):\n    return x in st\n\n\ndef dict_search(dct, x):\n    return x in dct"
            ],
            "outputs": [],
            "metadata": {
            },
            "execution_count": 1,
            "cell_type": "code"
        },
        {
            "source": [
                "%matplotlib inline\nimport matplotlib.pyplot as plt\nimport numpy as np\nimport random\n\nns = np.linspace(100, 10_000, 50, dtype=int)\n\nts_linsearch = [timeit.timeit('lin_search(lst, lst[-1])',\n                                setup='lst = list(range({})); random.shuffle(lst)'.format(n),\n                                globals=globals(),\n                                number=100)\n    for n in ns]\n\nts_binsearch = [timeit.timeit('bin_search(lst, 0)',\n                                setup='lst = list(range({}))'.format(n),\n                                globals=globals(),\n                                number=100)\n    for n in ns]\n\n\nts_setsearch = [timeit.timeit(#'set_search(st, 0)',\n                                'set_search(st, {})'.format(random.randrange(n)),\n                                setup='lst = list(range({})); random.shuffle(lst);'\n    'st = set(lst)'.format(n),\n                                globals=globals(),\n                                number=100)\n    for n in ns]\n\nts_dctsearch = [timeit.timeit(#'dict_search(dct, 0)',\n                                'dict_search(dct, {})'.format(random.randrange(n)),\n                                setup='lst = list(range({})); random.shuffle(lst);'\n    'dct = {{x:x for x in lst}}'.format(n),\n                                globals=globals(),\n                                number=100)\n    for n in ns]"
            ],
            "outputs": [],
            "metadata": {
            },
            "execution_count": 1,
            "cell_type": "code"
        },
        {
            "source": [
                "plt.plot(ns, ts_linsearch, 'or')\nplt.plot(ns, ts_binsearch, 'sg')\nplt.plot(ns, ts_setsearch, 'db')\nplt.plot(ns, ts_dctsearch, 'om');"
            ],
            "outputs": [],
            "metadata": {
            },
            "execution_count": 1,
            "cell_type": "code"
        },
        {
            "source": [
                "![img](c330ab22e12845d0448e5bd0545018bfe8504f19.png)\n\nIt looks like sets and dictionaries support lookup in constant time!\nHow?!\n\n"
            ],
            "metadata": {
            },
            "cell_type": "markdown"
        },
        {
            "source": [
                "##### The `map` ADT\n\n"
            ],
            "metadata": {
            },
            "cell_type": "markdown"
        },
        {
            "source": [
                "We will focus next on the \"*map*\" abstract data type (aka \"associative\narray\" or \"dictionary\"), which is used to associate keys (which must be\nunique) with values. Ipython's `dict` type is an implementation of the\nmap ADT.\n\nGiven an implementation of a map, it is trivial to implement a *set* on\ntop of it (how?).\n\nHere's a simple map API:\n\n"
            ],
            "metadata": {
            },
            "cell_type": "markdown"
        },
        {
            "source": [
                "class MapDS:\n    def __init__(self):\n    self.data = {}\n\n    def __setitem__(self, key, value):\n    self.data[key] = value\n\n\n\n    def __getitem__(self, key):\n    return self.data[key]\n\n    def __contains__(self, key):\n    return self.data.contains(key)"
            ],
            "outputs": [],
            "metadata": {
            },
            "execution_count": 1,
            "cell_type": "code"
        },
        {
            "source": [
                "m = MapDS()\nm['batman'] = 'bruce wayne'\nm['superman'] = 'clark kent'\nm['spiderman'] = 'peter parker'"
            ],
            "outputs": [],
            "metadata": {
            },
            "execution_count": 1,
            "cell_type": "code"
        },
        {
            "source": [
                "m['batman']"
            ],
            "outputs": [],
            "metadata": {
            },
            "execution_count": 1,
            "cell_type": "code"
        },
        {
            "source": [
                "    'bruce wayne'\n\n"
            ],
            "metadata": {
            },
            "cell_type": "markdown"
        },
        {
            "source": [
                "m['batman'] = 'tony stark'"
            ],
            "outputs": [],
            "metadata": {
            },
            "execution_count": 1,
            "cell_type": "code"
        },
        {
            "source": [
                "m['batman']"
            ],
            "outputs": [],
            "metadata": {
            },
            "execution_count": 1,
            "cell_type": "code"
        },
        {
            "source": [
                "    'tony stark'\n\nHow do we make the leap from linear runtime complexity to constant?!\n\n"
            ],
            "metadata": {
            },
            "cell_type": "markdown"
        },
        {
            "source": [
                "##### Direct lookups via *Hashing*\n\n"
            ],
            "metadata": {
            },
            "cell_type": "markdown"
        },
        {
            "source": [
                "Hashes (a.k.a. hash codes or hash values) are simply numerical values\ncomputed for objects.\n\n"
            ],
            "metadata": {
            },
            "cell_type": "markdown"
        },
        {
            "source": [
                "hash('hello')"
            ],
            "outputs": [],
            "metadata": {
            },
            "execution_count": 1,
            "cell_type": "code"
        },
        {
            "source": [
                "    -954384285558724197\n\n"
            ],
            "metadata": {
            },
            "cell_type": "markdown"
        },
        {
            "source": [
                "hash('batman')"
            ],
            "outputs": [],
            "metadata": {
            },
            "execution_count": 1,
            "cell_type": "code"
        },
        {
            "source": [
                "    5465486877337622348\n\n"
            ],
            "metadata": {
            },
            "cell_type": "markdown"
        },
        {
            "source": [
                "hash('batmen')"
            ],
            "outputs": [],
            "metadata": {
            },
            "execution_count": 1,
            "cell_type": "code"
        },
        {
            "source": [
                "    8014717029909393586\n\n"
            ],
            "metadata": {
            },
            "cell_type": "markdown"
        },
        {
            "source": [
                "[hash(s) for s in ['different', 'objects', 'have', 'very', 'different', 'hashes']]"
            ],
            "outputs": [],
            "metadata": {
            },
            "execution_count": 1,
            "cell_type": "code"
        },
        {
            "source": [
                "    [2429629120202328647,\n       8372779892654583019,\n       -8906997482930836953,\n       853381216711768263,\n       2429629120202328647,\n       7225739097362972930]\n\n"
            ],
            "metadata": {
            },
            "cell_type": "markdown"
        },
        {
            "source": [
                "[hash(s)%100 for s in ['different', 'objects', 'have', 'very', 'different', 'hashes']]"
            ],
            "outputs": [],
            "metadata": {
            },
            "execution_count": 1,
            "cell_type": "code"
        },
        {
            "source": [
                "    [47, 19, 47, 63, 47, 30]\n\n"
            ],
            "metadata": {
            },
            "cell_type": "markdown"
        },
        {
            "source": [
                "##### Hashtables\n\n"
            ],
            "metadata": {
            },
            "cell_type": "markdown"
        },
        {
            "source": [
                "class Hashtable:\n    def __init__(self, n_buckets):\n    self.buckets = [[]] * n_buckets\n\n    def __setitem__(self, key, val):\n    h = hash(key)\n    bucket = self.buckets[h % len(self.buckets)]\n    for k in bucket:\n               if(k[0] == key):\n                   k[1] = val\n    bucket.append([key,val])\n\n    def __getitem__(self, key):\n    h = hash(key)\n    for k in self.buckets[h % len(self.buckets)]:\n    if(k[0] == key):\n                   return k[1]\n    raise Exception(f\"key {key} not in hashtable\")\n\n    def __contains__(self, key):\n    try:\n    _ = self[key]\n\n    return True\n    except:\n    return False"
            ],
            "outputs": [],
            "metadata": {
            },
            "execution_count": 1,
            "cell_type": "code"
        },
        {
            "source": [
                "ht = Hashtable(100)\nht['spiderman'] = 'peter parker'\nht['batman'] = 'bruce wayne'\nht['superman'] = 'clark kent'"
            ],
            "outputs": [],
            "metadata": {
            },
            "execution_count": 1,
            "cell_type": "code"
        },
        {
            "source": [
                "ht['spiderman']"
            ],
            "outputs": [],
            "metadata": {
            },
            "execution_count": 1,
            "cell_type": "code"
        },
        {
            "source": [
                "    'peter parker'\n\n"
            ],
            "metadata": {
            },
            "cell_type": "markdown"
        },
        {
            "source": [
                "ht['batman']"
            ],
            "outputs": [],
            "metadata": {
            },
            "execution_count": 1,
            "cell_type": "code"
        },
        {
            "source": [
                "    'bruce wayne'\n\n"
            ],
            "metadata": {
            },
            "cell_type": "markdown"
        },
        {
            "source": [
                "ht['superman']"
            ],
            "outputs": [],
            "metadata": {
            },
            "execution_count": 1,
            "cell_type": "code"
        },
        {
            "source": [
                "    'clark kent'\n\n"
            ],
            "metadata": {
            },
            "cell_type": "markdown"
        },
        {
            "source": [
                "ht['superman'] = 'bob'\nht['superman']"
            ],
            "outputs": [],
            "metadata": {
            },
            "execution_count": 1,
            "cell_type": "code"
        },
        {
            "source": [
                "    'bob'\n\n"
            ],
            "metadata": {
            },
            "cell_type": "markdown"
        },
        {
            "source": [
                "##### On Collisions\n\n"
            ],
            "metadata": {
            },
            "cell_type": "markdown"
        },
        {
            "source": [
                "###### The \"Birthday Problem\"\n\n"
            ],
            "metadata": {
            },
            "cell_type": "markdown"
        },
        {
            "source": [
                "Problem statement: Given $N$ people at a party, how likely is it that at\nleast two people will have the same birthday?\n\n"
            ],
            "metadata": {
            },
            "cell_type": "markdown"
        },
        {
            "source": [
                "def birthday_p(n_people):\n    p_inv = 1\n    for n in range(365, 365-n_people, -1):\n    p_inv *= n / 365\n    return 1 - p_inv"
            ],
            "outputs": [],
            "metadata": {
            },
            "execution_count": 1,
            "cell_type": "code"
        },
        {
            "source": [
                "birthday_p(3)"
            ],
            "outputs": [],
            "metadata": {
            },
            "execution_count": 1,
            "cell_type": "code"
        },
        {
            "source": [
                "    0.008204165884781345\n\n"
            ],
            "metadata": {
            },
            "cell_type": "markdown"
        },
        {
            "source": [
                "1-364/365*363/365"
            ],
            "outputs": [],
            "metadata": {
            },
            "execution_count": 1,
            "cell_type": "code"
        },
        {
            "source": [
                "    0.008204165884781456\n\n"
            ],
            "metadata": {
            },
            "cell_type": "markdown"
        },
        {
            "source": [
                "n_people = range(1, 80)\nplt.plot(n_people, [birthday_p(n) for n in n_people]);"
            ],
            "outputs": [],
            "metadata": {
            },
            "execution_count": 1,
            "cell_type": "code"
        },
        {
            "source": [
                "![img](d764b2052716d768ffe045cf53c2b0c13c9c5cb6.png)\n\n"
            ],
            "metadata": {
            },
            "cell_type": "markdown"
        },
        {
            "source": [
                "###### General collision statistics\n\n"
            ],
            "metadata": {
            },
            "cell_type": "markdown"
        },
        {
            "source": [
                "Repeat the birthday problem, but with a given number of values and\n\"buckets\" that are allotted to hold them. How likely is it that two or\nmore values will map to the same bucket?\n\n"
            ],
            "metadata": {
            },
            "cell_type": "markdown"
        },
        {
            "source": [
                "def collision_p(n_values, n_buckets):\n    p_inv = 1\n    for n in range(n_buckets, n_buckets-n_values, -1):\n    p_inv *= n / n_buckets\n    return 1 - p_inv"
            ],
            "outputs": [],
            "metadata": {
            },
            "execution_count": 1,
            "cell_type": "code"
        },
        {
            "source": [
                "collision_p(23, 365) # same as birthday problem, for 23 people"
            ],
            "outputs": [],
            "metadata": {
            },
            "execution_count": 1,
            "cell_type": "code"
        },
        {
            "source": [
                "    0.5072972343239857\n\n"
            ],
            "metadata": {
            },
            "cell_type": "markdown"
        },
        {
            "source": [
                "collision_p(10, 100)"
            ],
            "outputs": [],
            "metadata": {
            },
            "execution_count": 1,
            "cell_type": "code"
        },
        {
            "source": [
                "    0.37184349044470544\n\n"
            ],
            "metadata": {
            },
            "cell_type": "markdown"
        },
        {
            "source": [
                "collision_p(100, 1000)"
            ],
            "outputs": [],
            "metadata": {
            },
            "execution_count": 1,
            "cell_type": "code"
        },
        {
            "source": [
                "    0.9940410733677595\n\n"
            ],
            "metadata": {
            },
            "cell_type": "markdown"
        },
        {
            "source": [
                "# keeping number of values fixed at 100, but vary number of buckets: visualize probability of collision\nn_buckets = range(100, 100001, 1000)\nplt.plot(n_buckets, [collision_p(100, nb) for nb in n_buckets]);"
            ],
            "outputs": [],
            "metadata": {
            },
            "execution_count": 1,
            "cell_type": "code"
        },
        {
            "source": [
                "![img](8f125191a3fc94123848d21d57e9a7ae712b566a.png)\n\n"
            ],
            "metadata": {
            },
            "cell_type": "markdown"
        },
        {
            "source": [
                "def avg_num_collisions(n, b):\n    \"\"\"Returns the expected number of collisions for n values uniformly distributed\n    over a hashtable of b buckets. Based on (fairly) elementary probability theory.\n    (Pay attention in MATH 474!)\"\"\"\n    return n - b + b * (1 - 1/b)**n"
            ],
            "outputs": [],
            "metadata": {
            },
            "execution_count": 1,
            "cell_type": "code"
        },
        {
            "source": [
                "avg_num_collisions(28, 365)"
            ],
            "outputs": [],
            "metadata": {
            },
            "execution_count": 1,
            "cell_type": "code"
        },
        {
            "source": [
                "    1.011442040700615\n\n"
            ],
            "metadata": {
            },
            "cell_type": "markdown"
        },
        {
            "source": [
                "avg_num_collisions(1000, 1000)"
            ],
            "outputs": [],
            "metadata": {
            },
            "execution_count": 1,
            "cell_type": "code"
        },
        {
            "source": [
                "    367.6954247709637\n\n"
            ],
            "metadata": {
            },
            "cell_type": "markdown"
        },
        {
            "source": [
                "avg_num_collisions(1000, 10000)"
            ],
            "outputs": [],
            "metadata": {
            },
            "execution_count": 1,
            "cell_type": "code"
        },
        {
            "source": [
                "    48.32893558556316\n\n"
            ],
            "metadata": {
            },
            "cell_type": "markdown"
        },
        {
            "source": [
                "##### Dealing with Collisions\n\n"
            ],
            "metadata": {
            },
            "cell_type": "markdown"
        },
        {
            "source": [
                "To deal with collisions in a hashtable, we simply create a \"chain\" of\nkey/value pairs for each bucket where collisions occur. The chain needs\nto be a data structure that supports quick insertion &#x2014; natural choice:\nthe linked list!\n\n"
            ],
            "metadata": {
            },
            "cell_type": "markdown"
        },
        {
            "source": [
                "class Hashtable:\n    class Node:\n    def __init__(self, key, val, next=None):\n    self.key = key\n    self.val = val\n    self.next = next\n\n    def __init__(self, n_buckets=1000):\n    self.buckets = [None] * n_buckets\n\n    def __setitem__(self, key, val):\n    bidx = hash(key) % len(self.buckets)\n\n    def __getitem__(self, key):\n    bidx = hash(key) % len(self.buckets)\n\n    def __contains__(self, key):\n    try:\n    _ = self[key]\n    return True\n    except:\n    return False"
            ],
            "outputs": [],
            "metadata": {
            },
            "execution_count": 1,
            "cell_type": "code"
        },
        {
            "source": [
                "ht = Hashtable(1)\nht['batman'] = 'bruce wayne'\nht['superman'] = 'clark kent'\nht['spiderman'] = 'peter parker'"
            ],
            "outputs": [],
            "metadata": {
            },
            "execution_count": 1,
            "cell_type": "code"
        },
        {
            "source": [
                "ht['batman']"
            ],
            "outputs": [],
            "metadata": {
            },
            "execution_count": 1,
            "cell_type": "code"
        },
        {
            "source": [
                "ht['superman']"
            ],
            "outputs": [],
            "metadata": {
            },
            "execution_count": 1,
            "cell_type": "code"
        },
        {
            "source": [
                "ht['spiderman']"
            ],
            "outputs": [],
            "metadata": {
            },
            "execution_count": 1,
            "cell_type": "code"
        },
        {
            "source": [
                "def ht_search(ht, x):\n    return x in ht\n\ndef init_ht(size):\n    ht = Hashtable(size)\n    for x in range(size):\n    ht[x] = x\n    return ht\n\nns = np.linspace(100, 10_000, 50, dtype=int)\nts_htsearch = [timeit.timeit('ht_search(ht, 0)',\n                               #'ht_search(ht, {})'.format(random.randrange(n)),\n                               setup='ht = init_ht({})'.format(n),\n                               globals=globals(),\n                               number=100)\n                 for n in ns]"
            ],
            "outputs": [],
            "metadata": {
            },
            "execution_count": 1,
            "cell_type": "code"
        },
        {
            "source": [
                "plt.plot(ns, ts_binsearch, 'ro')\nplt.plot(ns, ts_htsearch, 'gs')\nplt.plot(ns, ts_dctsearch, 'b^');"
            ],
            "outputs": [],
            "metadata": {
            },
            "execution_count": 1,
            "cell_type": "code"
        },
        {
            "source": [
                "![img](6c2abfa5acc0a1b88f6131ede360364e10c9ce2a.png)\n\n"
            ],
            "metadata": {
            },
            "cell_type": "markdown"
        },
        {
            "source": [
                "##### Loose ends\n\n"
            ],
            "metadata": {
            },
            "cell_type": "markdown"
        },
        {
            "source": [
                "###### Iteration\n\n"
            ],
            "metadata": {
            },
            "cell_type": "markdown"
        },
        {
            "source": [
                "class Hashtable(Hashtable):\n    def __iter__(self):\n    pass"
            ],
            "outputs": [],
            "metadata": {
            },
            "execution_count": 1,
            "cell_type": "code"
        },
        {
            "source": [
                "ht = Hashtable(100)\nht['batman'] = 'bruce wayne'\nht['superman'] = 'clark kent'\nht['spiderman'] = 'peter parker'"
            ],
            "outputs": [],
            "metadata": {
            },
            "execution_count": 1,
            "cell_type": "code"
        },
        {
            "source": [
                "for k in ht:\n    print(k)"
            ],
            "outputs": [],
            "metadata": {
            },
            "execution_count": 1,
            "cell_type": "code"
        },
        {
            "source": [
                "    \n    TypeErrorTraceback (most recent call last)\n    <ipython-input-83-43c83c094cda> in <module>\n    ----> 1 for k in ht:\n            2     print(k)\n    \n    TypeError: iter() returned non-iterator of type 'NoneType'\n\n"
            ],
            "metadata": {
            },
            "cell_type": "markdown"
        },
        {
            "source": [
                "###### Key ordering\n\n"
            ],
            "metadata": {
            },
            "cell_type": "markdown"
        },
        {
            "source": [
                "ht = Hashtable()\nd = {}\nfor x in 'banana apple cat dog elephant'.split():\n    d[x[0]] = x\n    ht[x[0]] = x"
            ],
            "outputs": [],
            "metadata": {
            },
            "execution_count": 1,
            "cell_type": "code"
        },
        {
            "source": [
                "for k in d:\n    print(k, '=>', d[k])"
            ],
            "outputs": [],
            "metadata": {
            },
            "execution_count": 1,
            "cell_type": "code"
        },
        {
            "source": [
                "    b => banana\n    a => apple\n    c => cat\n    d => dog\n    e => elephant\n\n"
            ],
            "metadata": {
            },
            "cell_type": "markdown"
        },
        {
            "source": [
                "for k in ht:\n    print(k, '=>', ht[k])"
            ],
            "outputs": [],
            "metadata": {
            },
            "execution_count": 1,
            "cell_type": "code"
        },
        {
            "source": [
                "    \n    TypeErrorTraceback (most recent call last)\n    <ipython-input-86-74efa9b88228> in <module>\n    ----> 1 for k in ht:\n            2     print(k, '=>', ht[k])\n    \n    TypeError: iter() returned non-iterator of type 'NoneType'\n\n"
            ],
            "metadata": {
            },
            "cell_type": "markdown"
        },
        {
            "source": [
                "###### Load factor & Rehashing\n\n"
            ],
            "metadata": {
            },
            "cell_type": "markdown"
        },
        {
            "source": [
                "It is clear that the ratio of the number of keys to the number of\nbuckets (known as the **load factor**) can have a significant effect on\nthe performance of a hashtable.\n\nA fixed number of buckets doesn't make sense, as it might be wasteful\nfor a small number of keys, and also scale poorly to a relatively large\nnumber of keys. And it also doesn't make sense to have the user of the\nhashtable manually specify the number of buckets (which is a low-level\nimplementation detail).\n\nInstead: a practical hashtable implementation would start with a\nrelatively small number of buckets, and if/when the load factor\nincreases beyond some threshold (typically 1), it *dynamically increases\nthe number of buckets* (typically to twice the previous number). This\nrequires that all existing keys be *rehashed* to new buckets (why?).\n\n"
            ],
            "metadata": {
            },
            "cell_type": "markdown"
        },
        {
            "source": [
                "###### Uniform hashing\n\n"
            ],
            "metadata": {
            },
            "cell_type": "markdown"
        },
        {
            "source": [
                "Ultimately, the performance of a hashtable also heavily depends on\nhashcodes being *uniformly distributed* &#x2014; i.e., where, statistically,\neach bucket has roughly the same number of keys hashing to it. Designing\nhash functions that do this is an algorithmic problem that's outside the\nscope of this class!\n\n"
            ],
            "metadata": {
            },
            "cell_type": "markdown"
        },
        {
            "source": [
                "##### Runtime analysis & Discussion\n\n"
            ],
            "metadata": {
            },
            "cell_type": "markdown"
        },
        {
            "source": [
                "For a hashtable with $N$ key/value entries, we have the following\n*worst-case runtime complexity*:\n\n-   Insertion: $O(N)$\n-   Lookup: $O(N)$\n-   Deletion: $O(N)$\n\nAssuming uniform hashing and rehashing behavior described above, it is\nalso possible to prove that hashtables have $O(1)$ *amortized runtime\ncomplexity* for the above operations. Proving this is also beyond the\nscope of this class (but is demonstrated by empirical data).\n\n"
            ],
            "metadata": {
            },
            "cell_type": "markdown"
        },
        {
            "source": [
                "##### Vocabulary list\n\n"
            ],
            "metadata": {
            },
            "cell_type": "markdown"
        },
        {
            "source": [
                "-   hashtable\n-   hashing and hashes\n-   collision\n-   hash buckets & chains\n-   birthday problem\n-   load factor\n-   rehashing\n\n---\n\n"
            ],
            "metadata": {
            },
            "cell_type": "markdown"
        },
        {
            "source": [
                "##### Addendum: On *Hashability*\n\n"
            ],
            "metadata": {
            },
            "cell_type": "markdown"
        },
        {
            "source": [
                "Remember: *a given object must always hash to the same value*. This is\nrequired so that we can always map the object to the same hash bucket.\n\nHashcodes for collections of objects are usually computed from the\nhashcodes of its contents, e.g., the hash of a tuple is a function of\nthe hashes of the objects in said tuple:\n\n"
            ],
            "metadata": {
            },
            "cell_type": "markdown"
        },
        {
            "source": [
                "hash(('two', 'strings'))"
            ],
            "outputs": [],
            "metadata": {
            },
            "execution_count": 1,
            "cell_type": "code"
        },
        {
            "source": [
                "    4246727162495154915\n\nThis is useful. It allows us to use a tuple, for instance, as a key for\na hashtable.\n\nHowever, if the collection of objects is *mutable* &#x2014; i.e., we can\nalter its contents &#x2014; this means that we can potentially change its\nhashcode.\\`\n\nIf we were to use such a collection as a key in a hashtable, and alter\nthe collection after it's been assigned to a particular bucket, this\nleads to a serious problem: the collection may now be in the wrong\nbucket (as it was assigned to a bucket based on its original hashcode)!\n\nFor this reason, only immutable types are, by default, hashable in\nIpython. So while we can use integers, strings, and tuples as keys in\ndictionaries, lists (which are mutable) cannot be used. Indeed, Ipython\nmarks built-in mutable types as \"unhashable\", e.g.,\n\n"
            ],
            "metadata": {
            },
            "cell_type": "markdown"
        },
        {
            "source": [
                "hash([1, 2, 3])"
            ],
            "outputs": [],
            "metadata": {
            },
            "execution_count": 1,
            "cell_type": "code"
        },
        {
            "source": [
                "    \n    TypeErrorTraceback (most recent call last)\n    <ipython-input-88-84d65be9aa35> in <module>\n    ----> 1 hash([1, 2, 3])\n    \n    TypeError: unhashable type: 'list'\n\nThat said, Ipython does support hashing on instances of custom classes\n(which are mutable). This is because the default hash function\nimplementation does not rely on the contents of instances of custom\nclasses. E.g.,\n\n"
            ],
            "metadata": {
            },
            "cell_type": "markdown"
        },
        {
            "source": [
                "class Student:\n    def __init__(self, fname, lname):\n    self.fname = fname\n    self.lname = lname"
            ],
            "outputs": [],
            "metadata": {
            },
            "execution_count": 1,
            "cell_type": "code"
        },
        {
            "source": [
                "s = Student('John', 'Doe')\nhash(s)"
            ],
            "outputs": [],
            "metadata": {
            },
            "execution_count": 1,
            "cell_type": "code"
        },
        {
            "source": [
                "    298582137\n\n"
            ],
            "metadata": {
            },
            "cell_type": "markdown"
        },
        {
            "source": [
                "s.fname = 'Jane'\nhash(s) # same as before mutation"
            ],
            "outputs": [],
            "metadata": {
            },
            "execution_count": 1,
            "cell_type": "code"
        },
        {
            "source": [
                "    298582137\n\nWe can change the default behavior by providing our own hash function in\n`__hash__`, e.g.,\n\n"
            ],
            "metadata": {
            },
            "cell_type": "markdown"
        },
        {
            "source": [
                "class Student:\n    def __init__(self, fname, lname):\n    self.fname = fname\n    self.lname = lname\n\n    def __hash__(self):\n    return hash(self.fname) + hash(self.lname)"
            ],
            "outputs": [],
            "metadata": {
            },
            "execution_count": 1,
            "cell_type": "code"
        },
        {
            "source": [
                "s = Student('John', 'Doe')\nhash(s)"
            ],
            "outputs": [],
            "metadata": {
            },
            "execution_count": 1,
            "cell_type": "code"
        },
        {
            "source": [
                "    7828797879385466672\n\n"
            ],
            "metadata": {
            },
            "cell_type": "markdown"
        },
        {
            "source": [
                "s.fname = 'Jane'\nhash(s)"
            ],
            "outputs": [],
            "metadata": {
            },
            "execution_count": 1,
            "cell_type": "code"
        },
        {
            "source": [
                "    -7042091445038950747\n\nBut be careful: instances of this class are no longer suitable for use\nas keys in hashtables (or dictionaries), if you intend to mutate them\nafter using them as keys!\n\n"
            ],
            "metadata": {
            },
            "cell_type": "markdown"
        },
        {
            "source": [
                ""
            ],
            "outputs": [],
            "metadata": {
            },
            "execution_count": 1,
            "cell_type": "code"
        }
    ]
}